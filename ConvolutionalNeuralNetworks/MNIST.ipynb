{
 "cells": [
  {
   "cell_type": "markdown",
   "metadata": {},
   "source": [
    "## Setup"
   ]
  },
  {
   "cell_type": "code",
   "execution_count": 1,
   "metadata": {},
   "outputs": [],
   "source": [
    "# Python ≥3.5 is required\n",
    "import sys\n",
    "assert sys.version_info >= (3, 5)\n",
    "\n",
    "# Scikit-Learn ≥0.20 is required\n",
    "import sklearn\n",
    "assert sklearn.__version__ >= \"0.20\"\n",
    "\n",
    "# TensorFlow ≥2.0 is required\n",
    "import tensorflow as tf\n",
    "from tensorflow import keras\n",
    "assert tf.__version__ >= \"2.0\"\n",
    "\n",
    "# Common imports\n",
    "import numpy as np\n",
    "import os\n",
    "\n",
    "# to make this notebook's output stable across runs\n",
    "np.random.seed(42)\n",
    "tf.random.set_seed(42)\n",
    "\n",
    "# To plot pretty figures\n",
    "%matplotlib inline\n",
    "import matplotlib as mpl\n",
    "import matplotlib.pyplot as plt\n",
    "mpl.rc('axes', labelsize=14)\n",
    "mpl.rc('xtick', labelsize=12)\n",
    "mpl.rc('ytick', labelsize=12)\n",
    "\n",
    "# Where to save the figures\n",
    "PROJECT_ROOT_DIR = \".\"\n",
    "IMAGES_PATH = os.path.join(PROJECT_ROOT_DIR, \"images\")\n",
    "os.makedirs(IMAGES_PATH, exist_ok=True)\n",
    "\n",
    "def save_fig(fig_id, tight_layout=True, fig_extension=\"png\", resolution=300):\n",
    "    path = os.path.join(IMAGES_PATH, fig_id + \".\" + fig_extension)\n",
    "    print(\"Saving figure\", fig_id)\n",
    "    if tight_layout:\n",
    "        plt.tight_layout()\n",
    "    plt.savefig(path, format=fig_extension, dpi=resolution)"
   ]
  },
  {
   "cell_type": "markdown",
   "metadata": {},
   "source": [
    "## MNIST Dataset"
   ]
  },
  {
   "cell_type": "code",
   "execution_count": 2,
   "metadata": {},
   "outputs": [],
   "source": [
    "(X_train_full, y_train_full), (X_test, y_test) = keras.datasets.mnist.load_data()\n",
    "X_train_full = X_train_full / 255.\n",
    "X_test = X_test / 255.\n",
    "X_train, X_valid = X_train_full[:-5000], X_train_full[-5000:]\n",
    "y_train, y_valid = y_train_full[:-5000], y_train_full[-5000:]\n",
    "\n",
    "X_train = X_train[..., np.newaxis]\n",
    "X_valid = X_valid[..., np.newaxis]\n",
    "X_test = X_test[..., np.newaxis]"
   ]
  },
  {
   "cell_type": "code",
   "execution_count": 3,
   "metadata": {},
   "outputs": [
    {
     "name": "stdout",
     "output_type": "stream",
     "text": [
      "Epoch 1/10\n",
      "1719/1719 [==============================] - 17s 10ms/step - loss: 0.1955 - accuracy: 0.9405 - val_loss: 0.0463 - val_accuracy: 0.9874\n",
      "Epoch 2/10\n",
      "1719/1719 [==============================] - 17s 10ms/step - loss: 0.0787 - accuracy: 0.9758 - val_loss: 0.0428 - val_accuracy: 0.9886\n",
      "Epoch 3/10\n",
      "1719/1719 [==============================] - 17s 10ms/step - loss: 0.0610 - accuracy: 0.9813 - val_loss: 0.0368 - val_accuracy: 0.9908\n",
      "Epoch 4/10\n",
      "1719/1719 [==============================] - 17s 10ms/step - loss: 0.0501 - accuracy: 0.9847 - val_loss: 0.0357 - val_accuracy: 0.9916\n",
      "Epoch 5/10\n",
      "1719/1719 [==============================] - 17s 10ms/step - loss: 0.0411 - accuracy: 0.9872 - val_loss: 0.0297 - val_accuracy: 0.9920\n",
      "Epoch 6/10\n",
      "1719/1719 [==============================] - 17s 10ms/step - loss: 0.0360 - accuracy: 0.9880 - val_loss: 0.0378 - val_accuracy: 0.9912\n",
      "Epoch 7/10\n",
      "1719/1719 [==============================] - 17s 10ms/step - loss: 0.0326 - accuracy: 0.9897 - val_loss: 0.0365 - val_accuracy: 0.9914\n",
      "Epoch 8/10\n",
      "1719/1719 [==============================] - 17s 10ms/step - loss: 0.0289 - accuracy: 0.9906 - val_loss: 0.0418 - val_accuracy: 0.9920\n",
      "Epoch 9/10\n",
      "1719/1719 [==============================] - 17s 10ms/step - loss: 0.0267 - accuracy: 0.9915 - val_loss: 0.0387 - val_accuracy: 0.9918\n",
      "Epoch 10/10\n",
      "1719/1719 [==============================] - 17s 10ms/step - loss: 0.0225 - accuracy: 0.9925 - val_loss: 0.0360 - val_accuracy: 0.9916\n",
      "313/313 [==============================] - 1s 3ms/step - loss: 0.0288 - accuracy: 0.9917\n"
     ]
    },
    {
     "data": {
      "text/plain": [
       "[0.028797363862395287, 0.9916999936103821]"
      ]
     },
     "execution_count": 3,
     "metadata": {},
     "output_type": "execute_result"
    }
   ],
   "source": [
    "model = keras.models.Sequential([\n",
    "    keras.layers.Conv2D(32, kernel_size = 3, padding = \"same\", activation = \"relu\"),\n",
    "    keras.layers.Conv2D(64, kernel_size = 3, padding = \"same\", activation = \"relu\"),\n",
    "    keras.layers.MaxPool2D(),\n",
    "    keras.layers.Flatten(),\n",
    "    keras.layers.Dropout(0.25),\n",
    "    keras.layers.Dense(128, activation = \"relu\"),\n",
    "    keras.layers.Dropout(0.5),\n",
    "    keras.layers.Dense(10, activation = \"softmax\")\n",
    "       \n",
    "])\n",
    "\n",
    "model.compile(loss = \"sparse_categorical_crossentropy\", optimizer = \"nadam\",\n",
    "             metrics = [\"accuracy\"])\n",
    "\n",
    "model.fit(X_train, y_train, epochs = 10 , validation_data = (X_valid, y_valid))\n",
    "model.evaluate(X_test, y_test)"
   ]
  },
  {
   "cell_type": "code",
   "execution_count": null,
   "metadata": {},
   "outputs": [],
   "source": []
  }
 ],
 "metadata": {
  "kernelspec": {
   "display_name": "Python 3",
   "language": "python",
   "name": "python3"
  },
  "language_info": {
   "codemirror_mode": {
    "name": "ipython",
    "version": 3
   },
   "file_extension": ".py",
   "mimetype": "text/x-python",
   "name": "python",
   "nbconvert_exporter": "python",
   "pygments_lexer": "ipython3",
   "version": "3.8.3"
  }
 },
 "nbformat": 4,
 "nbformat_minor": 4
}
