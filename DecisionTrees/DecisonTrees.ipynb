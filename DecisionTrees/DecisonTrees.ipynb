{
 "cells": [
  {
   "cell_type": "code",
   "execution_count": 2,
   "metadata": {},
   "outputs": [],
   "source": [
    "# Python ≥3.5 is required\n",
    "import sys\n",
    "assert sys.version_info >= (3, 5)\n",
    "\n",
    "# Scikit-Learn ≥0.20 is required\n",
    "import sklearn\n",
    "assert sklearn.__version__ >= \"0.20\"\n",
    "\n",
    "# Common imports\n",
    "import numpy as np\n",
    "import os\n",
    "\n",
    "# to make this notebook's output stable across runs\n",
    "np.random.seed(42)\n",
    "\n",
    "# To plot pretty figures\n",
    "%matplotlib inline\n",
    "import matplotlib as mpl\n",
    "import matplotlib.pyplot as plt\n",
    "mpl.rc('axes', labelsize=14)\n",
    "mpl.rc('xtick', labelsize=12)\n",
    "mpl.rc('ytick', labelsize=12)\n",
    "\n",
    "# Where to save the figures\n",
    "PROJECT_ROOT_DIR = \".\"\n",
    "IMAGES_PATH = os.path.join(PROJECT_ROOT_DIR, \"images\")\n",
    "os.makedirs(IMAGES_PATH, exist_ok=True)\n",
    "\n",
    "def save_fig(fig_id, tight_layout=True, fig_extension=\"png\", resolution=300):\n",
    "    path = os.path.join(IMAGES_PATH, fig_id + \".\" + fig_extension)\n",
    "    print(\"Saving figure\", fig_id)\n",
    "    if tight_layout:\n",
    "        plt.tight_layout()\n",
    "    plt.savefig(path, format=fig_extension, dpi=resolution)"
   ]
  },
  {
   "cell_type": "markdown",
   "metadata": {},
   "source": [
    "**Training on Moons Dataset**"
   ]
  },
  {
   "cell_type": "markdown",
   "metadata": {},
   "source": [
    "Generating the moons dataset which a two intervening circles"
   ]
  },
  {
   "cell_type": "code",
   "execution_count": 3,
   "metadata": {},
   "outputs": [],
   "source": [
    "from sklearn.datasets import make_moons\n",
    "\n",
    "X,y = make_moons(n_samples = 10000, noise = 0.4, random_state = 42)"
   ]
  },
  {
   "cell_type": "code",
   "execution_count": 4,
   "metadata": {},
   "outputs": [],
   "source": [
    "from sklearn.model_selection import train_test_split\n",
    "\n",
    "X_train, X_test, y_train, y_test = train_test_split(X, y, test_size = 0.2, random_state = 42)"
   ]
  },
  {
   "cell_type": "code",
   "execution_count": 7,
   "metadata": {},
   "outputs": [
    {
     "name": "stdout",
     "output_type": "stream",
     "text": [
      "Fitting 3 folds for each of 294 candidates, totalling 882 fits\n"
     ]
    },
    {
     "name": "stderr",
     "output_type": "stream",
     "text": [
      "[Parallel(n_jobs=1)]: Using backend SequentialBackend with 1 concurrent workers.\n",
      "[Parallel(n_jobs=1)]: Done 882 out of 882 | elapsed:    7.3s finished\n"
     ]
    },
    {
     "data": {
      "text/plain": [
       "GridSearchCV(cv=3, error_score=nan,\n",
       "             estimator=DecisionTreeClassifier(ccp_alpha=0.0, class_weight=None,\n",
       "                                              criterion='gini', max_depth=None,\n",
       "                                              max_features=None,\n",
       "                                              max_leaf_nodes=None,\n",
       "                                              min_impurity_decrease=0.0,\n",
       "                                              min_impurity_split=None,\n",
       "                                              min_samples_leaf=1,\n",
       "                                              min_samples_split=2,\n",
       "                                              min_weight_fraction_leaf=0.0,\n",
       "                                              presort='deprecated',\n",
       "                                              random_state=42,\n",
       "                                              splitter='best'),\n",
       "             iid='deprecated', n_jobs=None,\n",
       "             param_grid={'max_leaf_nodes': [2, 3, 4, 5, 6, 7, 8, 9, 10, 11, 12,\n",
       "                                            13, 14, 15, 16, 17, 18, 19, 20, 21,\n",
       "                                            22, 23, 24, 25, 26, 27, 28, 29, 30,\n",
       "                                            31, ...],\n",
       "                         'min_samples_split': [2, 3, 4]},\n",
       "             pre_dispatch='2*n_jobs', refit=True, return_train_score=False,\n",
       "             scoring=None, verbose=1)"
      ]
     },
     "execution_count": 7,
     "metadata": {},
     "output_type": "execute_result"
    }
   ],
   "source": [
    "from sklearn.model_selection import GridSearchCV\n",
    "from sklearn.tree import DecisionTreeClassifier\n",
    "\n",
    "params = {'max_leaf_nodes': list(range(2,100)), 'min_samples_split': [2,3,4]}\n",
    "grid_search_cv = GridSearchCV(DecisionTreeClassifier(random_state = 42), params, verbose = 1, cv = 3)\n",
    "\n",
    "grid_search_cv.fit(X_train, y_train)"
   ]
  },
  {
   "cell_type": "code",
   "execution_count": 8,
   "metadata": {
    "scrolled": true
   },
   "outputs": [
    {
     "data": {
      "text/plain": [
       "DecisionTreeClassifier(ccp_alpha=0.0, class_weight=None, criterion='gini',\n",
       "                       max_depth=None, max_features=None, max_leaf_nodes=17,\n",
       "                       min_impurity_decrease=0.0, min_impurity_split=None,\n",
       "                       min_samples_leaf=1, min_samples_split=2,\n",
       "                       min_weight_fraction_leaf=0.0, presort='deprecated',\n",
       "                       random_state=42, splitter='best')"
      ]
     },
     "execution_count": 8,
     "metadata": {},
     "output_type": "execute_result"
    }
   ],
   "source": [
    "grid_search_cv.best_estimator_"
   ]
  },
  {
   "cell_type": "markdown",
   "metadata": {},
   "source": [
    "Visualization of how Decision Tree classified"
   ]
  },
  {
   "cell_type": "code",
   "execution_count": 31,
   "metadata": {},
   "outputs": [
    {
     "data": {
      "image/svg+xml": [
       "<?xml version=\"1.0\" encoding=\"UTF-8\" standalone=\"no\"?>\r\n",
       "<!DOCTYPE svg PUBLIC \"-//W3C//DTD SVG 1.1//EN\"\r\n",
       " \"http://www.w3.org/Graphics/SVG/1.1/DTD/svg11.dtd\">\r\n",
       "<!-- Generated by graphviz version 2.43.20200430.0238 (20200430.0238)\r\n",
       " -->\r\n",
       "<!-- Title: Tree Pages: 1 -->\r\n",
       "<svg width=\"1395pt\" height=\"789pt\"\r\n",
       " viewBox=\"0.00 0.00 1395.00 789.00\" xmlns=\"http://www.w3.org/2000/svg\" xmlns:xlink=\"http://www.w3.org/1999/xlink\">\r\n",
       "<g id=\"graph0\" class=\"graph\" transform=\"scale(1 1) rotate(0) translate(4 785)\">\r\n",
       "<title>Tree</title>\r\n",
       "<polygon fill=\"white\" stroke=\"transparent\" points=\"-4,4 -4,-785 1391,-785 1391,4 -4,4\"/>\r\n",
       "<!-- 0 -->\r\n",
       "<g id=\"node1\" class=\"node\">\r\n",
       "<title>0</title>\r\n",
       "<path fill=\"#fefeff\" stroke=\"black\" d=\"M828.5,-781C828.5,-781 706.5,-781 706.5,-781 700.5,-781 694.5,-775 694.5,-769 694.5,-769 694.5,-725 694.5,-725 694.5,-719 700.5,-713 706.5,-713 706.5,-713 828.5,-713 828.5,-713 834.5,-713 840.5,-719 840.5,-725 840.5,-725 840.5,-769 840.5,-769 840.5,-775 834.5,-781 828.5,-781\"/>\r\n",
       "<text text-anchor=\"middle\" x=\"767.5\" y=\"-765.8\" font-family=\"Helvetica,sans-Serif\" font-size=\"14.00\">X[1] &lt;= 0.296</text>\r\n",
       "<text text-anchor=\"middle\" x=\"767.5\" y=\"-750.8\" font-family=\"Helvetica,sans-Serif\" font-size=\"14.00\">gini = 0.5</text>\r\n",
       "<text text-anchor=\"middle\" x=\"767.5\" y=\"-735.8\" font-family=\"Helvetica,sans-Serif\" font-size=\"14.00\">samples = 8000</text>\r\n",
       "<text text-anchor=\"middle\" x=\"767.5\" y=\"-720.8\" font-family=\"Helvetica,sans-Serif\" font-size=\"14.00\">value = [3987, 4013]</text>\r\n",
       "</g>\r\n",
       "<!-- 1 -->\r\n",
       "<g id=\"node2\" class=\"node\">\r\n",
       "<title>1</title>\r\n",
       "<path fill=\"#78bced\" stroke=\"black\" d=\"M610.5,-677C610.5,-677 488.5,-677 488.5,-677 482.5,-677 476.5,-671 476.5,-665 476.5,-665 476.5,-621 476.5,-621 476.5,-615 482.5,-609 488.5,-609 488.5,-609 610.5,-609 610.5,-609 616.5,-609 622.5,-615 622.5,-621 622.5,-621 622.5,-665 622.5,-665 622.5,-671 616.5,-677 610.5,-677\"/>\r\n",
       "<text text-anchor=\"middle\" x=\"549.5\" y=\"-661.8\" font-family=\"Helvetica,sans-Serif\" font-size=\"14.00\">X[0] &lt;= &#45;0.476</text>\r\n",
       "<text text-anchor=\"middle\" x=\"549.5\" y=\"-646.8\" font-family=\"Helvetica,sans-Serif\" font-size=\"14.00\">gini = 0.367</text>\r\n",
       "<text text-anchor=\"middle\" x=\"549.5\" y=\"-631.8\" font-family=\"Helvetica,sans-Serif\" font-size=\"14.00\">samples = 4275</text>\r\n",
       "<text text-anchor=\"middle\" x=\"549.5\" y=\"-616.8\" font-family=\"Helvetica,sans-Serif\" font-size=\"14.00\">value = [1036, 3239]</text>\r\n",
       "</g>\r\n",
       "<!-- 0&#45;&gt;1 -->\r\n",
       "<g id=\"edge1\" class=\"edge\">\r\n",
       "<title>0&#45;&gt;1</title>\r\n",
       "<path fill=\"none\" stroke=\"black\" d=\"M696.72,-712.88C675.29,-702.86 651.6,-691.77 629.61,-681.48\"/>\r\n",
       "<polygon fill=\"black\" stroke=\"black\" points=\"630.84,-678.19 620.3,-677.12 627.87,-684.53 630.84,-678.19\"/>\r\n",
       "<text text-anchor=\"middle\" x=\"628.82\" y=\"-696.93\" font-family=\"Helvetica,sans-Serif\" font-size=\"14.00\">True</text>\r\n",
       "</g>\r\n",
       "<!-- 2 -->\r\n",
       "<g id=\"node23\" class=\"node\">\r\n",
       "<title>2</title>\r\n",
       "<path fill=\"#eca26d\" stroke=\"black\" d=\"M1036.5,-677C1036.5,-677 922.5,-677 922.5,-677 916.5,-677 910.5,-671 910.5,-665 910.5,-665 910.5,-621 910.5,-621 910.5,-615 916.5,-609 922.5,-609 922.5,-609 1036.5,-609 1036.5,-609 1042.5,-609 1048.5,-615 1048.5,-621 1048.5,-621 1048.5,-665 1048.5,-665 1048.5,-671 1042.5,-677 1036.5,-677\"/>\r\n",
       "<text text-anchor=\"middle\" x=\"979.5\" y=\"-661.8\" font-family=\"Helvetica,sans-Serif\" font-size=\"14.00\">X[0] &lt;= 1.452</text>\r\n",
       "<text text-anchor=\"middle\" x=\"979.5\" y=\"-646.8\" font-family=\"Helvetica,sans-Serif\" font-size=\"14.00\">gini = 0.329</text>\r\n",
       "<text text-anchor=\"middle\" x=\"979.5\" y=\"-631.8\" font-family=\"Helvetica,sans-Serif\" font-size=\"14.00\">samples = 3725</text>\r\n",
       "<text text-anchor=\"middle\" x=\"979.5\" y=\"-616.8\" font-family=\"Helvetica,sans-Serif\" font-size=\"14.00\">value = [2951, 774]</text>\r\n",
       "</g>\r\n",
       "<!-- 0&#45;&gt;2 -->\r\n",
       "<g id=\"edge22\" class=\"edge\">\r\n",
       "<title>0&#45;&gt;2</title>\r\n",
       "<path fill=\"none\" stroke=\"black\" d=\"M836.33,-712.88C857.17,-702.86 880.21,-691.77 901.6,-681.48\"/>\r\n",
       "<polygon fill=\"black\" stroke=\"black\" points=\"903.16,-684.61 910.65,-677.12 900.12,-678.31 903.16,-684.61\"/>\r\n",
       "<text text-anchor=\"middle\" x=\"902.39\" y=\"-697.02\" font-family=\"Helvetica,sans-Serif\" font-size=\"14.00\">False</text>\r\n",
       "</g>\r\n",
       "<!-- 3 -->\r\n",
       "<g id=\"node3\" class=\"node\">\r\n",
       "<title>3</title>\r\n",
       "<path fill=\"#e88f4f\" stroke=\"black\" d=\"M236.5,-573C236.5,-573 138.5,-573 138.5,-573 132.5,-573 126.5,-567 126.5,-561 126.5,-561 126.5,-517 126.5,-517 126.5,-511 132.5,-505 138.5,-505 138.5,-505 236.5,-505 236.5,-505 242.5,-505 248.5,-511 248.5,-517 248.5,-517 248.5,-561 248.5,-561 248.5,-567 242.5,-573 236.5,-573\"/>\r\n",
       "<text text-anchor=\"middle\" x=\"187.5\" y=\"-557.8\" font-family=\"Helvetica,sans-Serif\" font-size=\"14.00\">X[0] &lt;= &#45;0.764</text>\r\n",
       "<text text-anchor=\"middle\" x=\"187.5\" y=\"-542.8\" font-family=\"Helvetica,sans-Serif\" font-size=\"14.00\">gini = 0.183</text>\r\n",
       "<text text-anchor=\"middle\" x=\"187.5\" y=\"-527.8\" font-family=\"Helvetica,sans-Serif\" font-size=\"14.00\">samples = 472</text>\r\n",
       "<text text-anchor=\"middle\" x=\"187.5\" y=\"-512.8\" font-family=\"Helvetica,sans-Serif\" font-size=\"14.00\">value = [424, 48]</text>\r\n",
       "</g>\r\n",
       "<!-- 1&#45;&gt;3 -->\r\n",
       "<g id=\"edge2\" class=\"edge\">\r\n",
       "<title>1&#45;&gt;3</title>\r\n",
       "<path fill=\"none\" stroke=\"black\" d=\"M476.24,-621.36C412.71,-603.46 321.32,-577.71 258.46,-559.99\"/>\r\n",
       "<polygon fill=\"black\" stroke=\"black\" points=\"259.2,-556.57 248.63,-557.22 257.3,-563.3 259.2,-556.57\"/>\r\n",
       "</g>\r\n",
       "<!-- 4 -->\r\n",
       "<g id=\"node8\" class=\"node\">\r\n",
       "<title>4</title>\r\n",
       "<path fill=\"#5fb0ea\" stroke=\"black\" d=\"M606.5,-573C606.5,-573 492.5,-573 492.5,-573 486.5,-573 480.5,-567 480.5,-561 480.5,-561 480.5,-517 480.5,-517 480.5,-511 486.5,-505 492.5,-505 492.5,-505 606.5,-505 606.5,-505 612.5,-505 618.5,-511 618.5,-517 618.5,-517 618.5,-561 618.5,-561 618.5,-567 612.5,-573 606.5,-573\"/>\r\n",
       "<text text-anchor=\"middle\" x=\"549.5\" y=\"-557.8\" font-family=\"Helvetica,sans-Serif\" font-size=\"14.00\">X[1] &lt;= &#45;0.062</text>\r\n",
       "<text text-anchor=\"middle\" x=\"549.5\" y=\"-542.8\" font-family=\"Helvetica,sans-Serif\" font-size=\"14.00\">gini = 0.27</text>\r\n",
       "<text text-anchor=\"middle\" x=\"549.5\" y=\"-527.8\" font-family=\"Helvetica,sans-Serif\" font-size=\"14.00\">samples = 3803</text>\r\n",
       "<text text-anchor=\"middle\" x=\"549.5\" y=\"-512.8\" font-family=\"Helvetica,sans-Serif\" font-size=\"14.00\">value = [612, 3191]</text>\r\n",
       "</g>\r\n",
       "<!-- 1&#45;&gt;4 -->\r\n",
       "<g id=\"edge7\" class=\"edge\">\r\n",
       "<title>1&#45;&gt;4</title>\r\n",
       "<path fill=\"none\" stroke=\"black\" d=\"M549.5,-608.88C549.5,-600.78 549.5,-591.98 549.5,-583.47\"/>\r\n",
       "<polygon fill=\"black\" stroke=\"black\" points=\"553,-583.3 549.5,-573.3 546,-583.3 553,-583.3\"/>\r\n",
       "</g>\r\n",
       "<!-- 17 -->\r\n",
       "<g id=\"node4\" class=\"node\">\r\n",
       "<title>17</title>\r\n",
       "<path fill=\"#e5833d\" stroke=\"black\" d=\"M101,-461.5C101,-461.5 12,-461.5 12,-461.5 6,-461.5 0,-455.5 0,-449.5 0,-449.5 0,-420.5 0,-420.5 0,-414.5 6,-408.5 12,-408.5 12,-408.5 101,-408.5 101,-408.5 107,-408.5 113,-414.5 113,-420.5 113,-420.5 113,-449.5 113,-449.5 113,-455.5 107,-461.5 101,-461.5\"/>\r\n",
       "<text text-anchor=\"middle\" x=\"56.5\" y=\"-446.3\" font-family=\"Helvetica,sans-Serif\" font-size=\"14.00\">gini = 0.035</text>\r\n",
       "<text text-anchor=\"middle\" x=\"56.5\" y=\"-431.3\" font-family=\"Helvetica,sans-Serif\" font-size=\"14.00\">samples = 333</text>\r\n",
       "<text text-anchor=\"middle\" x=\"56.5\" y=\"-416.3\" font-family=\"Helvetica,sans-Serif\" font-size=\"14.00\">value = [327, 6]</text>\r\n",
       "</g>\r\n",
       "<!-- 3&#45;&gt;17 -->\r\n",
       "<g id=\"edge3\" class=\"edge\">\r\n",
       "<title>3&#45;&gt;17</title>\r\n",
       "<path fill=\"none\" stroke=\"black\" d=\"M144.97,-504.88C129.71,-493.01 112.56,-479.65 97.44,-467.88\"/>\r\n",
       "<polygon fill=\"black\" stroke=\"black\" points=\"99.32,-464.9 89.28,-461.52 95.02,-470.43 99.32,-464.9\"/>\r\n",
       "</g>\r\n",
       "<!-- 18 -->\r\n",
       "<g id=\"node5\" class=\"node\">\r\n",
       "<title>18</title>\r\n",
       "<path fill=\"#f0b88f\" stroke=\"black\" d=\"M232,-469C232,-469 143,-469 143,-469 137,-469 131,-463 131,-457 131,-457 131,-413 131,-413 131,-407 137,-401 143,-401 143,-401 232,-401 232,-401 238,-401 244,-407 244,-413 244,-413 244,-457 244,-457 244,-463 238,-469 232,-469\"/>\r\n",
       "<text text-anchor=\"middle\" x=\"187.5\" y=\"-453.8\" font-family=\"Helvetica,sans-Serif\" font-size=\"14.00\">X[1] &lt;= 0.047</text>\r\n",
       "<text text-anchor=\"middle\" x=\"187.5\" y=\"-438.8\" font-family=\"Helvetica,sans-Serif\" font-size=\"14.00\">gini = 0.422</text>\r\n",
       "<text text-anchor=\"middle\" x=\"187.5\" y=\"-423.8\" font-family=\"Helvetica,sans-Serif\" font-size=\"14.00\">samples = 139</text>\r\n",
       "<text text-anchor=\"middle\" x=\"187.5\" y=\"-408.8\" font-family=\"Helvetica,sans-Serif\" font-size=\"14.00\">value = [97, 42]</text>\r\n",
       "</g>\r\n",
       "<!-- 3&#45;&gt;18 -->\r\n",
       "<g id=\"edge4\" class=\"edge\">\r\n",
       "<title>3&#45;&gt;18</title>\r\n",
       "<path fill=\"none\" stroke=\"black\" d=\"M187.5,-504.88C187.5,-496.78 187.5,-487.98 187.5,-479.47\"/>\r\n",
       "<polygon fill=\"black\" stroke=\"black\" points=\"191,-479.3 187.5,-469.3 184,-479.3 191,-479.3\"/>\r\n",
       "</g>\r\n",
       "<!-- 31 -->\r\n",
       "<g id=\"node6\" class=\"node\">\r\n",
       "<title>31</title>\r\n",
       "<path fill=\"#fbebe0\" stroke=\"black\" d=\"M101,-357.5C101,-357.5 12,-357.5 12,-357.5 6,-357.5 0,-351.5 0,-345.5 0,-345.5 0,-316.5 0,-316.5 0,-310.5 6,-304.5 12,-304.5 12,-304.5 101,-304.5 101,-304.5 107,-304.5 113,-310.5 113,-316.5 113,-316.5 113,-345.5 113,-345.5 113,-351.5 107,-357.5 101,-357.5\"/>\r\n",
       "<text text-anchor=\"middle\" x=\"56.5\" y=\"-342.3\" font-family=\"Helvetica,sans-Serif\" font-size=\"14.00\">gini = 0.496</text>\r\n",
       "<text text-anchor=\"middle\" x=\"56.5\" y=\"-327.3\" font-family=\"Helvetica,sans-Serif\" font-size=\"14.00\">samples = 70</text>\r\n",
       "<text text-anchor=\"middle\" x=\"56.5\" y=\"-312.3\" font-family=\"Helvetica,sans-Serif\" font-size=\"14.00\">value = [38, 32]</text>\r\n",
       "</g>\r\n",
       "<!-- 18&#45;&gt;31 -->\r\n",
       "<g id=\"edge5\" class=\"edge\">\r\n",
       "<title>18&#45;&gt;31</title>\r\n",
       "<path fill=\"none\" stroke=\"black\" d=\"M144.97,-400.88C129.71,-389.01 112.56,-375.65 97.44,-363.88\"/>\r\n",
       "<polygon fill=\"black\" stroke=\"black\" points=\"99.32,-360.9 89.28,-357.52 95.02,-366.43 99.32,-360.9\"/>\r\n",
       "</g>\r\n",
       "<!-- 32 -->\r\n",
       "<g id=\"node7\" class=\"node\">\r\n",
       "<title>32</title>\r\n",
       "<path fill=\"#e9965b\" stroke=\"black\" d=\"M232,-357.5C232,-357.5 143,-357.5 143,-357.5 137,-357.5 131,-351.5 131,-345.5 131,-345.5 131,-316.5 131,-316.5 131,-310.5 137,-304.5 143,-304.5 143,-304.5 232,-304.5 232,-304.5 238,-304.5 244,-310.5 244,-316.5 244,-316.5 244,-345.5 244,-345.5 244,-351.5 238,-357.5 232,-357.5\"/>\r\n",
       "<text text-anchor=\"middle\" x=\"187.5\" y=\"-342.3\" font-family=\"Helvetica,sans-Serif\" font-size=\"14.00\">gini = 0.248</text>\r\n",
       "<text text-anchor=\"middle\" x=\"187.5\" y=\"-327.3\" font-family=\"Helvetica,sans-Serif\" font-size=\"14.00\">samples = 69</text>\r\n",
       "<text text-anchor=\"middle\" x=\"187.5\" y=\"-312.3\" font-family=\"Helvetica,sans-Serif\" font-size=\"14.00\">value = [59, 10]</text>\r\n",
       "</g>\r\n",
       "<!-- 18&#45;&gt;32 -->\r\n",
       "<g id=\"edge6\" class=\"edge\">\r\n",
       "<title>18&#45;&gt;32</title>\r\n",
       "<path fill=\"none\" stroke=\"black\" d=\"M187.5,-400.88C187.5,-390.33 187.5,-378.6 187.5,-367.85\"/>\r\n",
       "<polygon fill=\"black\" stroke=\"black\" points=\"191,-367.52 187.5,-357.52 184,-367.52 191,-367.52\"/>\r\n",
       "</g>\r\n",
       "<!-- 7 -->\r\n",
       "<g id=\"node9\" class=\"node\">\r\n",
       "<title>7</title>\r\n",
       "<path fill=\"#4aa6e7\" stroke=\"black\" d=\"M530.5,-469C530.5,-469 416.5,-469 416.5,-469 410.5,-469 404.5,-463 404.5,-457 404.5,-457 404.5,-413 404.5,-413 404.5,-407 410.5,-401 416.5,-401 416.5,-401 530.5,-401 530.5,-401 536.5,-401 542.5,-407 542.5,-413 542.5,-413 542.5,-457 542.5,-457 542.5,-463 536.5,-469 530.5,-469\"/>\r\n",
       "<text text-anchor=\"middle\" x=\"473.5\" y=\"-453.8\" font-family=\"Helvetica,sans-Serif\" font-size=\"14.00\">X[1] &lt;= &#45;0.371</text>\r\n",
       "<text text-anchor=\"middle\" x=\"473.5\" y=\"-438.8\" font-family=\"Helvetica,sans-Serif\" font-size=\"14.00\">gini = 0.147</text>\r\n",
       "<text text-anchor=\"middle\" x=\"473.5\" y=\"-423.8\" font-family=\"Helvetica,sans-Serif\" font-size=\"14.00\">samples = 2426</text>\r\n",
       "<text text-anchor=\"middle\" x=\"473.5\" y=\"-408.8\" font-family=\"Helvetica,sans-Serif\" font-size=\"14.00\">value = [194, 2232]</text>\r\n",
       "</g>\r\n",
       "<!-- 4&#45;&gt;7 -->\r\n",
       "<g id=\"edge8\" class=\"edge\">\r\n",
       "<title>4&#45;&gt;7</title>\r\n",
       "<path fill=\"none\" stroke=\"black\" d=\"M524.82,-504.88C518.32,-496.15 511.22,-486.62 504.43,-477.51\"/>\r\n",
       "<polygon fill=\"black\" stroke=\"black\" points=\"507.09,-475.23 498.31,-469.3 501.48,-479.41 507.09,-475.23\"/>\r\n",
       "</g>\r\n",
       "<!-- 8 -->\r\n",
       "<g id=\"node12\" class=\"node\">\r\n",
       "<title>8</title>\r\n",
       "<path fill=\"#8fc8f0\" stroke=\"black\" d=\"M678.5,-469C678.5,-469 572.5,-469 572.5,-469 566.5,-469 560.5,-463 560.5,-457 560.5,-457 560.5,-413 560.5,-413 560.5,-407 566.5,-401 572.5,-401 572.5,-401 678.5,-401 678.5,-401 684.5,-401 690.5,-407 690.5,-413 690.5,-413 690.5,-457 690.5,-457 690.5,-463 684.5,-469 678.5,-469\"/>\r\n",
       "<text text-anchor=\"middle\" x=\"625.5\" y=\"-453.8\" font-family=\"Helvetica,sans-Serif\" font-size=\"14.00\">X[0] &lt;= 1.508</text>\r\n",
       "<text text-anchor=\"middle\" x=\"625.5\" y=\"-438.8\" font-family=\"Helvetica,sans-Serif\" font-size=\"14.00\">gini = 0.423</text>\r\n",
       "<text text-anchor=\"middle\" x=\"625.5\" y=\"-423.8\" font-family=\"Helvetica,sans-Serif\" font-size=\"14.00\">samples = 1377</text>\r\n",
       "<text text-anchor=\"middle\" x=\"625.5\" y=\"-408.8\" font-family=\"Helvetica,sans-Serif\" font-size=\"14.00\">value = [418, 959]</text>\r\n",
       "</g>\r\n",
       "<!-- 4&#45;&gt;8 -->\r\n",
       "<g id=\"edge11\" class=\"edge\">\r\n",
       "<title>4&#45;&gt;8</title>\r\n",
       "<path fill=\"none\" stroke=\"black\" d=\"M574.18,-504.88C580.68,-496.15 587.78,-486.62 594.57,-477.51\"/>\r\n",
       "<polygon fill=\"black\" stroke=\"black\" points=\"597.52,-479.41 600.69,-469.3 591.91,-475.23 597.52,-479.41\"/>\r\n",
       "</g>\r\n",
       "<!-- 27 -->\r\n",
       "<g id=\"node10\" class=\"node\">\r\n",
       "<title>27</title>\r\n",
       "<path fill=\"#42a1e6\" stroke=\"black\" d=\"M380.5,-357.5C380.5,-357.5 274.5,-357.5 274.5,-357.5 268.5,-357.5 262.5,-351.5 262.5,-345.5 262.5,-345.5 262.5,-316.5 262.5,-316.5 262.5,-310.5 268.5,-304.5 274.5,-304.5 274.5,-304.5 380.5,-304.5 380.5,-304.5 386.5,-304.5 392.5,-310.5 392.5,-316.5 392.5,-316.5 392.5,-345.5 392.5,-345.5 392.5,-351.5 386.5,-357.5 380.5,-357.5\"/>\r\n",
       "<text text-anchor=\"middle\" x=\"327.5\" y=\"-342.3\" font-family=\"Helvetica,sans-Serif\" font-size=\"14.00\">gini = 0.079</text>\r\n",
       "<text text-anchor=\"middle\" x=\"327.5\" y=\"-327.3\" font-family=\"Helvetica,sans-Serif\" font-size=\"14.00\">samples = 1336</text>\r\n",
       "<text text-anchor=\"middle\" x=\"327.5\" y=\"-312.3\" font-family=\"Helvetica,sans-Serif\" font-size=\"14.00\">value = [55, 1281]</text>\r\n",
       "</g>\r\n",
       "<!-- 7&#45;&gt;27 -->\r\n",
       "<g id=\"edge9\" class=\"edge\">\r\n",
       "<title>7&#45;&gt;27</title>\r\n",
       "<path fill=\"none\" stroke=\"black\" d=\"M426.1,-400.88C408.94,-388.9 389.62,-375.4 372.66,-363.55\"/>\r\n",
       "<polygon fill=\"black\" stroke=\"black\" points=\"374.23,-360.38 364.03,-357.52 370.22,-366.12 374.23,-360.38\"/>\r\n",
       "</g>\r\n",
       "<!-- 28 -->\r\n",
       "<g id=\"node11\" class=\"node\">\r\n",
       "<title>28</title>\r\n",
       "<path fill=\"#56abe9\" stroke=\"black\" d=\"M528.5,-357.5C528.5,-357.5 422.5,-357.5 422.5,-357.5 416.5,-357.5 410.5,-351.5 410.5,-345.5 410.5,-345.5 410.5,-316.5 410.5,-316.5 410.5,-310.5 416.5,-304.5 422.5,-304.5 422.5,-304.5 528.5,-304.5 528.5,-304.5 534.5,-304.5 540.5,-310.5 540.5,-316.5 540.5,-316.5 540.5,-345.5 540.5,-345.5 540.5,-351.5 534.5,-357.5 528.5,-357.5\"/>\r\n",
       "<text text-anchor=\"middle\" x=\"475.5\" y=\"-342.3\" font-family=\"Helvetica,sans-Serif\" font-size=\"14.00\">gini = 0.223</text>\r\n",
       "<text text-anchor=\"middle\" x=\"475.5\" y=\"-327.3\" font-family=\"Helvetica,sans-Serif\" font-size=\"14.00\">samples = 1090</text>\r\n",
       "<text text-anchor=\"middle\" x=\"475.5\" y=\"-312.3\" font-family=\"Helvetica,sans-Serif\" font-size=\"14.00\">value = [139, 951]</text>\r\n",
       "</g>\r\n",
       "<!-- 7&#45;&gt;28 -->\r\n",
       "<g id=\"edge10\" class=\"edge\">\r\n",
       "<title>7&#45;&gt;28</title>\r\n",
       "<path fill=\"none\" stroke=\"black\" d=\"M474.15,-400.88C474.36,-390.22 474.59,-378.35 474.8,-367.52\"/>\r\n",
       "<polygon fill=\"black\" stroke=\"black\" points=\"478.3,-367.59 475,-357.52 471.3,-367.45 478.3,-367.59\"/>\r\n",
       "</g>\r\n",
       "<!-- 9 -->\r\n",
       "<g id=\"node13\" class=\"node\">\r\n",
       "<title>9</title>\r\n",
       "<path fill=\"#bcdef6\" stroke=\"black\" d=\"M676.5,-365C676.5,-365 570.5,-365 570.5,-365 564.5,-365 558.5,-359 558.5,-353 558.5,-353 558.5,-309 558.5,-309 558.5,-303 564.5,-297 570.5,-297 570.5,-297 676.5,-297 676.5,-297 682.5,-297 688.5,-303 688.5,-309 688.5,-309 688.5,-353 688.5,-353 688.5,-359 682.5,-365 676.5,-365\"/>\r\n",
       "<text text-anchor=\"middle\" x=\"623.5\" y=\"-349.8\" font-family=\"Helvetica,sans-Serif\" font-size=\"14.00\">X[0] &lt;= 0.503</text>\r\n",
       "<text text-anchor=\"middle\" x=\"623.5\" y=\"-334.8\" font-family=\"Helvetica,sans-Serif\" font-size=\"14.00\">gini = 0.48</text>\r\n",
       "<text text-anchor=\"middle\" x=\"623.5\" y=\"-319.8\" font-family=\"Helvetica,sans-Serif\" font-size=\"14.00\">samples = 1013</text>\r\n",
       "<text text-anchor=\"middle\" x=\"623.5\" y=\"-304.8\" font-family=\"Helvetica,sans-Serif\" font-size=\"14.00\">value = [404, 609]</text>\r\n",
       "</g>\r\n",
       "<!-- 8&#45;&gt;9 -->\r\n",
       "<g id=\"edge12\" class=\"edge\">\r\n",
       "<title>8&#45;&gt;9</title>\r\n",
       "<path fill=\"none\" stroke=\"black\" d=\"M624.85,-400.88C624.69,-392.78 624.52,-383.98 624.35,-375.47\"/>\r\n",
       "<polygon fill=\"black\" stroke=\"black\" points=\"627.85,-375.23 624.15,-365.3 620.85,-375.37 627.85,-375.23\"/>\r\n",
       "</g>\r\n",
       "<!-- 10 -->\r\n",
       "<g id=\"node22\" class=\"node\">\r\n",
       "<title>10</title>\r\n",
       "<path fill=\"#41a1e6\" stroke=\"black\" d=\"M816.5,-357.5C816.5,-357.5 718.5,-357.5 718.5,-357.5 712.5,-357.5 706.5,-351.5 706.5,-345.5 706.5,-345.5 706.5,-316.5 706.5,-316.5 706.5,-310.5 712.5,-304.5 718.5,-304.5 718.5,-304.5 816.5,-304.5 816.5,-304.5 822.5,-304.5 828.5,-310.5 828.5,-316.5 828.5,-316.5 828.5,-345.5 828.5,-345.5 828.5,-351.5 822.5,-357.5 816.5,-357.5\"/>\r\n",
       "<text text-anchor=\"middle\" x=\"767.5\" y=\"-342.3\" font-family=\"Helvetica,sans-Serif\" font-size=\"14.00\">gini = 0.074</text>\r\n",
       "<text text-anchor=\"middle\" x=\"767.5\" y=\"-327.3\" font-family=\"Helvetica,sans-Serif\" font-size=\"14.00\">samples = 364</text>\r\n",
       "<text text-anchor=\"middle\" x=\"767.5\" y=\"-312.3\" font-family=\"Helvetica,sans-Serif\" font-size=\"14.00\">value = [14, 350]</text>\r\n",
       "</g>\r\n",
       "<!-- 8&#45;&gt;10 -->\r\n",
       "<g id=\"edge21\" class=\"edge\">\r\n",
       "<title>8&#45;&gt;10</title>\r\n",
       "<path fill=\"none\" stroke=\"black\" d=\"M671.6,-400.88C688.29,-388.9 707.08,-375.4 723.58,-363.55\"/>\r\n",
       "<polygon fill=\"black\" stroke=\"black\" points=\"725.89,-366.2 731.97,-357.52 721.81,-360.51 725.89,-366.2\"/>\r\n",
       "</g>\r\n",
       "<!-- 15 -->\r\n",
       "<g id=\"node14\" class=\"node\">\r\n",
       "<title>15</title>\r\n",
       "<path fill=\"#8cc6f0\" stroke=\"black\" d=\"M594.5,-261C594.5,-261 488.5,-261 488.5,-261 482.5,-261 476.5,-255 476.5,-249 476.5,-249 476.5,-205 476.5,-205 476.5,-199 482.5,-193 488.5,-193 488.5,-193 594.5,-193 594.5,-193 600.5,-193 606.5,-199 606.5,-205 606.5,-205 606.5,-249 606.5,-249 606.5,-255 600.5,-261 594.5,-261\"/>\r\n",
       "<text text-anchor=\"middle\" x=\"541.5\" y=\"-245.8\" font-family=\"Helvetica,sans-Serif\" font-size=\"14.00\">X[0] &lt;= &#45;0.162</text>\r\n",
       "<text text-anchor=\"middle\" x=\"541.5\" y=\"-230.8\" font-family=\"Helvetica,sans-Serif\" font-size=\"14.00\">gini = 0.417</text>\r\n",
       "<text text-anchor=\"middle\" x=\"541.5\" y=\"-215.8\" font-family=\"Helvetica,sans-Serif\" font-size=\"14.00\">samples = 469</text>\r\n",
       "<text text-anchor=\"middle\" x=\"541.5\" y=\"-200.8\" font-family=\"Helvetica,sans-Serif\" font-size=\"14.00\">value = [139, 330]</text>\r\n",
       "</g>\r\n",
       "<!-- 9&#45;&gt;15 -->\r\n",
       "<g id=\"edge13\" class=\"edge\">\r\n",
       "<title>9&#45;&gt;15</title>\r\n",
       "<path fill=\"none\" stroke=\"black\" d=\"M596.88,-296.88C589.79,-288.07 582.04,-278.43 574.65,-269.24\"/>\r\n",
       "<polygon fill=\"black\" stroke=\"black\" points=\"577.26,-266.9 568.27,-261.3 571.81,-271.29 577.26,-266.9\"/>\r\n",
       "</g>\r\n",
       "<!-- 16 -->\r\n",
       "<g id=\"node17\" class=\"node\">\r\n",
       "<title>16</title>\r\n",
       "<path fill=\"#f5fafe\" stroke=\"black\" d=\"M742.5,-261C742.5,-261 636.5,-261 636.5,-261 630.5,-261 624.5,-255 624.5,-249 624.5,-249 624.5,-205 624.5,-205 624.5,-199 630.5,-193 636.5,-193 636.5,-193 742.5,-193 742.5,-193 748.5,-193 754.5,-199 754.5,-205 754.5,-205 754.5,-249 754.5,-249 754.5,-255 748.5,-261 742.5,-261\"/>\r\n",
       "<text text-anchor=\"middle\" x=\"689.5\" y=\"-245.8\" font-family=\"Helvetica,sans-Serif\" font-size=\"14.00\">X[0] &lt;= 1.1</text>\r\n",
       "<text text-anchor=\"middle\" x=\"689.5\" y=\"-230.8\" font-family=\"Helvetica,sans-Serif\" font-size=\"14.00\">gini = 0.5</text>\r\n",
       "<text text-anchor=\"middle\" x=\"689.5\" y=\"-215.8\" font-family=\"Helvetica,sans-Serif\" font-size=\"14.00\">samples = 544</text>\r\n",
       "<text text-anchor=\"middle\" x=\"689.5\" y=\"-200.8\" font-family=\"Helvetica,sans-Serif\" font-size=\"14.00\">value = [265, 279]</text>\r\n",
       "</g>\r\n",
       "<!-- 9&#45;&gt;16 -->\r\n",
       "<g id=\"edge16\" class=\"edge\">\r\n",
       "<title>9&#45;&gt;16</title>\r\n",
       "<path fill=\"none\" stroke=\"black\" d=\"M644.93,-296.88C650.52,-288.24 656.62,-278.82 662.46,-269.79\"/>\r\n",
       "<polygon fill=\"black\" stroke=\"black\" points=\"665.46,-271.6 667.95,-261.3 659.58,-267.79 665.46,-271.6\"/>\r\n",
       "</g>\r\n",
       "<!-- 21 -->\r\n",
       "<g id=\"node15\" class=\"node\">\r\n",
       "<title>21</title>\r\n",
       "<path fill=\"#fefbf9\" stroke=\"black\" d=\"M451,-149.5C451,-149.5 362,-149.5 362,-149.5 356,-149.5 350,-143.5 350,-137.5 350,-137.5 350,-108.5 350,-108.5 350,-102.5 356,-96.5 362,-96.5 362,-96.5 451,-96.5 451,-96.5 457,-96.5 463,-102.5 463,-108.5 463,-108.5 463,-137.5 463,-137.5 463,-143.5 457,-149.5 451,-149.5\"/>\r\n",
       "<text text-anchor=\"middle\" x=\"406.5\" y=\"-134.3\" font-family=\"Helvetica,sans-Serif\" font-size=\"14.00\">gini = 0.5</text>\r\n",
       "<text text-anchor=\"middle\" x=\"406.5\" y=\"-119.3\" font-family=\"Helvetica,sans-Serif\" font-size=\"14.00\">samples = 120</text>\r\n",
       "<text text-anchor=\"middle\" x=\"406.5\" y=\"-104.3\" font-family=\"Helvetica,sans-Serif\" font-size=\"14.00\">value = [61, 59]</text>\r\n",
       "</g>\r\n",
       "<!-- 15&#45;&gt;21 -->\r\n",
       "<g id=\"edge14\" class=\"edge\">\r\n",
       "<title>15&#45;&gt;21</title>\r\n",
       "<path fill=\"none\" stroke=\"black\" d=\"M497.67,-192.88C481.8,-180.9 463.94,-167.4 448.26,-155.55\"/>\r\n",
       "<polygon fill=\"black\" stroke=\"black\" points=\"450.37,-152.76 440.28,-149.52 446.15,-158.34 450.37,-152.76\"/>\r\n",
       "</g>\r\n",
       "<!-- 22 -->\r\n",
       "<g id=\"node16\" class=\"node\">\r\n",
       "<title>22</title>\r\n",
       "<path fill=\"#72b9ec\" stroke=\"black\" d=\"M591.5,-149.5C591.5,-149.5 493.5,-149.5 493.5,-149.5 487.5,-149.5 481.5,-143.5 481.5,-137.5 481.5,-137.5 481.5,-108.5 481.5,-108.5 481.5,-102.5 487.5,-96.5 493.5,-96.5 493.5,-96.5 591.5,-96.5 591.5,-96.5 597.5,-96.5 603.5,-102.5 603.5,-108.5 603.5,-108.5 603.5,-137.5 603.5,-137.5 603.5,-143.5 597.5,-149.5 591.5,-149.5\"/>\r\n",
       "<text text-anchor=\"middle\" x=\"542.5\" y=\"-134.3\" font-family=\"Helvetica,sans-Serif\" font-size=\"14.00\">gini = 0.347</text>\r\n",
       "<text text-anchor=\"middle\" x=\"542.5\" y=\"-119.3\" font-family=\"Helvetica,sans-Serif\" font-size=\"14.00\">samples = 349</text>\r\n",
       "<text text-anchor=\"middle\" x=\"542.5\" y=\"-104.3\" font-family=\"Helvetica,sans-Serif\" font-size=\"14.00\">value = [78, 271]</text>\r\n",
       "</g>\r\n",
       "<!-- 15&#45;&gt;22 -->\r\n",
       "<g id=\"edge15\" class=\"edge\">\r\n",
       "<title>15&#45;&gt;22</title>\r\n",
       "<path fill=\"none\" stroke=\"black\" d=\"M541.82,-192.88C541.93,-182.33 542.04,-170.6 542.15,-159.85\"/>\r\n",
       "<polygon fill=\"black\" stroke=\"black\" points=\"545.65,-159.55 542.25,-149.52 538.65,-159.49 545.65,-159.55\"/>\r\n",
       "</g>\r\n",
       "<!-- 23 -->\r\n",
       "<g id=\"node18\" class=\"node\">\r\n",
       "<title>23</title>\r\n",
       "<path fill=\"#f9e0cf\" stroke=\"black\" d=\"M741.5,-157C741.5,-157 635.5,-157 635.5,-157 629.5,-157 623.5,-151 623.5,-145 623.5,-145 623.5,-101 623.5,-101 623.5,-95 629.5,-89 635.5,-89 635.5,-89 741.5,-89 741.5,-89 747.5,-89 753.5,-95 753.5,-101 753.5,-101 753.5,-145 753.5,-145 753.5,-151 747.5,-157 741.5,-157\"/>\r\n",
       "<text text-anchor=\"middle\" x=\"688.5\" y=\"-141.8\" font-family=\"Helvetica,sans-Serif\" font-size=\"14.00\">X[1] &lt;= 0.129</text>\r\n",
       "<text text-anchor=\"middle\" x=\"688.5\" y=\"-126.8\" font-family=\"Helvetica,sans-Serif\" font-size=\"14.00\">gini = 0.49</text>\r\n",
       "<text text-anchor=\"middle\" x=\"688.5\" y=\"-111.8\" font-family=\"Helvetica,sans-Serif\" font-size=\"14.00\">samples = 339</text>\r\n",
       "<text text-anchor=\"middle\" x=\"688.5\" y=\"-96.8\" font-family=\"Helvetica,sans-Serif\" font-size=\"14.00\">value = [193, 146]</text>\r\n",
       "</g>\r\n",
       "<!-- 16&#45;&gt;23 -->\r\n",
       "<g id=\"edge17\" class=\"edge\">\r\n",
       "<title>16&#45;&gt;23</title>\r\n",
       "<path fill=\"none\" stroke=\"black\" d=\"M689.18,-192.88C689.1,-184.78 689.01,-175.98 688.93,-167.47\"/>\r\n",
       "<polygon fill=\"black\" stroke=\"black\" points=\"692.42,-167.26 688.83,-157.3 685.42,-167.33 692.42,-167.26\"/>\r\n",
       "</g>\r\n",
       "<!-- 24 -->\r\n",
       "<g id=\"node21\" class=\"node\">\r\n",
       "<title>24</title>\r\n",
       "<path fill=\"#a4d2f3\" stroke=\"black\" d=\"M881.5,-149.5C881.5,-149.5 783.5,-149.5 783.5,-149.5 777.5,-149.5 771.5,-143.5 771.5,-137.5 771.5,-137.5 771.5,-108.5 771.5,-108.5 771.5,-102.5 777.5,-96.5 783.5,-96.5 783.5,-96.5 881.5,-96.5 881.5,-96.5 887.5,-96.5 893.5,-102.5 893.5,-108.5 893.5,-108.5 893.5,-137.5 893.5,-137.5 893.5,-143.5 887.5,-149.5 881.5,-149.5\"/>\r\n",
       "<text text-anchor=\"middle\" x=\"832.5\" y=\"-134.3\" font-family=\"Helvetica,sans-Serif\" font-size=\"14.00\">gini = 0.456</text>\r\n",
       "<text text-anchor=\"middle\" x=\"832.5\" y=\"-119.3\" font-family=\"Helvetica,sans-Serif\" font-size=\"14.00\">samples = 205</text>\r\n",
       "<text text-anchor=\"middle\" x=\"832.5\" y=\"-104.3\" font-family=\"Helvetica,sans-Serif\" font-size=\"14.00\">value = [72, 133]</text>\r\n",
       "</g>\r\n",
       "<!-- 16&#45;&gt;24 -->\r\n",
       "<g id=\"edge20\" class=\"edge\">\r\n",
       "<title>16&#45;&gt;24</title>\r\n",
       "<path fill=\"none\" stroke=\"black\" d=\"M735.93,-192.88C752.73,-180.9 771.66,-167.4 788.27,-155.55\"/>\r\n",
       "<polygon fill=\"black\" stroke=\"black\" points=\"790.61,-158.18 796.72,-149.52 786.55,-152.48 790.61,-158.18\"/>\r\n",
       "</g>\r\n",
       "<!-- 29 -->\r\n",
       "<g id=\"node19\" class=\"node\">\r\n",
       "<title>29</title>\r\n",
       "<path fill=\"#eaf5fc\" stroke=\"black\" d=\"M665,-53C665,-53 576,-53 576,-53 570,-53 564,-47 564,-41 564,-41 564,-12 564,-12 564,-6 570,0 576,0 576,0 665,0 665,0 671,0 677,-6 677,-12 677,-12 677,-41 677,-41 677,-47 671,-53 665,-53\"/>\r\n",
       "<text text-anchor=\"middle\" x=\"620.5\" y=\"-37.8\" font-family=\"Helvetica,sans-Serif\" font-size=\"14.00\">gini = 0.498</text>\r\n",
       "<text text-anchor=\"middle\" x=\"620.5\" y=\"-22.8\" font-family=\"Helvetica,sans-Serif\" font-size=\"14.00\">samples = 178</text>\r\n",
       "<text text-anchor=\"middle\" x=\"620.5\" y=\"-7.8\" font-family=\"Helvetica,sans-Serif\" font-size=\"14.00\">value = [84, 94]</text>\r\n",
       "</g>\r\n",
       "<!-- 23&#45;&gt;29 -->\r\n",
       "<g id=\"edge18\" class=\"edge\">\r\n",
       "<title>23&#45;&gt;29</title>\r\n",
       "<path fill=\"none\" stroke=\"black\" d=\"M664.72,-88.95C658.33,-80.07 651.42,-70.46 644.99,-61.54\"/>\r\n",
       "<polygon fill=\"black\" stroke=\"black\" points=\"647.7,-59.31 639.02,-53.24 642.02,-63.4 647.7,-59.31\"/>\r\n",
       "</g>\r\n",
       "<!-- 30 -->\r\n",
       "<g id=\"node20\" class=\"node\">\r\n",
       "<title>30</title>\r\n",
       "<path fill=\"#f1bd97\" stroke=\"black\" d=\"M805.5,-53C805.5,-53 707.5,-53 707.5,-53 701.5,-53 695.5,-47 695.5,-41 695.5,-41 695.5,-12 695.5,-12 695.5,-6 701.5,0 707.5,0 707.5,0 805.5,0 805.5,0 811.5,0 817.5,-6 817.5,-12 817.5,-12 817.5,-41 817.5,-41 817.5,-47 811.5,-53 805.5,-53\"/>\r\n",
       "<text text-anchor=\"middle\" x=\"756.5\" y=\"-37.8\" font-family=\"Helvetica,sans-Serif\" font-size=\"14.00\">gini = 0.437</text>\r\n",
       "<text text-anchor=\"middle\" x=\"756.5\" y=\"-22.8\" font-family=\"Helvetica,sans-Serif\" font-size=\"14.00\">samples = 161</text>\r\n",
       "<text text-anchor=\"middle\" x=\"756.5\" y=\"-7.8\" font-family=\"Helvetica,sans-Serif\" font-size=\"14.00\">value = [109, 52]</text>\r\n",
       "</g>\r\n",
       "<!-- 23&#45;&gt;30 -->\r\n",
       "<g id=\"edge19\" class=\"edge\">\r\n",
       "<title>23&#45;&gt;30</title>\r\n",
       "<path fill=\"none\" stroke=\"black\" d=\"M712.28,-88.95C718.67,-80.07 725.58,-70.46 732.01,-61.54\"/>\r\n",
       "<polygon fill=\"black\" stroke=\"black\" points=\"734.98,-63.4 737.98,-53.24 729.3,-59.31 734.98,-63.4\"/>\r\n",
       "</g>\r\n",
       "<!-- 5 -->\r\n",
       "<g id=\"node24\" class=\"node\">\r\n",
       "<title>5</title>\r\n",
       "<path fill=\"#e99558\" stroke=\"black\" d=\"M1036.5,-573C1036.5,-573 922.5,-573 922.5,-573 916.5,-573 910.5,-567 910.5,-561 910.5,-561 910.5,-517 910.5,-517 910.5,-511 916.5,-505 922.5,-505 922.5,-505 1036.5,-505 1036.5,-505 1042.5,-505 1048.5,-511 1048.5,-517 1048.5,-517 1048.5,-561 1048.5,-561 1048.5,-567 1042.5,-573 1036.5,-573\"/>\r\n",
       "<text text-anchor=\"middle\" x=\"979.5\" y=\"-557.8\" font-family=\"Helvetica,sans-Serif\" font-size=\"14.00\">X[1] &lt;= 0.757</text>\r\n",
       "<text text-anchor=\"middle\" x=\"979.5\" y=\"-542.8\" font-family=\"Helvetica,sans-Serif\" font-size=\"14.00\">gini = 0.232</text>\r\n",
       "<text text-anchor=\"middle\" x=\"979.5\" y=\"-527.8\" font-family=\"Helvetica,sans-Serif\" font-size=\"14.00\">samples = 3355</text>\r\n",
       "<text text-anchor=\"middle\" x=\"979.5\" y=\"-512.8\" font-family=\"Helvetica,sans-Serif\" font-size=\"14.00\">value = [2905, 450]</text>\r\n",
       "</g>\r\n",
       "<!-- 2&#45;&gt;5 -->\r\n",
       "<g id=\"edge23\" class=\"edge\">\r\n",
       "<title>2&#45;&gt;5</title>\r\n",
       "<path fill=\"none\" stroke=\"black\" d=\"M979.5,-608.88C979.5,-600.78 979.5,-591.98 979.5,-583.47\"/>\r\n",
       "<polygon fill=\"black\" stroke=\"black\" points=\"983,-583.3 979.5,-573.3 976,-583.3 983,-583.3\"/>\r\n",
       "</g>\r\n",
       "<!-- 6 -->\r\n",
       "<g id=\"node31\" class=\"node\">\r\n",
       "<title>6</title>\r\n",
       "<path fill=\"#55abe9\" stroke=\"black\" d=\"M1248.5,-573C1248.5,-573 1150.5,-573 1150.5,-573 1144.5,-573 1138.5,-567 1138.5,-561 1138.5,-561 1138.5,-517 1138.5,-517 1138.5,-511 1144.5,-505 1150.5,-505 1150.5,-505 1248.5,-505 1248.5,-505 1254.5,-505 1260.5,-511 1260.5,-517 1260.5,-517 1260.5,-561 1260.5,-561 1260.5,-567 1254.5,-573 1248.5,-573\"/>\r\n",
       "<text text-anchor=\"middle\" x=\"1199.5\" y=\"-557.8\" font-family=\"Helvetica,sans-Serif\" font-size=\"14.00\">X[0] &lt;= 1.782</text>\r\n",
       "<text text-anchor=\"middle\" x=\"1199.5\" y=\"-542.8\" font-family=\"Helvetica,sans-Serif\" font-size=\"14.00\">gini = 0.218</text>\r\n",
       "<text text-anchor=\"middle\" x=\"1199.5\" y=\"-527.8\" font-family=\"Helvetica,sans-Serif\" font-size=\"14.00\">samples = 370</text>\r\n",
       "<text text-anchor=\"middle\" x=\"1199.5\" y=\"-512.8\" font-family=\"Helvetica,sans-Serif\" font-size=\"14.00\">value = [46, 324]</text>\r\n",
       "</g>\r\n",
       "<!-- 2&#45;&gt;6 -->\r\n",
       "<g id=\"edge30\" class=\"edge\">\r\n",
       "<title>2&#45;&gt;6</title>\r\n",
       "<path fill=\"none\" stroke=\"black\" d=\"M1048.51,-610.01C1074.09,-598.14 1103.14,-584.68 1128.87,-572.75\"/>\r\n",
       "<polygon fill=\"black\" stroke=\"black\" points=\"1130.59,-575.81 1138.19,-568.43 1127.64,-569.46 1130.59,-575.81\"/>\r\n",
       "</g>\r\n",
       "<!-- 11 -->\r\n",
       "<g id=\"node25\" class=\"node\">\r\n",
       "<title>11</title>\r\n",
       "<path fill=\"#eda673\" stroke=\"black\" d=\"M964.5,-469C964.5,-469 850.5,-469 850.5,-469 844.5,-469 838.5,-463 838.5,-457 838.5,-457 838.5,-413 838.5,-413 838.5,-407 844.5,-401 850.5,-401 850.5,-401 964.5,-401 964.5,-401 970.5,-401 976.5,-407 976.5,-413 976.5,-413 976.5,-457 976.5,-457 976.5,-463 970.5,-469 964.5,-469\"/>\r\n",
       "<text text-anchor=\"middle\" x=\"907.5\" y=\"-453.8\" font-family=\"Helvetica,sans-Serif\" font-size=\"14.00\">X[0] &lt;= &#45;0.588</text>\r\n",
       "<text text-anchor=\"middle\" x=\"907.5\" y=\"-438.8\" font-family=\"Helvetica,sans-Serif\" font-size=\"14.00\">gini = 0.349</text>\r\n",
       "<text text-anchor=\"middle\" x=\"907.5\" y=\"-423.8\" font-family=\"Helvetica,sans-Serif\" font-size=\"14.00\">samples = 1629</text>\r\n",
       "<text text-anchor=\"middle\" x=\"907.5\" y=\"-408.8\" font-family=\"Helvetica,sans-Serif\" font-size=\"14.00\">value = [1262, 367]</text>\r\n",
       "</g>\r\n",
       "<!-- 5&#45;&gt;11 -->\r\n",
       "<g id=\"edge24\" class=\"edge\">\r\n",
       "<title>5&#45;&gt;11</title>\r\n",
       "<path fill=\"none\" stroke=\"black\" d=\"M956.12,-504.88C949.96,-496.15 943.24,-486.62 936.8,-477.51\"/>\r\n",
       "<polygon fill=\"black\" stroke=\"black\" points=\"939.63,-475.45 931.01,-469.3 933.91,-479.49 939.63,-475.45\"/>\r\n",
       "</g>\r\n",
       "<!-- 12 -->\r\n",
       "<g id=\"node30\" class=\"node\">\r\n",
       "<title>12</title>\r\n",
       "<path fill=\"#e68743\" stroke=\"black\" d=\"M1112.5,-461.5C1112.5,-461.5 1006.5,-461.5 1006.5,-461.5 1000.5,-461.5 994.5,-455.5 994.5,-449.5 994.5,-449.5 994.5,-420.5 994.5,-420.5 994.5,-414.5 1000.5,-408.5 1006.5,-408.5 1006.5,-408.5 1112.5,-408.5 1112.5,-408.5 1118.5,-408.5 1124.5,-414.5 1124.5,-420.5 1124.5,-420.5 1124.5,-449.5 1124.5,-449.5 1124.5,-455.5 1118.5,-461.5 1112.5,-461.5\"/>\r\n",
       "<text text-anchor=\"middle\" x=\"1059.5\" y=\"-446.3\" font-family=\"Helvetica,sans-Serif\" font-size=\"14.00\">gini = 0.092</text>\r\n",
       "<text text-anchor=\"middle\" x=\"1059.5\" y=\"-431.3\" font-family=\"Helvetica,sans-Serif\" font-size=\"14.00\">samples = 1726</text>\r\n",
       "<text text-anchor=\"middle\" x=\"1059.5\" y=\"-416.3\" font-family=\"Helvetica,sans-Serif\" font-size=\"14.00\">value = [1643, 83]</text>\r\n",
       "</g>\r\n",
       "<!-- 5&#45;&gt;12 -->\r\n",
       "<g id=\"edge29\" class=\"edge\">\r\n",
       "<title>5&#45;&gt;12</title>\r\n",
       "<path fill=\"none\" stroke=\"black\" d=\"M1005.47,-504.88C1014.36,-493.56 1024.3,-480.88 1033.21,-469.52\"/>\r\n",
       "<polygon fill=\"black\" stroke=\"black\" points=\"1036.07,-471.55 1039.48,-461.52 1030.56,-467.23 1036.07,-471.55\"/>\r\n",
       "</g>\r\n",
       "<!-- 13 -->\r\n",
       "<g id=\"node26\" class=\"node\">\r\n",
       "<title>13</title>\r\n",
       "<path fill=\"#e68640\" stroke=\"black\" d=\"M956.5,-357.5C956.5,-357.5 858.5,-357.5 858.5,-357.5 852.5,-357.5 846.5,-351.5 846.5,-345.5 846.5,-345.5 846.5,-316.5 846.5,-316.5 846.5,-310.5 852.5,-304.5 858.5,-304.5 858.5,-304.5 956.5,-304.5 956.5,-304.5 962.5,-304.5 968.5,-310.5 968.5,-316.5 968.5,-316.5 968.5,-345.5 968.5,-345.5 968.5,-351.5 962.5,-357.5 956.5,-357.5\"/>\r\n",
       "<text text-anchor=\"middle\" x=\"907.5\" y=\"-342.3\" font-family=\"Helvetica,sans-Serif\" font-size=\"14.00\">gini = 0.07</text>\r\n",
       "<text text-anchor=\"middle\" x=\"907.5\" y=\"-327.3\" font-family=\"Helvetica,sans-Serif\" font-size=\"14.00\">samples = 384</text>\r\n",
       "<text text-anchor=\"middle\" x=\"907.5\" y=\"-312.3\" font-family=\"Helvetica,sans-Serif\" font-size=\"14.00\">value = [370, 14]</text>\r\n",
       "</g>\r\n",
       "<!-- 11&#45;&gt;13 -->\r\n",
       "<g id=\"edge25\" class=\"edge\">\r\n",
       "<title>11&#45;&gt;13</title>\r\n",
       "<path fill=\"none\" stroke=\"black\" d=\"M907.5,-400.88C907.5,-390.33 907.5,-378.6 907.5,-367.85\"/>\r\n",
       "<polygon fill=\"black\" stroke=\"black\" points=\"911,-367.52 907.5,-357.52 904,-367.52 911,-367.52\"/>\r\n",
       "</g>\r\n",
       "<!-- 14 -->\r\n",
       "<g id=\"node27\" class=\"node\">\r\n",
       "<title>14</title>\r\n",
       "<path fill=\"#efb387\" stroke=\"black\" d=\"M1104.5,-365C1104.5,-365 998.5,-365 998.5,-365 992.5,-365 986.5,-359 986.5,-353 986.5,-353 986.5,-309 986.5,-309 986.5,-303 992.5,-297 998.5,-297 998.5,-297 1104.5,-297 1104.5,-297 1110.5,-297 1116.5,-303 1116.5,-309 1116.5,-309 1116.5,-353 1116.5,-353 1116.5,-359 1110.5,-365 1104.5,-365\"/>\r\n",
       "<text text-anchor=\"middle\" x=\"1051.5\" y=\"-349.8\" font-family=\"Helvetica,sans-Serif\" font-size=\"14.00\">X[1] &lt;= 0.439</text>\r\n",
       "<text text-anchor=\"middle\" x=\"1051.5\" y=\"-334.8\" font-family=\"Helvetica,sans-Serif\" font-size=\"14.00\">gini = 0.406</text>\r\n",
       "<text text-anchor=\"middle\" x=\"1051.5\" y=\"-319.8\" font-family=\"Helvetica,sans-Serif\" font-size=\"14.00\">samples = 1245</text>\r\n",
       "<text text-anchor=\"middle\" x=\"1051.5\" y=\"-304.8\" font-family=\"Helvetica,sans-Serif\" font-size=\"14.00\">value = [892, 353]</text>\r\n",
       "</g>\r\n",
       "<!-- 11&#45;&gt;14 -->\r\n",
       "<g id=\"edge26\" class=\"edge\">\r\n",
       "<title>11&#45;&gt;14</title>\r\n",
       "<path fill=\"none\" stroke=\"black\" d=\"M954.25,-400.88C967.58,-391.44 982.23,-381.06 996.03,-371.29\"/>\r\n",
       "<polygon fill=\"black\" stroke=\"black\" points=\"998.35,-373.94 1004.49,-365.3 994.31,-368.22 998.35,-373.94\"/>\r\n",
       "</g>\r\n",
       "<!-- 19 -->\r\n",
       "<g id=\"node28\" class=\"node\">\r\n",
       "<title>19</title>\r\n",
       "<path fill=\"#f6d3b9\" stroke=\"black\" d=\"M1030.5,-253.5C1030.5,-253.5 924.5,-253.5 924.5,-253.5 918.5,-253.5 912.5,-247.5 912.5,-241.5 912.5,-241.5 912.5,-212.5 912.5,-212.5 912.5,-206.5 918.5,-200.5 924.5,-200.5 924.5,-200.5 1030.5,-200.5 1030.5,-200.5 1036.5,-200.5 1042.5,-206.5 1042.5,-212.5 1042.5,-212.5 1042.5,-241.5 1042.5,-241.5 1042.5,-247.5 1036.5,-253.5 1030.5,-253.5\"/>\r\n",
       "<text text-anchor=\"middle\" x=\"977.5\" y=\"-238.3\" font-family=\"Helvetica,sans-Serif\" font-size=\"14.00\">gini = 0.477</text>\r\n",
       "<text text-anchor=\"middle\" x=\"977.5\" y=\"-223.3\" font-family=\"Helvetica,sans-Serif\" font-size=\"14.00\">samples = 420</text>\r\n",
       "<text text-anchor=\"middle\" x=\"977.5\" y=\"-208.3\" font-family=\"Helvetica,sans-Serif\" font-size=\"14.00\">value = [255, 165]</text>\r\n",
       "</g>\r\n",
       "<!-- 14&#45;&gt;19 -->\r\n",
       "<g id=\"edge27\" class=\"edge\">\r\n",
       "<title>14&#45;&gt;19</title>\r\n",
       "<path fill=\"none\" stroke=\"black\" d=\"M1027.47,-296.88C1019.34,-285.67 1010.24,-273.13 1002.06,-261.85\"/>\r\n",
       "<polygon fill=\"black\" stroke=\"black\" points=\"1004.72,-259.56 996.01,-253.52 999.05,-263.67 1004.72,-259.56\"/>\r\n",
       "</g>\r\n",
       "<!-- 20 -->\r\n",
       "<g id=\"node29\" class=\"node\">\r\n",
       "<title>20</title>\r\n",
       "<path fill=\"#eda673\" stroke=\"black\" d=\"M1178.5,-253.5C1178.5,-253.5 1072.5,-253.5 1072.5,-253.5 1066.5,-253.5 1060.5,-247.5 1060.5,-241.5 1060.5,-241.5 1060.5,-212.5 1060.5,-212.5 1060.5,-206.5 1066.5,-200.5 1072.5,-200.5 1072.5,-200.5 1178.5,-200.5 1178.5,-200.5 1184.5,-200.5 1190.5,-206.5 1190.5,-212.5 1190.5,-212.5 1190.5,-241.5 1190.5,-241.5 1190.5,-247.5 1184.5,-253.5 1178.5,-253.5\"/>\r\n",
       "<text text-anchor=\"middle\" x=\"1125.5\" y=\"-238.3\" font-family=\"Helvetica,sans-Serif\" font-size=\"14.00\">gini = 0.352</text>\r\n",
       "<text text-anchor=\"middle\" x=\"1125.5\" y=\"-223.3\" font-family=\"Helvetica,sans-Serif\" font-size=\"14.00\">samples = 825</text>\r\n",
       "<text text-anchor=\"middle\" x=\"1125.5\" y=\"-208.3\" font-family=\"Helvetica,sans-Serif\" font-size=\"14.00\">value = [637, 188]</text>\r\n",
       "</g>\r\n",
       "<!-- 14&#45;&gt;20 -->\r\n",
       "<g id=\"edge28\" class=\"edge\">\r\n",
       "<title>14&#45;&gt;20</title>\r\n",
       "<path fill=\"none\" stroke=\"black\" d=\"M1075.53,-296.88C1083.66,-285.67 1092.76,-273.13 1100.94,-261.85\"/>\r\n",
       "<polygon fill=\"black\" stroke=\"black\" points=\"1103.95,-263.67 1106.99,-253.52 1098.28,-259.56 1103.95,-263.67\"/>\r\n",
       "</g>\r\n",
       "<!-- 25 -->\r\n",
       "<g id=\"node32\" class=\"node\">\r\n",
       "<title>25</title>\r\n",
       "<path fill=\"#8cc6f0\" stroke=\"black\" d=\"M1244,-461.5C1244,-461.5 1155,-461.5 1155,-461.5 1149,-461.5 1143,-455.5 1143,-449.5 1143,-449.5 1143,-420.5 1143,-420.5 1143,-414.5 1149,-408.5 1155,-408.5 1155,-408.5 1244,-408.5 1244,-408.5 1250,-408.5 1256,-414.5 1256,-420.5 1256,-420.5 1256,-449.5 1256,-449.5 1256,-455.5 1250,-461.5 1244,-461.5\"/>\r\n",
       "<text text-anchor=\"middle\" x=\"1199.5\" y=\"-446.3\" font-family=\"Helvetica,sans-Serif\" font-size=\"14.00\">gini = 0.416</text>\r\n",
       "<text text-anchor=\"middle\" x=\"1199.5\" y=\"-431.3\" font-family=\"Helvetica,sans-Serif\" font-size=\"14.00\">samples = 132</text>\r\n",
       "<text text-anchor=\"middle\" x=\"1199.5\" y=\"-416.3\" font-family=\"Helvetica,sans-Serif\" font-size=\"14.00\">value = [39, 93]</text>\r\n",
       "</g>\r\n",
       "<!-- 6&#45;&gt;25 -->\r\n",
       "<g id=\"edge31\" class=\"edge\">\r\n",
       "<title>6&#45;&gt;25</title>\r\n",
       "<path fill=\"none\" stroke=\"black\" d=\"M1199.5,-504.88C1199.5,-494.33 1199.5,-482.6 1199.5,-471.85\"/>\r\n",
       "<polygon fill=\"black\" stroke=\"black\" points=\"1203,-471.52 1199.5,-461.52 1196,-471.52 1203,-471.52\"/>\r\n",
       "</g>\r\n",
       "<!-- 26 -->\r\n",
       "<g id=\"node33\" class=\"node\">\r\n",
       "<title>26</title>\r\n",
       "<path fill=\"#3fa0e6\" stroke=\"black\" d=\"M1375,-461.5C1375,-461.5 1286,-461.5 1286,-461.5 1280,-461.5 1274,-455.5 1274,-449.5 1274,-449.5 1274,-420.5 1274,-420.5 1274,-414.5 1280,-408.5 1286,-408.5 1286,-408.5 1375,-408.5 1375,-408.5 1381,-408.5 1387,-414.5 1387,-420.5 1387,-420.5 1387,-449.5 1387,-449.5 1387,-455.5 1381,-461.5 1375,-461.5\"/>\r\n",
       "<text text-anchor=\"middle\" x=\"1330.5\" y=\"-446.3\" font-family=\"Helvetica,sans-Serif\" font-size=\"14.00\">gini = 0.057</text>\r\n",
       "<text text-anchor=\"middle\" x=\"1330.5\" y=\"-431.3\" font-family=\"Helvetica,sans-Serif\" font-size=\"14.00\">samples = 238</text>\r\n",
       "<text text-anchor=\"middle\" x=\"1330.5\" y=\"-416.3\" font-family=\"Helvetica,sans-Serif\" font-size=\"14.00\">value = [7, 231]</text>\r\n",
       "</g>\r\n",
       "<!-- 6&#45;&gt;26 -->\r\n",
       "<g id=\"edge32\" class=\"edge\">\r\n",
       "<title>6&#45;&gt;26</title>\r\n",
       "<path fill=\"none\" stroke=\"black\" d=\"M1242.03,-504.88C1257.29,-493.01 1274.44,-479.65 1289.56,-467.88\"/>\r\n",
       "<polygon fill=\"black\" stroke=\"black\" points=\"1291.98,-470.43 1297.72,-461.52 1287.68,-464.9 1291.98,-470.43\"/>\r\n",
       "</g>\r\n",
       "</g>\r\n",
       "</svg>\r\n"
      ],
      "text/plain": [
       "<graphviz.files.Source at 0x2058225a388>"
      ]
     },
     "execution_count": 31,
     "metadata": {},
     "output_type": "execute_result"
    }
   ],
   "source": [
    "from graphviz import Source\n",
    "from sklearn.tree import export_graphviz\n",
    "\n",
    "export_graphviz(\n",
    "        grid_search_cv.best_estimator_,\n",
    "        out_file=os.path.join(IMAGES_PATH, \"moons_tree.dot\"),\n",
    "        rounded=True,\n",
    "        filled=True\n",
    "    )\n",
    "\n",
    "Source.from_file(os.path.join(IMAGES_PATH, \"moons_tree.dot\"))"
   ]
  },
  {
   "cell_type": "markdown",
   "metadata": {},
   "source": [
    "By default, GridSearchCV trains the best model found on the whole training set (on can change this by setting refit = False)"
   ]
  },
  {
   "cell_type": "code",
   "execution_count": 9,
   "metadata": {},
   "outputs": [
    {
     "data": {
      "text/plain": [
       "0.8695"
      ]
     },
     "execution_count": 9,
     "metadata": {},
     "output_type": "execute_result"
    }
   ],
   "source": [
    "from sklearn.metrics import accuracy_score\n",
    "\n",
    "y_pred = grid_search_cv.predict(X_test)\n",
    "accuracy_score(y_test, y_pred)"
   ]
  },
  {
   "cell_type": "markdown",
   "metadata": {},
   "source": [
    "The result is not bad, but we can improve further by tweaking the hyperparameters"
   ]
  },
  {
   "cell_type": "markdown",
   "metadata": {},
   "source": [
    "**Creating the Forest from the above classifier**"
   ]
  },
  {
   "cell_type": "markdown",
   "metadata": {},
   "source": [
    "Generating 1,000 subsets of the training set, each containing 100 instances selected randomly from the created moons dataset."
   ]
  },
  {
   "cell_type": "code",
   "execution_count": 20,
   "metadata": {},
   "outputs": [],
   "source": [
    "from sklearn.model_selection import ShuffleSplit\n",
    "\n",
    "n_trees = 1000\n",
    "n_instances = 100\n",
    "\n",
    "mini_sets = []\n",
    "\n",
    "#Yields indices to split the data into training and test sets\n",
    "rs = ShuffleSplit(n_splits = n_trees, test_size = len(X_train) - n_instances, random_state = 42)\n",
    "\n",
    "for mini_train_index, mini_test_index in rs.split(X_train):\n",
    "    #The shape of the mini_train_index is 100*1 and The shape of the mini_test_index is 7900*1\n",
    "    X_mini_train = X_train[mini_train_index]\n",
    "    y_mini_train = y_train[mini_train_index]\n",
    "    mini_sets.append((X_mini_train, y_mini_train))"
   ]
  },
  {
   "cell_type": "markdown",
   "metadata": {},
   "source": [
    "Let's train the one decision tree on each subset with the best hyperparameter found in the above example.\n",
    "Logically, we should get lesser accuracy than the previous decision tree classfier as we are training on lesser training instances."
   ]
  },
  {
   "cell_type": "code",
   "execution_count": 21,
   "metadata": {},
   "outputs": [
    {
     "data": {
      "text/plain": [
       "0.8054499999999999"
      ]
     },
     "execution_count": 21,
     "metadata": {},
     "output_type": "execute_result"
    }
   ],
   "source": [
    "from sklearn.base import clone\n",
    "\n",
    "forest = [clone(grid_search_cv.best_estimator_) for _ in range(n_trees)]\n",
    "\n",
    "accuracy_scores = []\n",
    "\n",
    "for tree, (X_mini_train, y_mini_train) in zip(forest, mini_sets):\n",
    "    tree.fit(X_mini_train, y_mini_train)\n",
    "    \n",
    "    y_pred = tree.predict(X_test)\n",
    "    accuracy_scores.append(accuracy_score(y_test, y_pred))\n",
    "    \n",
    "np.mean(accuracy_scores)"
   ]
  },
  {
   "cell_type": "markdown",
   "metadata": {},
   "source": [
    "For each test set instance, generate the predictions of the 1,000 Decision Trees, and keep only the most frequent prediction.i.e, majority vote predictions over the test set."
   ]
  },
  {
   "cell_type": "code",
   "execution_count": 22,
   "metadata": {},
   "outputs": [],
   "source": [
    "Y_pred = np.empty([n_trees, len(X_test)], dtype = np.uint8)\n",
    "\n",
    "for tree_index, tree in enumerate(forest):\n",
    "    Y_pred[tree_index] = tree.predict(X_test)"
   ]
  },
  {
   "cell_type": "code",
   "execution_count": 23,
   "metadata": {},
   "outputs": [],
   "source": [
    "from scipy.stats import mode\n",
    "\n",
    "y_pred_majority_votes, n_votes = mode(Y_pred, axis = 0)"
   ]
  },
  {
   "cell_type": "code",
   "execution_count": 24,
   "metadata": {},
   "outputs": [
    {
     "data": {
      "text/plain": [
       "array([[1, 1, 0, ..., 0, 0, 0]], dtype=uint8)"
      ]
     },
     "execution_count": 24,
     "metadata": {},
     "output_type": "execute_result"
    }
   ],
   "source": [
    "y_pred_majority_votes"
   ]
  },
  {
   "cell_type": "code",
   "execution_count": 25,
   "metadata": {},
   "outputs": [
    {
     "data": {
      "text/plain": [
       "array([[951, 912, 963, ..., 919, 994, 602]])"
      ]
     },
     "execution_count": 25,
     "metadata": {},
     "output_type": "execute_result"
    }
   ],
   "source": [
    "n_votes"
   ]
  },
  {
   "cell_type": "code",
   "execution_count": 27,
   "metadata": {},
   "outputs": [
    {
     "data": {
      "text/plain": [
       "0.872"
      ]
     },
     "execution_count": 27,
     "metadata": {},
     "output_type": "execute_result"
    }
   ],
   "source": [
    "accuracy_score(y_test, y_pred_majority_votes.reshape([-1]))"
   ]
  },
  {
   "cell_type": "markdown",
   "metadata": {},
   "source": [
    "Kudos! We trained the Random Forest Classifier"
   ]
  }
 ],
 "metadata": {
  "kernelspec": {
   "display_name": "Python 3",
   "language": "python",
   "name": "python3"
  },
  "language_info": {
   "codemirror_mode": {
    "name": "ipython",
    "version": 3
   },
   "file_extension": ".py",
   "mimetype": "text/x-python",
   "name": "python",
   "nbconvert_exporter": "python",
   "pygments_lexer": "ipython3",
   "version": "3.7.6"
  }
 },
 "nbformat": 4,
 "nbformat_minor": 4
}
