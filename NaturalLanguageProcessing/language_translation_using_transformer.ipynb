{
 "cells": [
  {
   "cell_type": "markdown",
   "metadata": {},
   "source": [
    "## Setup"
   ]
  },
  {
   "cell_type": "code",
   "execution_count": 1,
   "metadata": {},
   "outputs": [],
   "source": [
    "# Python ≥3.5 is required\n",
    "import sys\n",
    "assert sys.version_info >= (3, 5)\n",
    "\n",
    "# Scikit-Learn ≥0.20 is required\n",
    "import sklearn\n",
    "assert sklearn.__version__ >= \"0.20\"\n",
    "\n",
    "# TensorFlow ≥2.0 is required\n",
    "import tensorflow as tf\n",
    "from tensorflow import keras\n",
    "assert tf.__version__ >= \"2.0\"\n",
    "\n",
    "# Common imports\n",
    "import numpy as np\n",
    "import os\n",
    "import time\n",
    "import tensorflow_datasets as tfds\n",
    "\n",
    "# to make this notebook's output stable across runs\n",
    "np.random.seed(42)\n",
    "tf.random.set_seed(42)\n",
    "\n",
    "# To plot pretty figures\n",
    "%matplotlib inline\n",
    "import matplotlib as mpl\n",
    "import matplotlib.pyplot as plt\n",
    "mpl.rc('axes', labelsize=14)\n",
    "mpl.rc('xtick', labelsize=12)\n",
    "mpl.rc('ytick', labelsize=12)\n",
    "\n",
    "# Where to save the figures\n",
    "PROJECT_ROOT_DIR = \".\"\n",
    "IMAGES_PATH = os.path.join(PROJECT_ROOT_DIR, \"images\")\n",
    "os.makedirs(IMAGES_PATH, exist_ok=True)\n",
    "\n",
    "def save_fig(fig_id, tight_layout=True, fig_extension=\"png\", resolution=300):\n",
    "    path = os.path.join(IMAGES_PATH, fig_id + \".\" + fig_extension)\n",
    "    print(\"Saving figure\", fig_id)\n",
    "    if tight_layout:\n",
    "        plt.tight_layout()\n",
    "    plt.savefig(path, format=fig_extension, dpi=resolution)"
   ]
  },
  {
   "cell_type": "markdown",
   "metadata": {},
   "source": [
    "## Setup Input Pipeline"
   ]
  },
  {
   "cell_type": "markdown",
   "metadata": {},
   "source": [
    "Using [TFDS](https://www.tensorflow.org/datasets) to load the [Portugese-English translation dataset](https://github.com/neulab/word-embeddings-for-nmt) from the [TED Talks Open Translation Project](https://www.ted.com/participate/translate).\n",
    "\n",
    "This dataset contains approximately 50000 training examples, 1100 validation examples, and 2000 test examples."
   ]
  },
  {
   "cell_type": "code",
   "execution_count": 2,
   "metadata": {
    "scrolled": true
   },
   "outputs": [],
   "source": [
    "examples, metadata = tfds.load('ted_hrlr_translate/pt_to_en', with_info = True,\n",
    "                              as_supervised = True)\n",
    "train_examples, val_examples = examples['train'], examples['validation']"
   ]
  },
  {
   "cell_type": "markdown",
   "metadata": {},
   "source": [
    "Creating a custom subwords tokenizer from the training dataset."
   ]
  },
  {
   "cell_type": "code",
   "execution_count": 3,
   "metadata": {},
   "outputs": [],
   "source": [
    "tokenizer_en = tfds.deprecated.text.SubwordTextEncoder.build_from_corpus(\n",
    "           (en.numpy() for pt, en in train_examples), target_vocab_size = 2**13)\n",
    "\n",
    "tokenizer_pt = tfds.deprecated.text.SubwordTextEncoder.build_from_corpus(\n",
    "           (pt.numpy() for pt, en in train_examples), target_vocab_size = 2**13)"
   ]
  },
  {
   "cell_type": "code",
   "execution_count": 4,
   "metadata": {},
   "outputs": [
    {
     "name": "stdout",
     "output_type": "stream",
     "text": [
      "Tokenized string is [7915, 1248, 7946, 7194, 13, 2799, 7877]\n",
      "The original string: Transformer is awesome.\n"
     ]
    }
   ],
   "source": [
    "sample_string = 'Transformer is awesome.'\n",
    "\n",
    "tokenized_string = tokenizer_en.encode(sample_string)\n",
    "print('Tokenized string is {}'.format(tokenized_string))\n",
    "\n",
    "original_string = tokenizer_en.decode(tokenized_string)\n",
    "print('The original string: {}'.format(original_string))\n",
    "\n",
    "assert original_string == sample_string"
   ]
  },
  {
   "cell_type": "markdown",
   "metadata": {},
   "source": [
    "The tokenizer encodes the string by breaking it into subwords if the word is not in its dictionary."
   ]
  },
  {
   "cell_type": "code",
   "execution_count": 5,
   "metadata": {},
   "outputs": [
    {
     "name": "stdout",
     "output_type": "stream",
     "text": [
      "7915 ------> T\n",
      "1248 ------> ran\n",
      "7946 ------> s\n",
      "7194 ------> former \n",
      "13 ------> is \n",
      "2799 ------> awesome\n",
      "7877 ------> .\n"
     ]
    }
   ],
   "source": [
    "for ts in tokenized_string:\n",
    "    print('{} ------> {}'.format(ts, tokenizer_en.decode([ts])))"
   ]
  },
  {
   "cell_type": "code",
   "execution_count": 6,
   "metadata": {},
   "outputs": [],
   "source": [
    "BUFFER_SIZE = 20000\n",
    "BATCH_SIZE = 64"
   ]
  },
  {
   "cell_type": "markdown",
   "metadata": {},
   "source": [
    "Add a start and end token to the input and target."
   ]
  },
  {
   "cell_type": "code",
   "execution_count": 7,
   "metadata": {},
   "outputs": [],
   "source": [
    "def encode(lang1, lang2):\n",
    "    lang1 = [tokenizer_pt.vocab_size] + tokenizer_pt.encode(\n",
    "    lang1.numpy()) + [tokenizer_pt.vocab_size + 1]\n",
    "    \n",
    "    lang2 = [tokenizer_en.vocab_size] + tokenizer_en.encode(\n",
    "    lang2.numpy()) + [tokenizer_en.vocab_size + 1]\n",
    "    \n",
    "    return lang1, lang2"
   ]
  },
  {
   "cell_type": "markdown",
   "metadata": {},
   "source": [
    "You want to use `Dataset.map` to apply this function to each element of the dataset.  `Dataset.map` runs in graph mode.\n",
    "\n",
    "* Graph tensors do not have a value. \n",
    "* In graph mode you can only use TensorFlow Ops and functions. \n",
    "\n",
    "So you can't `.map` this function directly: You need to wrap it in a `tf.py_function`. The `tf.py_function` will pass regular tensors (with a value and a `.numpy()` method to access it), to the wrapped python function."
   ]
  },
  {
   "cell_type": "code",
   "execution_count": 8,
   "metadata": {},
   "outputs": [],
   "source": [
    "def tf_encode(pt, en):\n",
    "    \n",
    "    result_pt, result_en = tf.py_function(encode, [pt, en], [tf.int64, tf.int64])\n",
    "    result_pt.set_shape([None])\n",
    "    result_en.set_shape([None])\n",
    "    \n",
    "    return result_pt, result_en"
   ]
  },
  {
   "cell_type": "code",
   "execution_count": 9,
   "metadata": {},
   "outputs": [],
   "source": [
    "MAX_LENGTH = 40"
   ]
  },
  {
   "cell_type": "code",
   "execution_count": 10,
   "metadata": {},
   "outputs": [],
   "source": [
    "def filter_max_length(x, y, max_length = MAX_LENGTH):\n",
    "    return tf.logical_and(tf.size(x) < max_length, \n",
    "                          tf.size(y) <= max_length)"
   ]
  },
  {
   "cell_type": "code",
   "execution_count": 11,
   "metadata": {},
   "outputs": [],
   "source": [
    "train_dataset = train_examples.map(tf_encode)\n",
    "train_dataset = train_dataset.filter(filter_max_length)\n",
    "\n",
    "#cache the dataset to memory to get a speedup while reading from it.\n",
    "train_dataset = train_dataset.cache()\n",
    "train_dataset = train_dataset.shuffle(BUFFER_SIZE).padded_batch(BATCH_SIZE)\n",
    "train_dataset = train_dataset.prefetch(tf.data.experimental.AUTOTUNE)\n",
    "\n",
    "val_dataset = val_examples.map(tf_encode)\n",
    "val_dataset = val_dataset.filter(filter_max_length).padded_batch(BATCH_SIZE)"
   ]
  },
  {
   "cell_type": "code",
   "execution_count": 12,
   "metadata": {},
   "outputs": [
    {
     "data": {
      "text/plain": [
       "(<tf.Tensor: shape=(64, 38), dtype=int64, numpy=\n",
       " array([[8214,  342, 3032, ...,    0,    0,    0],\n",
       "        [8214,   95,  198, ...,    0,    0,    0],\n",
       "        [8214, 4479, 7990, ...,    0,    0,    0],\n",
       "        ...,\n",
       "        [8214,  584,   12, ...,    0,    0,    0],\n",
       "        [8214,   59, 1548, ...,    0,    0,    0],\n",
       "        [8214,  118,   34, ...,    0,    0,    0]], dtype=int64)>,\n",
       " <tf.Tensor: shape=(64, 40), dtype=int64, numpy=\n",
       " array([[8087,   98,   25, ...,    0,    0,    0],\n",
       "        [8087,   12,   20, ...,    0,    0,    0],\n",
       "        [8087,   12, 5453, ...,    0,    0,    0],\n",
       "        ...,\n",
       "        [8087,   18, 2059, ...,    0,    0,    0],\n",
       "        [8087,   16, 1436, ...,    0,    0,    0],\n",
       "        [8087,   15,   57, ...,    0,    0,    0]], dtype=int64)>)"
      ]
     },
     "execution_count": 12,
     "metadata": {},
     "output_type": "execute_result"
    }
   ],
   "source": [
    "pt_batch, en_batch = next(iter(val_dataset))\n",
    "pt_batch, en_batch"
   ]
  },
  {
   "cell_type": "markdown",
   "metadata": {},
   "source": [
    "## Positional encoding\n",
    "\n",
    "Since this model doesn't contain any recurrence or convolution, positional encoding is added to give the model some information about the relative position of the words in the sentence. \n",
    "\n",
    "The positional encoding vector is added to the embedding vector. Embeddings represent a token in a d-dimensional space where tokens with similar meaning will be closer to each other. But the embeddings do not encode the relative position of words in a sentence. So after adding the positional encoding, words will be closer to each other based on the *similarity of their meaning and their position in the sentence*, in the d-dimensional space.\n",
    "\n",
    "The formula for calculating the positional encoding is as follows:\n",
    "\n",
    "$${PE_{(pos, 2i)} = sin(pos / 10000^{2i / d_{model}})} $$\n",
    "$${PE_{(pos, 2i+1)} = cos(pos / 10000^{2i / d_{model}})} $$"
   ]
  },
  {
   "cell_type": "code",
   "execution_count": 13,
   "metadata": {},
   "outputs": [],
   "source": [
    "def get_angles(pos, i, d_model):\n",
    "    angle_rates = 1 / np.power(10000, (2*(i//2))/ np.float32(d_model))\n",
    "    return pos * angle_rates"
   ]
  },
  {
   "cell_type": "code",
   "execution_count": 14,
   "metadata": {},
   "outputs": [],
   "source": [
    "def positional_encoding(position, d_model):\n",
    "    angle_rads = get_angles(np.arange(position)[:, np.newaxis],\n",
    "                           np.arange(d_model)[np.newaxis, :],\n",
    "                           d_model)\n",
    "    \n",
    "    #apply sin to even indices in the array; 2i\n",
    "    angle_rads[:, 0::2] = np.sin(angle_rads[:, 0::2])\n",
    "    \n",
    "    #apply cos to odd indices in the array; 2i + 1\n",
    "    angle_rads[:, 1::2] = np.cos(angle_rads[:, 1::2])\n",
    "    \n",
    "    pos_encoding = angle_rads[np.newaxis, ...]\n",
    "    \n",
    "    return tf.cast(pos_encoding, dtype = tf.float32)"
   ]
  },
  {
   "cell_type": "code",
   "execution_count": 15,
   "metadata": {},
   "outputs": [
    {
     "name": "stdout",
     "output_type": "stream",
     "text": [
      "(1, 50, 512)\n"
     ]
    },
    {
     "data": {
      "image/png": "[encoded data removed]",
      "text/plain": [
       "<Figure size 432x288 with 2 Axes>"
      ]
     },
     "metadata": {
      "needs_background": "light"
     },
     "output_type": "display_data"
    }
   ],
   "source": [
    "pos_encoding = positional_encoding(50, 512)\n",
    "print(pos_encoding.shape)\n",
    "\n",
    "plt.pcolormesh(pos_encoding[0], cmap = 'RdBu')\n",
    "plt.xlabel('Depth')\n",
    "plt.xlim((0, 512))\n",
    "plt.ylabel('Position')\n",
    "plt.colorbar()\n",
    "plt.show()"
   ]
  },
  {
   "cell_type": "markdown",
   "metadata": {},
   "source": [
    "## Masking"
   ]
  },
  {
   "cell_type": "markdown",
   "metadata": {},
   "source": [
    "Mask all the pad tokens in the batch of sequence. It ensures that the model does not treat padding as the input. The mask indicates where pad value `0` is present: it outputs a `1` at those locations, and a `0` otherwise."
   ]
  },
  {
   "cell_type": "code",
   "execution_count": 16,
   "metadata": {},
   "outputs": [],
   "source": [
    "def create_padding_mask(seq):\n",
    "    seq = tf.cast(tf.math.equal(seq, 0), tf.float32)\n",
    "    \n",
    "    #add extra dimension to add the padding to the attention logits\n",
    "    \n",
    "    return seq[:, tf.newaxis, tf.newaxis, :]\n",
    "    #(batch_size, 1, 1, seq_len)"
   ]
  },
  {
   "cell_type": "code",
   "execution_count": 17,
   "metadata": {},
   "outputs": [
    {
     "data": {
      "text/plain": [
       "<tf.Tensor: shape=(3, 1, 1, 5), dtype=float32, numpy=\n",
       "array([[[[0., 0., 1., 1., 0.]]],\n",
       "\n",
       "\n",
       "       [[[0., 0., 0., 1., 1.]]],\n",
       "\n",
       "\n",
       "       [[[1., 1., 1., 0., 0.]]]], dtype=float32)>"
      ]
     },
     "execution_count": 17,
     "metadata": {},
     "output_type": "execute_result"
    }
   ],
   "source": [
    "x = tf.constant([[7, 6, 0, 0, 1], [1, 2, 3, 0, 0], [0, 0, 0, 4, 5]])\n",
    "create_padding_mask(x)"
   ]
  },
  {
   "cell_type": "markdown",
   "metadata": {},
   "source": [
    "The look-ahead mask is used to mask the future tokens in a sequence. In other words, the mask indicates which entries should not be used.\n",
    "\n",
    "This means that to predict the third word, only the first and second word will be used. Similarly to predict the fourth word, only the first, second and the third word will be used and so on."
   ]
  },
  {
   "cell_type": "code",
   "execution_count": 18,
   "metadata": {},
   "outputs": [],
   "source": [
    "def create_look_ahead_mask(size):\n",
    "    mask = 1 - tf.linalg.band_part(tf.ones((size, size)), -1, 0)\n",
    "    return mask  # (seq_len, seq_len)"
   ]
  },
  {
   "cell_type": "code",
   "execution_count": 19,
   "metadata": {},
   "outputs": [
    {
     "data": {
      "text/plain": [
       "<tf.Tensor: shape=(3, 3), dtype=float32, numpy=\n",
       "array([[0., 1., 1.],\n",
       "       [0., 0., 1.],\n",
       "       [0., 0., 0.]], dtype=float32)>"
      ]
     },
     "execution_count": 19,
     "metadata": {},
     "output_type": "execute_result"
    }
   ],
   "source": [
    "x = tf.random.uniform((1, 3))\n",
    "temp = create_look_ahead_mask(x.shape[1])\n",
    "temp"
   ]
  },
  {
   "cell_type": "markdown",
   "metadata": {},
   "source": [
    "## Scaled dot product attention"
   ]
  },
  {
   "cell_type": "markdown",
   "metadata": {},
   "source": [
    "<img src=\"https://www.tensorflow.org/images/tutorials/transformer/scaled_attention.png\" width=\"500\" alt=\"scaled_dot_product_attention\">\n",
    "\n",
    "The attention function used by the transformer takes three inputs: Q (query), K (key), V (value). The equation used to calculate the attention weights is:\n",
    "\n",
    "$${Attention(Q, K, V) = softmax_k(\\frac{QK^T}{\\sqrt{d_k}}) V} $$\n",
    "\n",
    "The dot-product attention is scaled by a factor of square root of the depth. This is done because for large values of depth, the dot product grows large in magnitude pushing the softmax function where it has small gradients resulting in a very hard softmax. \n",
    "\n",
    "For example, consider that `Q` and `K` have a mean of 0 and variance of 1. Their matrix multiplication will have a mean of 0 and variance of `dk`. Hence, *square root of `dk`* is used for scaling (and not any other number) because the matmul of `Q` and `K` should have a mean of 0 and variance of 1, and you get a gentler softmax.\n",
    "\n",
    "The mask is multiplied with -1e9 (close to negative infinity). This is done because the mask is summed with the scaled matrix multiplication of Q and K and is applied immediately before a softmax. The goal is to zero out these cells, and large negative inputs to softmax are near zero in the output."
   ]
  },
  {
   "cell_type": "code",
   "execution_count": 20,
   "metadata": {},
   "outputs": [],
   "source": [
    "def scaled_dot_product_attention(q, k, v, mask):\n",
    "    \"\"\"Calculate the attention weights.\n",
    "    q, k, v must have matching leading dimensions.\n",
    "    k, v must have matching penultimate dimension, i.e.: seq_len_k = seq_len_v.\n",
    "    The mask has different shapes depending on its type(padding or look ahead)\n",
    "    but it must be broadcastable for addition.\n",
    "    \n",
    "    Args:\n",
    "        q: query shape == (..., seq_len_q, depth)\n",
    "        k: key shape == (..., seq_len_k, depth)\n",
    "        v: value shape == (..., seq_len_v, depth_v)\n",
    "        mask: Float tensor with shape broadcastable to\n",
    "              (..., seq_len_q, seq_len_k). Defaults to None.\n",
    "              \n",
    "    Returns:\n",
    "        output, attention_weights\n",
    "    \"\"\"\n",
    "    \n",
    "    matmul_qk = tf.matmul(q, k, transpose_b = True)  #(..., seq_len_q, seq_len_k)\n",
    "    \n",
    "    # scale matmul_qk\n",
    "    dk = tf.cast(tf.shape(k)[-1], tf.float32)\n",
    "    scaled_attention_logits = matmul_qk / tf.math.sqrt(dk)\n",
    "    \n",
    "    # add the mask to the scaled tensor\n",
    "    if mask is not None:\n",
    "        scaled_attention_logits += (mask * -1e9)\n",
    "        \n",
    "    # softmax is normalized on the last axis (seq_len_k) so that the scores\n",
    "    # add up to 1.\n",
    "    attention_weights = tf.nn.softmax(scaled_attention_logits, axis = -1)\n",
    "    # (..., seq_len_q, seq_len_k)\n",
    "    \n",
    "    output = tf.matmul(attention_weights, v) # (..., seq_len_q, depth_v)\n",
    "    \n",
    "    return output, attention_weights\n",
    "    "
   ]
  },
  {
   "cell_type": "markdown",
   "metadata": {},
   "source": [
    "As the softmax normalization is done on K, its values decide the amount of importance given to Q.\n",
    "\n",
    "The output represents the multiplication of the attention weights and the V (value) vector. This ensures that the words you want to focus on are kept as-is and the irrelevant words are flushed out."
   ]
  },
  {
   "cell_type": "code",
   "execution_count": 21,
   "metadata": {},
   "outputs": [],
   "source": [
    "def print_out(q, k, v):\n",
    "    temp_out, temp_attn = scaled_dot_product_attention(\n",
    "    q, k, v, None)\n",
    "    \n",
    "    print('Attention weights are:')\n",
    "    print(temp_attn)\n",
    "    print('Output is:')\n",
    "    print(temp_out)"
   ]
  },
  {
   "cell_type": "code",
   "execution_count": 22,
   "metadata": {},
   "outputs": [
    {
     "name": "stdout",
     "output_type": "stream",
     "text": [
      "Attention weights are:\n",
      "tf.Tensor([[0. 1. 0. 0.]], shape=(1, 4), dtype=float32)\n",
      "Output is:\n",
      "tf.Tensor([[10.  0.]], shape=(1, 2), dtype=float32)\n"
     ]
    }
   ],
   "source": [
    "np.set_printoptions(suppress = True)\n",
    "\n",
    "temp_k = tf.constant([[10, 0, 0],\n",
    "                      [0, 10, 0],\n",
    "                      [0, 0, 10],\n",
    "                      [0, 0, 10]], dtype = tf.float32) #(4,3)\n",
    "\n",
    "temp_v = tf.constant([[1, 0],\n",
    "                     [10,0],\n",
    "                     [100,5],\n",
    "                     [1000, 6]], dtype = tf.float32) # (4, 2)\n",
    "\n",
    "# The query aligns with the second 'key',\n",
    "# so the second value is returned.\n",
    "\n",
    "temp_q = tf.constant([[0, 10, 0]], dtype = tf.float32) # (1, 3)\n",
    "print_out(temp_q, temp_k, temp_v)"
   ]
  },
  {
   "cell_type": "code",
   "execution_count": 23,
   "metadata": {},
   "outputs": [
    {
     "name": "stdout",
     "output_type": "stream",
     "text": [
      "Attention weights are:\n",
      "tf.Tensor([[0.  0.  0.5 0.5]], shape=(1, 4), dtype=float32)\n",
      "Output is:\n",
      "tf.Tensor([[550.    5.5]], shape=(1, 2), dtype=float32)\n"
     ]
    }
   ],
   "source": [
    "# This query aligns with a repeated key (third and fourth),\n",
    "# so all associated values get averged\n",
    "\n",
    "temp_q = tf.constant([[0, 0, 10]], dtype = tf.float32) # (1, 3)\n",
    "print_out(temp_q, temp_k, temp_v)"
   ]
  },
  {
   "cell_type": "code",
   "execution_count": 24,
   "metadata": {},
   "outputs": [
    {
     "name": "stdout",
     "output_type": "stream",
     "text": [
      "Attention weights are:\n",
      "tf.Tensor([[0.5 0.5 0.  0. ]], shape=(1, 4), dtype=float32)\n",
      "Output is:\n",
      "tf.Tensor([[5.5 0. ]], shape=(1, 2), dtype=float32)\n"
     ]
    }
   ],
   "source": [
    "# This query aligns equally with the first and second key,\n",
    "# so their values get avergae.\n",
    "\n",
    "temp_q = tf.constant([[10, 10, 0]], dtype = tf.float32) # (1, 3)\n",
    "print_out(temp_q, temp_k, temp_v)"
   ]
  },
  {
   "cell_type": "markdown",
   "metadata": {},
   "source": [
    "Pass all the queries together."
   ]
  },
  {
   "cell_type": "code",
   "execution_count": 25,
   "metadata": {},
   "outputs": [
    {
     "name": "stdout",
     "output_type": "stream",
     "text": [
      "Attention weights are:\n",
      "tf.Tensor(\n",
      "[[0.  0.  0.5 0.5]\n",
      " [0.  1.  0.  0. ]\n",
      " [0.5 0.5 0.  0. ]], shape=(3, 4), dtype=float32)\n",
      "Output is:\n",
      "tf.Tensor(\n",
      "[[550.    5.5]\n",
      " [ 10.    0. ]\n",
      " [  5.5   0. ]], shape=(3, 2), dtype=float32)\n"
     ]
    }
   ],
   "source": [
    "temp_q = tf.constant([[0, 0, 10], [0, 10, 0], [10, 10, 0]], dtype=tf.float32)  # (3, 3)\n",
    "print_out(temp_q, temp_k, temp_v)"
   ]
  },
  {
   "cell_type": "markdown",
   "metadata": {},
   "source": [
    "## Multi-head Attention"
   ]
  },
  {
   "cell_type": "markdown",
   "metadata": {},
   "source": [
    "<img src=\"https://www.tensorflow.org/images/tutorials/transformer/multi_head_attention.png\" width=\"500\" alt=\"multi-head attention\">\n",
    "\n",
    "\n",
    "Multi-head attention consists of four parts:\n",
    "*    Linear layers and split into heads.\n",
    "*    Scaled dot-product attention.\n",
    "*    Concatenation of heads.\n",
    "*    Final linear layer."
   ]
  },
  {
   "cell_type": "markdown",
   "metadata": {},
   "source": [
    "Each multi-head attention block gets three inputs; Q (query), K (key), V (value). These are put through linear (Dense) layers and split up into multiple heads. \n",
    "\n",
    "The `scaled_dot_product_attention` defined above is applied to each head (broadcasted for efficiency). An appropriate mask must be used in the attention step.  The attention output for each head is then concatenated (using `tf.transpose`, and `tf.reshape`) and put through a final `Dense` layer.\n",
    "\n",
    "Instead of one single attention head, Q, K, and V are split into multiple heads because it allows the model to jointly attend to information at different positions from different representational spaces. After the split each head has a reduced dimensionality, so the total computation cost is the same as a single head attention with full dimensionality."
   ]
  },
  {
   "cell_type": "code",
   "execution_count": 34,
   "metadata": {},
   "outputs": [],
   "source": [
    "class MultiHeadAttention(tf.keras.layers.Layer):\n",
    "    def __init__(self, d_model, num_heads):\n",
    "        super().__init__()\n",
    "        self.num_heads = num_heads\n",
    "        self.d_model = d_model\n",
    "        \n",
    "        assert d_model % self.num_heads == 0\n",
    "        \n",
    "        self.depth = d_model // self.num_heads\n",
    "        \n",
    "        self.wq = tf.keras.layers.Dense(d_model)\n",
    "        self.wk = tf.keras.layers.Dense(d_model)\n",
    "        self.wv = tf.keras.layers.Dense(d_model)\n",
    "        \n",
    "        self.dense = tf.keras.layers.Dense(d_model)\n",
    "        \n",
    "    def split_heads(self, x, batch_size):\n",
    "        \"\"\"\n",
    "        Split the last dimension into (num_heads, depth).\n",
    "        Transpose the result such that the shape is (batch_size, num_heads, seq_len, depth)\n",
    "        \"\"\"\n",
    "        x = tf.reshape(x, (batch_size, -1, self.num_heads, self.depth))\n",
    "        return tf.transpose(x, perm = [0, 2, 1, 3])\n",
    "    \n",
    "    def call(self, v, k, q, mask):\n",
    "        batch_size = tf.shape(q)[0]\n",
    "        \n",
    "        q = self.wq(q)   #(batch_size, seq_len, d_model)\n",
    "        k = self.wk(k)   #(batch_size, seq_len, d_model)\n",
    "        v = self.wv(v)   #(batch_size, seq_len, d_model)\n",
    "        \n",
    "        q = self.split_heads(q, batch_size) # (batch_size, num_heads, seq_len_q, depth)\n",
    "        k = self.split_heads(k, batch_size) # (batch_size, num_heads, seq_len_k, depth)\n",
    "        v = self.split_heads(v, batch_size) # (batch_size, num_heads, seq_len_v, depth)\n",
    "        \n",
    "        # scaled_attention.shape == (batch_size, num_heads, seq_len_q, depth)\n",
    "        # attention_weights.shape == (batch_size, num_heads, seq_len_q, seq_len_k)\n",
    "        scaled_attention, attention_weights = scaled_dot_product_attention(\n",
    "                                               q, k, v, mask)\n",
    "        \n",
    "        scaled_attention = tf.transpose(scaled_attention, perm = [0, 2, 1, 3]) # (batch_size, seq_len_q, num_heads, depth)\n",
    "        \n",
    "        concat_attention = tf.reshape(scaled_attention,\n",
    "                                     (batch_size, -1, self.d_model)) # (batch_size, seq_len_q, d_model)\n",
    "        \n",
    "        output = self.dense(concat_attention) # (batch_size, seq_len_q, d_model)\n",
    "        \n",
    "        return output, attention_weights"
   ]
  },
  {
   "cell_type": "markdown",
   "metadata": {},
   "source": [
    "Create a MultiHeadAttention layer to try out. At each location in the sequence, y, the MultiHeadAttention runs all 8 attention heads across all other locations in the sequence, returning a new vector of the same length at each location."
   ]
  },
  {
   "cell_type": "code",
   "execution_count": 35,
   "metadata": {
    "scrolled": true
   },
   "outputs": [
    {
     "data": {
      "text/plain": [
       "(TensorShape([1, 60, 512]), TensorShape([1, 8, 60, 60]))"
      ]
     },
     "execution_count": 35,
     "metadata": {},
     "output_type": "execute_result"
    }
   ],
   "source": [
    "temp_mha = MultiHeadAttention(d_model=512, num_heads=8)\n",
    "y = tf.random.uniform((1, 60, 512)) # (batch_size, encoder_sequence, d_model)\n",
    "out, attn = temp_mha(y, k=y, q=y, mask=None)\n",
    "out.shape, attn.shape"
   ]
  },
  {
   "cell_type": "markdown",
   "metadata": {},
   "source": [
    "## Point wise feed forwards network"
   ]
  },
  {
   "cell_type": "markdown",
   "metadata": {},
   "source": [
    "Point wise feed forward network consists of two fully-connected layers with a ReLU activation in between."
   ]
  },
  {
   "cell_type": "code",
   "execution_count": 36,
   "metadata": {},
   "outputs": [],
   "source": [
    "def point_wise_feed_forward_network(d_model, dff):\n",
    "    return tf.keras.Sequential([\n",
    "        tf.keras.layers.Dense(dff, activation = 'relu'), #(batch_size, seq_len, dff)\n",
    "        tf.keras.layers.Dense(d_model) # (batch_size, seq_len, d_model)\n",
    "    ])"
   ]
  },
  {
   "cell_type": "code",
   "execution_count": 37,
   "metadata": {},
   "outputs": [
    {
     "data": {
      "text/plain": [
       "TensorShape([64, 50, 512])"
      ]
     },
     "execution_count": 37,
     "metadata": {},
     "output_type": "execute_result"
    }
   ],
   "source": [
    "sample_ffn = point_wise_feed_forward_network(512, 2048)\n",
    "sample_ffn(tf.random.uniform((64, 50, 512))).shape"
   ]
  },
  {
   "cell_type": "markdown",
   "metadata": {},
   "source": [
    "## Encoder and decoder"
   ]
  },
  {
   "cell_type": "markdown",
   "metadata": {},
   "source": [
    "<img src=\"https://www.tensorflow.org/images/tutorials/transformer/transformer.png\" width=\"600\" alt=\"transformer\">"
   ]
  },
  {
   "cell_type": "markdown",
   "metadata": {},
   "source": [
    "The transformer model follows the same general pattern as a standard. \n",
    "\n",
    "* The input sentence is passed through `N` encoder layers that generates an output for each word/token in the sequence.\n",
    "* The decoder attends on the encoder's output and its own input (self-attention) to predict the next word. "
   ]
  },
  {
   "cell_type": "markdown",
   "metadata": {},
   "source": [
    "### Encoder layer\n",
    "\n",
    "Each encoder layer consists of sublayers:\n",
    "\n",
    "1.   Multi-head attention (with padding mask) \n",
    "2.    Point wise feed forward networks. \n",
    "\n",
    "Each of these sublayers has a residual connection around it followed by a layer normalization. Residual connections help in avoiding the vanishing gradient problem in deep networks.\n",
    "\n",
    "The output of each sublayer is `LayerNorm(x + Sublayer(x))`. The normalization is done on the `d_model` (last) axis. There are N encoder layers in the transformer."
   ]
  },
  {
   "cell_type": "code",
   "execution_count": 38,
   "metadata": {},
   "outputs": [],
   "source": [
    "class EncoderLayer(tf.keras.layers.Layer):\n",
    "    def __init__(self, d_model, num_heads, dff, rate = 0.1):\n",
    "        super().__init__()\n",
    "        \n",
    "        self.mha = MultiHeadAttention(d_model, num_heads)\n",
    "        self.ffn = point_wise_feed_forward_network(d_model, dff)\n",
    "        \n",
    "        self.layernorm1 = tf.keras.layers.LayerNormalization(epsilon=1e-6)\n",
    "        self.layernorm2 = tf.keras.layers.LayerNormalization(epsilon=1e-6)\n",
    "        \n",
    "        self.dropout1 = tf.keras.layers.Dropout(rate)\n",
    "        self.dropout2 = tf.keras.layers.Dropout(rate)\n",
    "        \n",
    "    def call(self, x, training, mask):\n",
    "        \n",
    "        attn_output, _ = self.mha(x, x, x, mask)   #(batch_size, input_seq_length, d_model)\n",
    "        attn_output = self.dropout1(attn_output, training = training)\n",
    "        out1 = self.layernorm1( x + attn_output)   #(batch_size, input_seq_length, d_model)\n",
    "        \n",
    "        ffn_output = self.ffn(out1)            #(batch_size, input_seq_length, d_model)\n",
    "        ffn_output = self.dropout2(ffn_output, training = training)\n",
    "        out2 = self.layernorm2( out1 + ffn_output) #(batch_size, input_seq_length, d_model)\n",
    "        \n",
    "        return out2"
   ]
  },
  {
   "cell_type": "code",
   "execution_count": 39,
   "metadata": {},
   "outputs": [
    {
     "data": {
      "text/plain": [
       "TensorShape([64, 43, 512])"
      ]
     },
     "execution_count": 39,
     "metadata": {},
     "output_type": "execute_result"
    }
   ],
   "source": [
    "sample_encoder_layer = EncoderLayer(512, 8, 2048)\n",
    "\n",
    "sample_encoder_layer_output = sample_encoder_layer(\n",
    "             tf.random.uniform((64, 43, 512)), False, None)\n",
    "\n",
    "sample_encoder_layer_output.shape #(batch_size, input_seq_length, d_model)"
   ]
  },
  {
   "cell_type": "markdown",
   "metadata": {},
   "source": [
    "### Decoder layer\n",
    "\n",
    "Each decoder layer consists of sublayers:\n",
    "\n",
    "1.   Masked multi-head attention (with look ahead mask and padding mask)\n",
    "2.   Multi-head attention (with padding mask). V (value) and K (key) receive the *encoder output* as inputs. Q (query) receives the *output from the masked multi-head attention sublayer.*\n",
    "3.   Point wise feed forward networks\n",
    "\n",
    "Each of these sublayers has a residual connection around it followed by a layer normalization. The output of each sublayer is `LayerNorm(x + Sublayer(x))`. The normalization is done on the `d_model` (last) axis.\n",
    "\n",
    "There are N decoder layers in the transformer.\n",
    "\n",
    "As Q receives the output from decoder's first attention block, and K receives the encoder output, the attention weights represent the importance given to the decoder's input based on the encoder's output. In other words, the decoder predicts the next word by looking at the encoder output and self-attending to its own output. See the demonstration above in the scaled dot product attention section."
   ]
  },
  {
   "cell_type": "code",
   "execution_count": 40,
   "metadata": {},
   "outputs": [],
   "source": [
    "class DecoderLayer(tf.keras.layers.Layer):\n",
    "    def __init__(self, d_model, num_heads, dff, rate = 0.1):\n",
    "        super().__init__()\n",
    "        \n",
    "        self.mha1 = MultiHeadAttention(d_model, num_heads)\n",
    "        self.mha2 = MultiHeadAttention(d_model, num_heads)\n",
    "        \n",
    "        self.ffn = point_wise_feed_forward_network(d_model, dff)\n",
    "        \n",
    "        self.layernorm1 = tf.keras.layers.LayerNormalization(epsilon=1e-6)\n",
    "        self.layernorm2 = tf.keras.layers.LayerNormalization(epsilon=1e-6)\n",
    "        self.layernorm3 = tf.keras.layers.LayerNormalization(epsilon=1e-6)\n",
    "        \n",
    "        self.dropout1 = tf.keras.layers.Dropout(rate)\n",
    "        self.dropout2 = tf.keras.layers.Dropout(rate)\n",
    "        self.dropout3 = tf.keras.layers.Dropout(rate)\n",
    "        \n",
    "    def call(self, x, enc_output, training, look_ahead_mask, padding_mask):\n",
    "        \n",
    "        # enc_output.shape == (batch_size, input_seq_len, d_model)\n",
    "        \n",
    "        attn1, attn_weights_block1 = self.mha1(x, x, x, look_ahead_mask) #(batch_size, target_seq_len, d_model)\n",
    "        attn1 = self.dropout1(attn1, training=training)\n",
    "        out1 = self.layernorm1(attn1 + x)\n",
    "        \n",
    "        attn2, attn_weights_block2 = self.mha2(enc_output, enc_output, out1, padding_mask) #(batch_size, target_seq_len, d_model)\n",
    "        attn2 = self.dropout2(attn2, training=training)\n",
    "        out2 = self.layernorm2(attn2 + out1)  #(batch_size, target_seq_len, d_model)\n",
    "        \n",
    "        ffn_output = self.ffn(out2)    #(batch_size, target_seq_len, d_model)\n",
    "        ffn_output = self.dropout3(ffn_output)\n",
    "        out3 = self.layernorm3(ffn_output + out2)  #(batch_size, target_seq_len, d_model)\n",
    "        \n",
    "        return out3, attn_weights_block1, attn_weights_block2"
   ]
  },
  {
   "cell_type": "code",
   "execution_count": 41,
   "metadata": {},
   "outputs": [
    {
     "data": {
      "text/plain": [
       "TensorShape([64, 50, 512])"
      ]
     },
     "execution_count": 41,
     "metadata": {},
     "output_type": "execute_result"
    }
   ],
   "source": [
    "sample_decoder_layer = DecoderLayer(512, 8, 2048)\n",
    "\n",
    "sample_decoder_layer_output, _, _ = sample_decoder_layer(\n",
    "    tf.random.uniform((64, 50, 512)), sample_encoder_layer_output,\n",
    "    False, None, None)\n",
    "\n",
    "sample_decoder_layer_output.shape  #(batch_size, target_seq_len, d_model)"
   ]
  },
  {
   "cell_type": "markdown",
   "metadata": {},
   "source": [
    "### Encoder\n",
    "\n",
    "The `Encoder` consists of:\n",
    "1.   Input Embedding\n",
    "2.   Positional Encoding\n",
    "3.   N encoder layers\n",
    "\n",
    "The input is put through an embedding which is summed with the positional encoding. The output of this summation is the input to the encoder layers. The output of the encoder is the input to the decoder."
   ]
  },
  {
   "cell_type": "code",
   "execution_count": 42,
   "metadata": {},
   "outputs": [],
   "source": [
    "class Encoder(tf.keras.layers.Layer):\n",
    "    def __init__(self, num_layers, d_model, num_heads, dff, input_vocab_size,\n",
    "                maximum_position_encoding, rate = 0.1):\n",
    "        super().__init__()\n",
    "        \n",
    "        self.d_model = d_model\n",
    "        self.num_layers = num_layers\n",
    "        \n",
    "        self.embedding = tf.keras.layers.Embedding(input_vocab_size, d_model)\n",
    "        self.pos_encoding = positional_encoding(maximum_position_encoding, self.d_model)\n",
    "        \n",
    "        self.enc_layers = [EncoderLayer(d_model, num_heads, dff, rate)\n",
    "                          for _ in range(num_layers)]\n",
    "        \n",
    "        self.dropout = tf.keras.layers.Dropout(rate)\n",
    "        \n",
    "    def call(self, x, training, mask):\n",
    "        \n",
    "        seq_len = tf.shape(x)[1]\n",
    "        \n",
    "        # adding embedding and position encoding\n",
    "        x = self.embedding(x) # (batch_size, input_seq_len, d_model)\n",
    "        x *= tf.math.sqrt(tf.cast(self.d_model, tf.float32))\n",
    "        x += self.pos_encoding[:, :seq_len, :]\n",
    "        \n",
    "        x = self.dropout(x, training=training)\n",
    "        \n",
    "        for i in range(self.num_layers):\n",
    "            x = self.enc_layers[i](x, training, mask)\n",
    "            \n",
    "        return x # (batch_size, input_seq_len, d_model)"
   ]
  },
  {
   "cell_type": "code",
   "execution_count": 43,
   "metadata": {},
   "outputs": [
    {
     "name": "stdout",
     "output_type": "stream",
     "text": [
      "(64, 62, 512)\n"
     ]
    }
   ],
   "source": [
    "sample_encoder = Encoder(num_layers=2, d_model=512, num_heads=8,\n",
    "                        dff=2048, input_vocab_size=8500,\n",
    "                        maximum_position_encoding=10000)\n",
    "temp_input = tf.random.uniform((64,62), dtype=tf.int64, minval=0, maxval=200)\n",
    "\n",
    "sample_encoder_output = sample_encoder(temp_input, training=False, mask=None)\n",
    "\n",
    "print(sample_encoder_output.shape) # (batch_size, input_seq_len, d_model)"
   ]
  },
  {
   "cell_type": "markdown",
   "metadata": {},
   "source": [
    "### Decoder\n",
    "\n",
    " The `Decoder` consists of:\n",
    "1.   Output Embedding\n",
    "2.   Positional Encoding\n",
    "3.   N decoder layers\n",
    "\n",
    "The target is put through an embedding which is summed with the positional encoding. The output of this summation is the input to the decoder layers. The output of the decoder is the input to the final linear layer."
   ]
  },
  {
   "cell_type": "code",
   "execution_count": 44,
   "metadata": {},
   "outputs": [],
   "source": [
    "class Decoder(tf.keras.layers.Layer):\n",
    "    def __init__(self, num_layers, d_model, num_heads, dff, target_vocab_size,\n",
    "                maximum_position_encoding, rate=0.1):\n",
    "        super().__init__()\n",
    "        \n",
    "        self.d_model = d_model\n",
    "        self.num_layers = num_layers\n",
    "        \n",
    "        self.embedding = tf.keras.layers.Embedding(target_vocab_size, d_model)\n",
    "        self.pos_encoding = positional_encoding(maximum_position_encoding, d_model)\n",
    "        \n",
    "        self.dec_layers = [DecoderLayer(d_model, num_heads, dff, rate)\n",
    "                          for _ in range(num_layers)]\n",
    "        self.dropout = tf.keras.layers.Dropout(rate)\n",
    "        \n",
    "    def call(self, x, enc_output, training, look_ahead_mask, padding_mask):\n",
    "        \n",
    "        seq_len = tf.shape(x)[1]\n",
    "        attention_weights = {}\n",
    "        \n",
    "        x = self.embedding(x)  #(batch_size, target_seq_len, d_model)\n",
    "        x *= tf.math.sqrt(tf.cast(self.d_model, tf.float32))\n",
    "        x += self.pos_encoding[:, :seq_len, :]\n",
    "        \n",
    "        for i in range(self.num_layers):\n",
    "            x, block1, block2 = self.dec_layers[i](x, enc_output, training,\n",
    "                                                  look_ahead_mask, padding_mask)\n",
    "            \n",
    "            attention_weights['decoder_layer{}_block1'.format(i+1)] = block1\n",
    "            attention_weights['decoder_layer{}_block2'.format(i+1)] = block2\n",
    "            \n",
    "        # x.shape == (batch_size, target_seq_len, d_model)\n",
    "        return x, attention_weights\n",
    "        "
   ]
  },
  {
   "cell_type": "code",
   "execution_count": 45,
   "metadata": {},
   "outputs": [
    {
     "data": {
      "text/plain": [
       "(TensorShape([64, 26, 512]), TensorShape([64, 8, 26, 62]))"
      ]
     },
     "execution_count": 45,
     "metadata": {},
     "output_type": "execute_result"
    }
   ],
   "source": [
    "sample_decoder = Decoder(num_layers=2, d_model=512, num_heads=8,\n",
    "                        dff=2048, target_vocab_size=8000,\n",
    "                        maximum_position_encoding=5000)\n",
    "\n",
    "temp_input = tf.random.uniform((64, 26), dtype=tf.int64, minval=0, maxval=200)\n",
    "\n",
    "output, attn = sample_decoder(temp_input,\n",
    "                             enc_output=sample_encoder_output,\n",
    "                             training=False,\n",
    "                             look_ahead_mask=None,\n",
    "                             padding_mask=None)\n",
    "\n",
    "output.shape, attn['decoder_layer2_block2'].shape"
   ]
  },
  {
   "cell_type": "markdown",
   "metadata": {},
   "source": [
    "## Create the Transformer"
   ]
  },
  {
   "cell_type": "markdown",
   "metadata": {},
   "source": [
    "Transformer consists of the encoder, decoder and a final linear layer. The output of the decoder is the input to the linear layer and its output is returned."
   ]
  },
  {
   "cell_type": "code",
   "execution_count": 46,
   "metadata": {},
   "outputs": [],
   "source": [
    "class Transformer(tf.keras.Model):\n",
    "    def __init__(self, num_layers, d_model, num_heads, dff, input_vocab_size,\n",
    "                target_vocab_size, pe_input, pe_target, rate=0.1):\n",
    "        super().__init__()\n",
    "        \n",
    "        self.encoder = Encoder(num_layers, d_model, num_heads, dff,\n",
    "                              input_vocab_size, pe_input, rate)\n",
    "        \n",
    "        self.decoder = Decoder(num_layers, d_model, num_heads, dff,\n",
    "                              target_vocab_size, pe_target, rate)\n",
    "        \n",
    "        self.final_layer = tf.keras.layers.Dense(target_vocab_size)\n",
    "        \n",
    "    def call(self, inp, tar, training, enc_padding_mask,\n",
    "            look_ahead_mask, dec_padding_mask):\n",
    "        \n",
    "        enc_output = self.encoder(inp, training, enc_padding_mask) # (batch_size, inp_seq_len, d_model)\n",
    "        \n",
    "        # dec_output.shape == (batch_size, tar_seq_len, d_model)\n",
    "        dec_output, attention_weights = self.decoder(\n",
    "            tar, enc_output, training, look_ahead_mask, dec_padding_mask)\n",
    "        \n",
    "        final_output = self.final_layer(dec_output) # (batch_size, tar_seq_len, d_model)\n",
    "        \n",
    "        return final_output, attention_weights"
   ]
  },
  {
   "cell_type": "code",
   "execution_count": 47,
   "metadata": {},
   "outputs": [
    {
     "data": {
      "text/plain": [
       "TensorShape([64, 36, 8000])"
      ]
     },
     "execution_count": 47,
     "metadata": {},
     "output_type": "execute_result"
    }
   ],
   "source": [
    "sample_transformer = Transformer(\n",
    "    num_layers=2, d_model=512, num_heads=8, dff=2048,\n",
    "    input_vocab_size=8500, target_vocab_size=8000,\n",
    "    pe_input=10000, pe_target=6000)\n",
    "\n",
    "temp_input = tf.random.uniform((64, 38), dtype=tf.int64, minval=0, maxval=200)\n",
    "temp_target = tf.random.uniform((64, 36), dtype=tf.int64, minval=0, maxval=200)\n",
    "\n",
    "fn_out, _ = sample_transformer(temp_input, temp_target, training=False,\n",
    "                              enc_padding_mask=None,\n",
    "                              look_ahead_mask=None,\n",
    "                              dec_padding_mask=None)\n",
    "\n",
    "fn_out.shape  # (batch_size, tar_seq_len, target_vocab_size)"
   ]
  },
  {
   "cell_type": "markdown",
   "metadata": {},
   "source": [
    "## Set hyperparameters"
   ]
  },
  {
   "cell_type": "markdown",
   "metadata": {},
   "source": [
    "To keep this example small and relatively fast, the values for *num_layers, d_model, and dff* have been reduced. \n",
    "\n",
    "The values used in the base model of transformer were; *num_layers=6*, *d_model = 512*, *dff = 2048*. See the [paper](https://arxiv.org/abs/1706.03762) for all the other versions of the transformer.\n",
    "\n",
    "Note: By changing the values below, you can get the model that achieved state of the art on many task"
   ]
  },
  {
   "cell_type": "code",
   "execution_count": 48,
   "metadata": {},
   "outputs": [],
   "source": [
    "num_layers = 4\n",
    "d_model = 128\n",
    "dff = 512\n",
    "num_heads = 8\n",
    "\n",
    "# 2 for the start of the sequence and end of the sequence\n",
    "input_vocab_size = tokenizer_pt.vocab_size + 2\n",
    "target_vocab_size = tokenizer_pt.vocab_size + 2\n",
    "dropout_rate = 0.1"
   ]
  },
  {
   "cell_type": "markdown",
   "metadata": {},
   "source": [
    "## Optimizer"
   ]
  },
  {
   "cell_type": "markdown",
   "metadata": {},
   "source": [
    "Use the Adam optimizer with a custom learning rate scheduler according to the formula in the [paper](https://arxiv.org/abs/1706.03762).\n",
    "\n",
    "$${lrate = d_{model}^{-0.5} * min(step{\\_}num^{-0.5}, step{\\_}num * warmup{\\_}steps^{-1.5})}$$\n"
   ]
  },
  {
   "cell_type": "code",
   "execution_count": 50,
   "metadata": {},
   "outputs": [],
   "source": [
    "class CustomSchedule(tf.keras.optimizers.schedules.LearningRateSchedule):\n",
    "    def __init__(self, d_model, warmup_steps= 4000):\n",
    "        super().__init__()\n",
    "        \n",
    "        self.d_model = d_model\n",
    "        self.d_model = tf.cast(self.d_model, tf.float32)\n",
    "        \n",
    "        self.warmup_steps = warmup_steps\n",
    "        \n",
    "    def __call__(self, step):\n",
    "        arg1 = tf.math.rsqrt(step) #reciprocal of square root\n",
    "        arg2 = step * (self.warmup_steps ** -1.5)\n",
    "        \n",
    "        return tf.math.rsqrt(self.d_model) * tf.math.minimum(arg1, arg2)"
   ]
  },
  {
   "cell_type": "code",
   "execution_count": 51,
   "metadata": {},
   "outputs": [],
   "source": [
    "learning_rate = CustomSchedule(d_model)\n",
    "\n",
    "optimizer = tf.keras.optimizers.Adam(learning_rate, beta_1 = 0.9, \n",
    "                                     beta_2 = 0.98, epsilon=1e-9)"
   ]
  },
  {
   "cell_type": "code",
   "execution_count": 52,
   "metadata": {},
   "outputs": [
    {
     "data": {
      "text/plain": [
       "Text(0.5, 0, 'Train Step')"
      ]
     },
     "execution_count": 52,
     "metadata": {},
     "output_type": "execute_result"
    },
    {
     "data": {
      "image/png": "[encoded data removed]",
      "text/plain": [
       "<Figure size 432x288 with 1 Axes>"
      ]
     },
     "metadata": {
      "needs_background": "light"
     },
     "output_type": "display_data"
    }
   ],
   "source": [
    "temp_learning_rate_schedule = CustomSchedule(d_model)\n",
    "\n",
    "plt.plot(temp_learning_rate_schedule(tf.range(40000, dtype=tf.float32)))\n",
    "plt.ylabel(\"Learning Rate\")\n",
    "plt.xlabel(\"Train Step\")"
   ]
  },
  {
   "cell_type": "markdown",
   "metadata": {},
   "source": [
    "## Loss and metrics"
   ]
  },
  {
   "cell_type": "markdown",
   "metadata": {},
   "source": [
    "Since the target sequences are padded, it is important to apply a padding mask when calculating the loss."
   ]
  },
  {
   "cell_type": "code",
   "execution_count": 53,
   "metadata": {},
   "outputs": [],
   "source": [
    "loss_object = tf.keras.losses.SparseCategoricalCrossentropy(\n",
    "    from_logits=True, reduction='none')"
   ]
  },
  {
   "cell_type": "code",
   "execution_count": 54,
   "metadata": {},
   "outputs": [],
   "source": [
    "def loss_function(real, pred):\n",
    "    mask = tf.math.logical_not(tf.math.equal(real, 0))\n",
    "    loss_ = loss_object(real, pred)\n",
    "    \n",
    "    mask = tf.cast(mask, dtype=loss_.dtype)\n",
    "    loss_*= mask\n",
    "    \n",
    "    return tf.reduce_sum(loss_)/ tf.reduce_sum(mask)\n",
    "\n",
    "def accuracy_function(real, pred):\n",
    "    accuracies = tf.equal(real, tf.argmax(pred, axis = 2))\n",
    "    \n",
    "    mask = tf.math.logical_not(tf.math.equal(real, 0))\n",
    "    accuracies = tf.math.logical_and(mask, accuracies)\n",
    "    \n",
    "    accuracies = tf.cast(accuracies, dtype=tf.float32)\n",
    "    mask = tf.cast(mask, dtype=tf.float32)\n",
    "    return tf.reduce_sum(accuracies)/tf.reduce_sum(mask)"
   ]
  },
  {
   "cell_type": "code",
   "execution_count": 55,
   "metadata": {},
   "outputs": [],
   "source": [
    "train_loss = tf.keras.metrics.Mean(name='train_loss')\n",
    "train_accuracy = tf.keras.metrics.Mean(name='train_accuracy')"
   ]
  },
  {
   "cell_type": "markdown",
   "metadata": {},
   "source": [
    "## Training and checkpointing"
   ]
  },
  {
   "cell_type": "code",
   "execution_count": 56,
   "metadata": {},
   "outputs": [],
   "source": [
    "transformer = Transformer(num_layers, d_model, num_heads, dff,\n",
    "                         input_vocab_size, target_vocab_size,\n",
    "                         pe_input = input_vocab_size,\n",
    "                         pe_target= target_vocab_size,\n",
    "                         rate=dropout_rate)"
   ]
  },
  {
   "cell_type": "code",
   "execution_count": 57,
   "metadata": {},
   "outputs": [],
   "source": [
    "def create_masks(inp, tar):\n",
    "    #Encoder padding mask\n",
    "    enc_padding_mask = create_padding_mask(inp)\n",
    "    \n",
    "    # Used in the 2nd attention block in the decoder.\n",
    "    # This padding mask is used to mask the encoder outputs.\n",
    "    dec_padding_mask = create_padding_mask(inp)\n",
    "    \n",
    "    # Used in the 1st attention block in the decoder.\n",
    "    # It is used to pad and mask future tokens in the input received by\n",
    "    # the decoder.\n",
    "    look_ahead_mask = create_look_ahead_mask(tf.shape(tar)[1])\n",
    "    dec_target_padding_mask = create_padding_mask(tar)\n",
    "    combined_mask = tf.maximum(dec_target_padding_mask, look_ahead_mask)\n",
    "    \n",
    "    return enc_padding_mask, combined_mask, dec_padding_mask"
   ]
  },
  {
   "cell_type": "markdown",
   "metadata": {},
   "source": [
    "Create the checkpoint path and the checkpoint manager. This will be used to save checkpoints every n epochs."
   ]
  },
  {
   "cell_type": "code",
   "execution_count": 58,
   "metadata": {},
   "outputs": [],
   "source": [
    "checkpoint_path = \"./checkpoints/train\"\n",
    "\n",
    "ckpt = tf.train.Checkpoint(transformer=transformer,\n",
    "                          optimizer=optimizer)\n",
    "\n",
    "ckpt_manager = tf.train.CheckpointManager(ckpt, checkpoint_path,\n",
    "                                         max_to_keep=5)\n",
    "\n",
    "# if a checkpoint exists, restore the latest checkpoint\n",
    "if ckpt_manager.latest_checkpoint:\n",
    "    ckpt.restore(ckpt_manager.latest_checkpoint)\n",
    "    print('Latest checkpoint restored!!')"
   ]
  },
  {
   "cell_type": "markdown",
   "metadata": {},
   "source": [
    "The target is divided into tar_inp and tar_real. tar_inp is passed as an input to the decoder. `tar_real` is that same input shifted by 1: At each location in `tar_input`, `tar_real` contains the  next token that should be predicted.\n",
    "\n",
    "For example, `sentence` = \"SOS A lion in the jungle is sleeping EOS\"\n",
    "\n",
    "`tar_inp` =  \"SOS A lion in the jungle is sleeping\"\n",
    "\n",
    "`tar_real` = \"A lion in the jungle is sleeping EOS\"\n",
    "\n",
    "The transformer is an auto-regressive model: it makes predictions one part at a time, and uses its output so far to decide what to do next. \n",
    "\n",
    "During training this example uses teacher-forcing (like in the [text generation tutorial](./text_generation.ipynb)). Teacher forcing is passing the true output to the next time step regardless of what the model predicts at the current time step.\n",
    "\n",
    "As the transformer predicts each word, *self-attention* allows it to look at the previous words in the input sequence to better predict the next word.\n",
    "\n",
    "To prevent the model from peeking at the expected output the model uses a look-ahead mask."
   ]
  },
  {
   "cell_type": "code",
   "execution_count": 59,
   "metadata": {},
   "outputs": [],
   "source": [
    "EPOCHS = 20"
   ]
  },
  {
   "cell_type": "code",
   "execution_count": 64,
   "metadata": {},
   "outputs": [],
   "source": [
    "# The @tf.function trace-compiles train_step into a TF graph for faster\n",
    "# execution. The function specializes to the precise shape of the argument\n",
    "# tensors. To avoid re-tracing due to the variable sequence lengths or variable\n",
    "# batch sizes (the last batch is smaller), use input_signature to specify\n",
    "# more generic shapes.\n",
    "\n",
    "train_step_signature = [\n",
    "    tf.TensorSpec(shape= (None, None), dtype = tf.int64),\n",
    "    tf.TensorSpec(shape= (None, None), dtype = tf.int64)\n",
    "]\n",
    "\n",
    "@tf.function(input_signature=train_step_signature)\n",
    "def train_step(inp, tar):\n",
    "    tar_inp = tar[:, :-1]\n",
    "    tar_real = tar[:, 1:]\n",
    "    \n",
    "    enc_padding_mask, combined_mask, dec_padding_mask = create_masks(inp, tar_inp)\n",
    "    \n",
    "    with tf.GradientTape() as tape:\n",
    "        predictions, _ = transformer(inp, tar_inp,\n",
    "                                   True,\n",
    "                                   enc_padding_mask,\n",
    "                                   combined_mask,\n",
    "                                   dec_padding_mask)\n",
    "        loss = loss_function(tar_real, predictions)\n",
    "        \n",
    "    gradients = tape.gradient(loss, transformer.trainable_variables)\n",
    "    optimizer.apply_gradients(zip(gradients, transformer.trainable_variables))\n",
    "    \n",
    "    train_loss(loss)\n",
    "    train_accuracy(accuracy_function(tar_real, predictions))"
   ]
  },
  {
   "cell_type": "markdown",
   "metadata": {},
   "source": [
    "Portuguese is used as the input language and English is the target language."
   ]
  },
  {
   "cell_type": "code",
   "execution_count": 65,
   "metadata": {},
   "outputs": [
    {
     "name": "stdout",
     "output_type": "stream",
     "text": [
      "Epoch 1 Batch 0 Loss 9.034627 Accuracy 0.000000\n",
      "Epoch 1 Batch 50 Loss 8.987585 Accuracy 0.011477\n",
      "Epoch 1 Batch 100 Loss 8.886050 Accuracy 0.034476\n",
      "Epoch 1 Batch 150 Loss 8.779160 Accuracy 0.041967\n",
      "Epoch 1 Batch 200 Loss 8.651293 Accuracy 0.047552\n",
      "Epoch 1 Batch 250 Loss 8.494532 Accuracy 0.054768\n",
      "Epoch 1 Batch 300 Loss 8.315952 Accuracy 0.064326\n",
      "Epoch 1 Batch 350 Loss 8.128466 Accuracy 0.073172\n",
      "Epoch 1 Batch 400 Loss 7.944976 Accuracy 0.079823\n",
      "Epoch 1 Batch 450 Loss 7.778986 Accuracy 0.085440\n",
      "Epoch 1 Batch 500 Loss 7.628790 Accuracy 0.092254\n",
      "Epoch 1 Batch 550 Loss 7.488559 Accuracy 0.100070\n",
      "Epoch 1 Batch 600 Loss 7.357298 Accuracy 0.107552\n",
      "Epoch 1 Batch 650 Loss 7.229614 Accuracy 0.115073\n",
      "Epoch 1 Loss 7.114512 Accuracy 0.122219\n",
      "Time taken for 1 epoch: 130.33021521568298 secs\n",
      "\n",
      "Epoch 2 Batch 0 Loss 5.344255 Accuracy 0.245504\n",
      "Epoch 2 Batch 50 Loss 5.411829 Accuracy 0.227407\n",
      "Epoch 2 Batch 100 Loss 5.348739 Accuracy 0.233622\n",
      "Epoch 2 Batch 150 Loss 5.304609 Accuracy 0.237134\n",
      "Epoch 2 Batch 200 Loss 5.257120 Accuracy 0.241382\n",
      "Epoch 2 Batch 250 Loss 5.214109 Accuracy 0.245264\n",
      "Epoch 2 Batch 300 Loss 5.175576 Accuracy 0.248747\n",
      "Epoch 2 Batch 350 Loss 5.138722 Accuracy 0.252468\n",
      "Epoch 2 Batch 400 Loss 5.105894 Accuracy 0.255617\n",
      "Epoch 2 Batch 450 Loss 5.077896 Accuracy 0.258169\n",
      "Epoch 2 Batch 500 Loss 5.046334 Accuracy 0.261462\n",
      "Epoch 2 Batch 550 Loss 5.020005 Accuracy 0.264116\n",
      "Epoch 2 Batch 600 Loss 4.992432 Accuracy 0.266941\n",
      "Epoch 2 Batch 650 Loss 4.966573 Accuracy 0.269313\n",
      "Epoch 2 Loss 4.946868 Accuracy 0.271366\n",
      "Time taken for 1 epoch: 105.48244667053223 secs\n",
      "\n",
      "Epoch 3 Batch 0 Loss 4.539590 Accuracy 0.302607\n",
      "Epoch 3 Batch 50 Loss 4.549527 Accuracy 0.312038\n",
      "Epoch 3 Batch 100 Loss 4.537968 Accuracy 0.312888\n",
      "Epoch 3 Batch 150 Loss 4.530011 Accuracy 0.313355\n",
      "Epoch 3 Batch 200 Loss 4.516798 Accuracy 0.314147\n",
      "Epoch 3 Batch 250 Loss 4.506592 Accuracy 0.315433\n",
      "Epoch 3 Batch 300 Loss 4.490885 Accuracy 0.316989\n",
      "Epoch 3 Batch 350 Loss 4.479166 Accuracy 0.317966\n",
      "Epoch 3 Batch 400 Loss 4.466458 Accuracy 0.319062\n",
      "Epoch 3 Batch 450 Loss 4.456171 Accuracy 0.320371\n",
      "Epoch 3 Batch 500 Loss 4.448035 Accuracy 0.321182\n",
      "Epoch 3 Batch 550 Loss 4.436534 Accuracy 0.322252\n",
      "Epoch 3 Batch 600 Loss 4.424318 Accuracy 0.323308\n",
      "Epoch 3 Batch 650 Loss 4.410639 Accuracy 0.324897\n",
      "Epoch 3 Loss 4.399544 Accuracy 0.326284\n",
      "Time taken for 1 epoch: 105.77826762199402 secs\n",
      "\n",
      "Epoch 4 Batch 0 Loss 4.284914 Accuracy 0.356643\n",
      "Epoch 4 Batch 50 Loss 4.092037 Accuracy 0.359238\n",
      "Epoch 4 Batch 100 Loss 4.092547 Accuracy 0.358475\n",
      "Epoch 4 Batch 150 Loss 4.074934 Accuracy 0.360037\n",
      "Epoch 4 Batch 200 Loss 4.064601 Accuracy 0.361427\n",
      "Epoch 4 Batch 250 Loss 4.055348 Accuracy 0.362923\n",
      "Epoch 4 Batch 300 Loss 4.043104 Accuracy 0.364886\n",
      "Epoch 4 Batch 350 Loss 4.025689 Accuracy 0.367058\n",
      "Epoch 4 Batch 400 Loss 4.014077 Accuracy 0.368882\n",
      "Epoch 4 Batch 450 Loss 3.995162 Accuracy 0.371497\n",
      "Epoch 4 Batch 500 Loss 3.980149 Accuracy 0.373431\n",
      "Epoch 4 Batch 550 Loss 3.967695 Accuracy 0.375277\n",
      "Epoch 4 Batch 600 Loss 3.951999 Accuracy 0.377291\n",
      "Epoch 4 Batch 650 Loss 3.938968 Accuracy 0.379268\n",
      "Epoch 4 Loss 3.926008 Accuracy 0.381068\n",
      "Time taken for 1 epoch: 105.60104966163635 secs\n",
      "\n",
      "Epoch 5 Batch 0 Loss 3.506042 Accuracy 0.420078\n",
      "Epoch 5 Batch 50 Loss 3.568228 Accuracy 0.421630\n",
      "Epoch 5 Batch 100 Loss 3.567716 Accuracy 0.422115\n",
      "Epoch 5 Batch 150 Loss 3.548275 Accuracy 0.424507\n",
      "Epoch 5 Batch 200 Loss 3.527837 Accuracy 0.428006\n",
      "Epoch 5 Batch 250 Loss 3.518738 Accuracy 0.429464\n",
      "Epoch 5 Batch 300 Loss 3.508973 Accuracy 0.430970\n",
      "Epoch 5 Batch 350 Loss 3.504135 Accuracy 0.431656\n",
      "Epoch 5 Batch 400 Loss 3.493686 Accuracy 0.432954\n",
      "Epoch 5 Batch 450 Loss 3.481034 Accuracy 0.434562\n",
      "Epoch 5 Batch 500 Loss 3.469983 Accuracy 0.435971\n",
      "Epoch 5 Batch 550 Loss 3.460920 Accuracy 0.437385\n",
      "Epoch 5 Batch 600 Loss 3.451830 Accuracy 0.438813\n",
      "Epoch 5 Batch 650 Loss 3.442543 Accuracy 0.440200\n",
      "Saving checkpoint for epoch 5 at ./checkpoints/train\\ckpt-1\n",
      "Epoch 5 Loss 3.434504 Accuracy 0.441264\n",
      "Time taken for 1 epoch: 106.77613472938538 secs\n",
      "\n",
      "Epoch 6 Batch 0 Loss 3.205304 Accuracy 0.446644\n",
      "Epoch 6 Batch 50 Loss 3.073812 Accuracy 0.479057\n",
      "Epoch 6 Batch 100 Loss 3.077559 Accuracy 0.479648\n",
      "Epoch 6 Batch 150 Loss 3.074001 Accuracy 0.480136\n",
      "Epoch 6 Batch 200 Loss 3.078421 Accuracy 0.479591\n",
      "Epoch 6 Batch 250 Loss 3.073128 Accuracy 0.480728\n",
      "Epoch 6 Batch 300 Loss 3.066357 Accuracy 0.481472\n",
      "Epoch 6 Batch 350 Loss 3.058830 Accuracy 0.483050\n",
      "Epoch 6 Batch 400 Loss 3.053098 Accuracy 0.483785\n",
      "Epoch 6 Batch 450 Loss 3.046655 Accuracy 0.484772\n",
      "Epoch 6 Batch 500 Loss 3.040337 Accuracy 0.485817\n",
      "Epoch 6 Batch 550 Loss 3.036623 Accuracy 0.486266\n",
      "Epoch 6 Batch 600 Loss 3.031336 Accuracy 0.486887\n",
      "Epoch 6 Batch 650 Loss 3.025772 Accuracy 0.487678\n",
      "Epoch 6 Loss 3.018786 Accuracy 0.488827\n",
      "Time taken for 1 epoch: 106.15061807632446 secs\n",
      "\n",
      "Epoch 7 Batch 0 Loss 2.535382 Accuracy 0.536178\n",
      "Epoch 7 Batch 50 Loss 2.685620 Accuracy 0.524722\n",
      "Epoch 7 Batch 100 Loss 2.671565 Accuracy 0.525842\n",
      "Epoch 7 Batch 150 Loss 2.660103 Accuracy 0.528547\n",
      "Epoch 7 Batch 200 Loss 2.659336 Accuracy 0.528771\n",
      "Epoch 7 Batch 250 Loss 2.653869 Accuracy 0.529678\n",
      "Epoch 7 Batch 300 Loss 2.646260 Accuracy 0.530922\n",
      "Epoch 7 Batch 350 Loss 2.641925 Accuracy 0.531995\n",
      "Epoch 7 Batch 400 Loss 2.635377 Accuracy 0.533192\n",
      "Epoch 7 Batch 450 Loss 2.626565 Accuracy 0.534315\n",
      "Epoch 7 Batch 500 Loss 2.621465 Accuracy 0.535020\n",
      "Epoch 7 Batch 550 Loss 2.618548 Accuracy 0.535622\n",
      "Epoch 7 Batch 600 Loss 2.616287 Accuracy 0.536025\n",
      "Epoch 7 Batch 650 Loss 2.612207 Accuracy 0.536561\n",
      "Epoch 7 Loss 2.607049 Accuracy 0.537221\n",
      "Time taken for 1 epoch: 106.02795147895813 secs\n",
      "\n",
      "Epoch 8 Batch 0 Loss 2.588753 Accuracy 0.540470\n",
      "Epoch 8 Batch 50 Loss 2.297261 Accuracy 0.573962\n",
      "Epoch 8 Batch 100 Loss 2.272149 Accuracy 0.577850\n",
      "Epoch 8 Batch 150 Loss 2.279880 Accuracy 0.577393\n",
      "Epoch 8 Batch 200 Loss 2.275017 Accuracy 0.577567\n",
      "Epoch 8 Batch 250 Loss 2.278260 Accuracy 0.576775\n",
      "Epoch 8 Batch 300 Loss 2.277298 Accuracy 0.577381\n",
      "Epoch 8 Batch 350 Loss 2.272391 Accuracy 0.578101\n",
      "Epoch 8 Batch 400 Loss 2.271421 Accuracy 0.578259\n",
      "Epoch 8 Batch 450 Loss 2.270759 Accuracy 0.578571\n",
      "Epoch 8 Batch 500 Loss 2.268076 Accuracy 0.578902\n",
      "Epoch 8 Batch 550 Loss 2.267439 Accuracy 0.578961\n",
      "Epoch 8 Batch 600 Loss 2.264081 Accuracy 0.579542\n",
      "Epoch 8 Batch 650 Loss 2.264734 Accuracy 0.579520\n",
      "Epoch 8 Loss 2.265041 Accuracy 0.579715\n",
      "Time taken for 1 epoch: 106.87464666366577 secs\n",
      "\n",
      "Epoch 9 Batch 0 Loss 2.087046 Accuracy 0.603664\n",
      "Epoch 9 Batch 50 Loss 1.984582 Accuracy 0.614824\n",
      "Epoch 9 Batch 100 Loss 1.985129 Accuracy 0.613661\n",
      "Epoch 9 Batch 150 Loss 1.992053 Accuracy 0.613605\n",
      "Epoch 9 Batch 200 Loss 1.995846 Accuracy 0.612318\n",
      "Epoch 9 Batch 250 Loss 2.001297 Accuracy 0.611613\n",
      "Epoch 9 Batch 300 Loss 2.006073 Accuracy 0.610849\n",
      "Epoch 9 Batch 350 Loss 2.008234 Accuracy 0.611002\n",
      "Epoch 9 Batch 400 Loss 2.007634 Accuracy 0.611634\n",
      "Epoch 9 Batch 450 Loss 2.007948 Accuracy 0.611635\n",
      "Epoch 9 Batch 500 Loss 2.010252 Accuracy 0.611281\n",
      "Epoch 9 Batch 550 Loss 2.014782 Accuracy 0.610795\n",
      "Epoch 9 Batch 600 Loss 2.014232 Accuracy 0.610985\n",
      "Epoch 9 Batch 650 Loss 2.015846 Accuracy 0.610762\n",
      "Epoch 9 Loss 2.017402 Accuracy 0.610779\n",
      "Time taken for 1 epoch: 105.7531304359436 secs\n",
      "\n",
      "Epoch 10 Batch 0 Loss 1.734855 Accuracy 0.657469\n",
      "Epoch 10 Batch 50 Loss 1.765758 Accuracy 0.646596\n",
      "Epoch 10 Batch 100 Loss 1.760381 Accuracy 0.646079\n",
      "Epoch 10 Batch 150 Loss 1.771364 Accuracy 0.644626\n",
      "Epoch 10 Batch 200 Loss 1.779104 Accuracy 0.643344\n",
      "Epoch 10 Batch 250 Loss 1.784420 Accuracy 0.642938\n",
      "Epoch 10 Batch 300 Loss 1.790632 Accuracy 0.642140\n",
      "Epoch 10 Batch 350 Loss 1.795630 Accuracy 0.640930\n",
      "Epoch 10 Batch 400 Loss 1.799575 Accuracy 0.640066\n",
      "Epoch 10 Batch 450 Loss 1.803807 Accuracy 0.639529\n",
      "Epoch 10 Batch 500 Loss 1.807004 Accuracy 0.639205\n",
      "Epoch 10 Batch 550 Loss 1.813105 Accuracy 0.638289\n",
      "Epoch 10 Batch 600 Loss 1.815891 Accuracy 0.638091\n",
      "Epoch 10 Batch 650 Loss 1.820890 Accuracy 0.637548\n",
      "Saving checkpoint for epoch 10 at ./checkpoints/train\\ckpt-2\n",
      "Epoch 10 Loss 1.826399 Accuracy 0.636822\n",
      "Time taken for 1 epoch: 106.91310906410217 secs\n",
      "\n",
      "Epoch 11 Batch 0 Loss 1.425770 Accuracy 0.690587\n",
      "Epoch 11 Batch 50 Loss 1.585259 Accuracy 0.671674\n",
      "Epoch 11 Batch 100 Loss 1.596189 Accuracy 0.669027\n",
      "Epoch 11 Batch 150 Loss 1.609360 Accuracy 0.666878\n"
     ]
    },
    {
     "name": "stdout",
     "output_type": "stream",
     "text": [
      "Epoch 11 Batch 200 Loss 1.620239 Accuracy 0.664571\n",
      "Epoch 11 Batch 250 Loss 1.630417 Accuracy 0.663196\n",
      "Epoch 11 Batch 300 Loss 1.634959 Accuracy 0.662656\n",
      "Epoch 11 Batch 350 Loss 1.638382 Accuracy 0.662473\n",
      "Epoch 11 Batch 400 Loss 1.644873 Accuracy 0.661454\n",
      "Epoch 11 Batch 450 Loss 1.648955 Accuracy 0.660814\n",
      "Epoch 11 Batch 500 Loss 1.652738 Accuracy 0.660208\n",
      "Epoch 11 Batch 550 Loss 1.657877 Accuracy 0.659657\n",
      "Epoch 11 Batch 600 Loss 1.663883 Accuracy 0.658938\n",
      "Epoch 11 Batch 650 Loss 1.668239 Accuracy 0.658137\n",
      "Epoch 11 Loss 1.674319 Accuracy 0.657422\n",
      "Time taken for 1 epoch: 105.98131942749023 secs\n",
      "\n",
      "Epoch 12 Batch 0 Loss 1.356440 Accuracy 0.710914\n",
      "Epoch 12 Batch 50 Loss 1.456000 Accuracy 0.688606\n",
      "Epoch 12 Batch 100 Loss 1.470836 Accuracy 0.686527\n",
      "Epoch 12 Batch 150 Loss 1.473480 Accuracy 0.686619\n",
      "Epoch 12 Batch 200 Loss 1.483956 Accuracy 0.684734\n",
      "Epoch 12 Batch 250 Loss 1.491553 Accuracy 0.683471\n",
      "Epoch 12 Batch 300 Loss 1.492562 Accuracy 0.683404\n",
      "Epoch 12 Batch 350 Loss 1.501576 Accuracy 0.682030\n",
      "Epoch 12 Batch 400 Loss 1.505415 Accuracy 0.681320\n",
      "Epoch 12 Batch 450 Loss 1.512450 Accuracy 0.680071\n",
      "Epoch 12 Batch 500 Loss 1.519715 Accuracy 0.678890\n",
      "Epoch 12 Batch 550 Loss 1.526649 Accuracy 0.677903\n",
      "Epoch 12 Batch 600 Loss 1.534020 Accuracy 0.676867\n",
      "Epoch 12 Batch 650 Loss 1.539569 Accuracy 0.676182\n",
      "Epoch 12 Loss 1.545316 Accuracy 0.675471\n",
      "Time taken for 1 epoch: 106.35863184928894 secs\n",
      "\n",
      "Epoch 13 Batch 0 Loss 1.251119 Accuracy 0.721893\n",
      "Epoch 13 Batch 50 Loss 1.331882 Accuracy 0.710436\n",
      "Epoch 13 Batch 100 Loss 1.342497 Accuracy 0.709088\n",
      "Epoch 13 Batch 150 Loss 1.361421 Accuracy 0.705346\n",
      "Epoch 13 Batch 200 Loss 1.370070 Accuracy 0.703200\n",
      "Epoch 13 Batch 250 Loss 1.379400 Accuracy 0.701354\n",
      "Epoch 13 Batch 300 Loss 1.387681 Accuracy 0.699706\n",
      "Epoch 13 Batch 350 Loss 1.393077 Accuracy 0.698856\n",
      "Epoch 13 Batch 400 Loss 1.397705 Accuracy 0.698089\n",
      "Epoch 13 Batch 450 Loss 1.405213 Accuracy 0.696873\n",
      "Epoch 13 Batch 500 Loss 1.410654 Accuracy 0.696220\n",
      "Epoch 13 Batch 550 Loss 1.416662 Accuracy 0.695289\n",
      "Epoch 13 Batch 600 Loss 1.422659 Accuracy 0.694353\n",
      "Epoch 13 Batch 650 Loss 1.427997 Accuracy 0.693587\n",
      "Epoch 13 Loss 1.433705 Accuracy 0.692802\n",
      "Time taken for 1 epoch: 106.06221389770508 secs\n",
      "\n",
      "Epoch 14 Batch 0 Loss 1.162161 Accuracy 0.729516\n",
      "Epoch 14 Batch 50 Loss 1.249715 Accuracy 0.722504\n",
      "Epoch 14 Batch 100 Loss 1.264452 Accuracy 0.719945\n",
      "Epoch 14 Batch 150 Loss 1.274963 Accuracy 0.718194\n",
      "Epoch 14 Batch 200 Loss 1.280251 Accuracy 0.717097\n",
      "Epoch 14 Batch 250 Loss 1.282891 Accuracy 0.716519\n",
      "Epoch 14 Batch 300 Loss 1.290023 Accuracy 0.715358\n",
      "Epoch 14 Batch 350 Loss 1.295064 Accuracy 0.714333\n",
      "Epoch 14 Batch 400 Loss 1.302670 Accuracy 0.713012\n",
      "Epoch 14 Batch 450 Loss 1.308127 Accuracy 0.712082\n",
      "Epoch 14 Batch 500 Loss 1.315581 Accuracy 0.711068\n",
      "Epoch 14 Batch 550 Loss 1.322540 Accuracy 0.709914\n",
      "Epoch 14 Batch 600 Loss 1.328573 Accuracy 0.708871\n",
      "Epoch 14 Batch 650 Loss 1.335770 Accuracy 0.707627\n",
      "Epoch 14 Loss 1.340386 Accuracy 0.706881\n",
      "Time taken for 1 epoch: 106.3063132762909 secs\n",
      "\n",
      "Epoch 15 Batch 0 Loss 1.160385 Accuracy 0.747748\n",
      "Epoch 15 Batch 50 Loss 1.148476 Accuracy 0.739970\n",
      "Epoch 15 Batch 100 Loss 1.158690 Accuracy 0.737620\n",
      "Epoch 15 Batch 150 Loss 1.179978 Accuracy 0.733828\n",
      "Epoch 15 Batch 200 Loss 1.190883 Accuracy 0.732640\n",
      "Epoch 15 Batch 250 Loss 1.195395 Accuracy 0.731387\n",
      "Epoch 15 Batch 300 Loss 1.206023 Accuracy 0.729883\n",
      "Epoch 15 Batch 350 Loss 1.209737 Accuracy 0.729026\n",
      "Epoch 15 Batch 400 Loss 1.214962 Accuracy 0.727966\n",
      "Epoch 15 Batch 450 Loss 1.221806 Accuracy 0.726487\n",
      "Epoch 15 Batch 500 Loss 1.230276 Accuracy 0.725136\n",
      "Epoch 15 Batch 550 Loss 1.236106 Accuracy 0.724057\n",
      "Epoch 15 Batch 600 Loss 1.240302 Accuracy 0.723200\n",
      "Epoch 15 Batch 650 Loss 1.250225 Accuracy 0.721460\n",
      "Saving checkpoint for epoch 15 at ./checkpoints/train\\ckpt-3\n",
      "Epoch 15 Loss 1.255883 Accuracy 0.720480\n",
      "Time taken for 1 epoch: 107.29141545295715 secs\n",
      "\n",
      "Epoch 16 Batch 0 Loss 1.050926 Accuracy 0.766667\n",
      "Epoch 16 Batch 50 Loss 1.090538 Accuracy 0.749119\n",
      "Epoch 16 Batch 100 Loss 1.090747 Accuracy 0.749392\n",
      "Epoch 16 Batch 150 Loss 1.100385 Accuracy 0.748029\n",
      "Epoch 16 Batch 200 Loss 1.116488 Accuracy 0.744557\n",
      "Epoch 16 Batch 250 Loss 1.126719 Accuracy 0.742550\n",
      "Epoch 16 Batch 300 Loss 1.135435 Accuracy 0.740733\n",
      "Epoch 16 Batch 350 Loss 1.140792 Accuracy 0.739859\n",
      "Epoch 16 Batch 400 Loss 1.145865 Accuracy 0.738736\n",
      "Epoch 16 Batch 450 Loss 1.149459 Accuracy 0.737987\n",
      "Epoch 16 Batch 500 Loss 1.155962 Accuracy 0.736842\n",
      "Epoch 16 Batch 550 Loss 1.163030 Accuracy 0.735607\n",
      "Epoch 16 Batch 600 Loss 1.170251 Accuracy 0.734498\n",
      "Epoch 16 Batch 650 Loss 1.176984 Accuracy 0.733241\n",
      "Epoch 16 Loss 1.182895 Accuracy 0.732061\n",
      "Time taken for 1 epoch: 106.81177258491516 secs\n",
      "\n",
      "Epoch 17 Batch 0 Loss 1.054433 Accuracy 0.744415\n",
      "Epoch 17 Batch 50 Loss 1.023333 Accuracy 0.760596\n",
      "Epoch 17 Batch 100 Loss 1.033460 Accuracy 0.758843\n",
      "Epoch 17 Batch 150 Loss 1.044297 Accuracy 0.756700\n",
      "Epoch 17 Batch 200 Loss 1.053179 Accuracy 0.755077\n",
      "Epoch 17 Batch 250 Loss 1.061684 Accuracy 0.753260\n",
      "Epoch 17 Batch 300 Loss 1.069430 Accuracy 0.751925\n",
      "Epoch 17 Batch 350 Loss 1.075190 Accuracy 0.750464\n",
      "Epoch 17 Batch 400 Loss 1.083343 Accuracy 0.748659\n",
      "Epoch 17 Batch 450 Loss 1.088642 Accuracy 0.747894\n",
      "Epoch 17 Batch 500 Loss 1.094328 Accuracy 0.746747\n",
      "Epoch 17 Batch 550 Loss 1.099656 Accuracy 0.745843\n",
      "Epoch 17 Batch 600 Loss 1.105501 Accuracy 0.744892\n",
      "Epoch 17 Batch 650 Loss 1.112860 Accuracy 0.743500\n",
      "Epoch 17 Loss 1.119087 Accuracy 0.742332\n",
      "Time taken for 1 epoch: 106.67170453071594 secs\n",
      "\n",
      "Epoch 18 Batch 0 Loss 1.012156 Accuracy 0.780608\n",
      "Epoch 18 Batch 50 Loss 0.959686 Accuracy 0.774598\n",
      "Epoch 18 Batch 100 Loss 0.976379 Accuracy 0.770584\n",
      "Epoch 18 Batch 150 Loss 0.984102 Accuracy 0.768430\n",
      "Epoch 18 Batch 200 Loss 0.989949 Accuracy 0.767231\n",
      "Epoch 18 Batch 250 Loss 0.998683 Accuracy 0.765524\n",
      "Epoch 18 Batch 300 Loss 1.006791 Accuracy 0.763904\n",
      "Epoch 18 Batch 350 Loss 1.014369 Accuracy 0.762380\n",
      "Epoch 18 Batch 400 Loss 1.020860 Accuracy 0.761051\n",
      "Epoch 18 Batch 450 Loss 1.027746 Accuracy 0.759922\n",
      "Epoch 18 Batch 500 Loss 1.034995 Accuracy 0.758444\n",
      "Epoch 18 Batch 550 Loss 1.041388 Accuracy 0.757182\n",
      "Epoch 18 Batch 600 Loss 1.048120 Accuracy 0.755725\n",
      "Epoch 18 Batch 650 Loss 1.053750 Accuracy 0.754569\n",
      "Epoch 18 Loss 1.059720 Accuracy 0.753561\n",
      "Time taken for 1 epoch: 106.69462704658508 secs\n",
      "\n",
      "Epoch 19 Batch 0 Loss 0.911513 Accuracy 0.777673\n",
      "Epoch 19 Batch 50 Loss 0.914467 Accuracy 0.779534\n",
      "Epoch 19 Batch 100 Loss 0.923618 Accuracy 0.778266\n",
      "Epoch 19 Batch 150 Loss 0.933133 Accuracy 0.776407\n",
      "Epoch 19 Batch 200 Loss 0.938403 Accuracy 0.776005\n",
      "Epoch 19 Batch 250 Loss 0.949996 Accuracy 0.773722\n",
      "Epoch 19 Batch 300 Loss 0.954263 Accuracy 0.772495\n",
      "Epoch 19 Batch 350 Loss 0.960881 Accuracy 0.770845\n",
      "Epoch 19 Batch 400 Loss 0.967966 Accuracy 0.769433\n",
      "Epoch 19 Batch 450 Loss 0.973486 Accuracy 0.768376\n",
      "Epoch 19 Batch 500 Loss 0.979678 Accuracy 0.767213\n",
      "Epoch 19 Batch 550 Loss 0.986826 Accuracy 0.765980\n",
      "Epoch 19 Batch 600 Loss 0.994501 Accuracy 0.764689\n",
      "Epoch 19 Batch 650 Loss 1.000679 Accuracy 0.763340\n",
      "Epoch 19 Loss 1.006953 Accuracy 0.762094\n",
      "Time taken for 1 epoch: 106.81386232376099 secs\n",
      "\n",
      "Epoch 20 Batch 0 Loss 0.930150 Accuracy 0.782187\n",
      "Epoch 20 Batch 50 Loss 0.866651 Accuracy 0.791334\n",
      "Epoch 20 Batch 100 Loss 0.870693 Accuracy 0.790358\n",
      "Epoch 20 Batch 150 Loss 0.882555 Accuracy 0.787570\n",
      "Epoch 20 Batch 200 Loss 0.891646 Accuracy 0.785379\n",
      "Epoch 20 Batch 250 Loss 0.899692 Accuracy 0.783720\n",
      "Epoch 20 Batch 300 Loss 0.907283 Accuracy 0.781691\n",
      "Epoch 20 Batch 350 Loss 0.914680 Accuracy 0.779999\n",
      "Epoch 20 Batch 400 Loss 0.921307 Accuracy 0.778762\n",
      "Epoch 20 Batch 450 Loss 0.926540 Accuracy 0.777742\n",
      "Epoch 20 Batch 500 Loss 0.932048 Accuracy 0.776562\n",
      "Epoch 20 Batch 550 Loss 0.939477 Accuracy 0.775068\n",
      "Epoch 20 Batch 600 Loss 0.947001 Accuracy 0.773397\n",
      "Epoch 20 Batch 650 Loss 0.951564 Accuracy 0.772582\n",
      "Saving checkpoint for epoch 20 at ./checkpoints/train\\ckpt-4\n",
      "Epoch 20 Loss 0.957280 Accuracy 0.771400\n",
      "Time taken for 1 epoch: 107.06123733520508 secs\n",
      "\n"
     ]
    }
   ],
   "source": [
    "for epoch in range(EPOCHS):\n",
    "    \n",
    "    start = time.time()\n",
    "    \n",
    "    train_loss.reset_states()\n",
    "    train_accuracy.reset_states()\n",
    "    \n",
    "    # inp -> portuguese, tar -> english\n",
    "    for (batch, (inp, tar)) in enumerate(train_dataset):\n",
    "        train_step(inp, tar)\n",
    "        \n",
    "        if batch % 50 == 0:\n",
    "            print('Epoch {} Batch {} Loss {:4f} Accuracy {:4f}'.format(\n",
    "            epoch + 1, batch, train_loss.result(), train_accuracy.result()))\n",
    "            \n",
    "    if (epoch + 1) % 5 == 0:\n",
    "        ckpt_save_path = ckpt_manager.save()\n",
    "        print('Saving checkpoint for epoch {} at {}'.format(epoch+1,\n",
    "                                                           ckpt_save_path))\n",
    "        \n",
    "    print('Epoch {} Loss {:4f} Accuracy {:4f}'.format(epoch + 1,\n",
    "                                                train_loss.result(),\n",
    "                                                train_accuracy.result()))\n",
    "    \n",
    "    print('Time taken for 1 epoch: {} secs\\n'.format(time.time() - start))\n",
    "        \n",
    "    \n",
    "    "
   ]
  },
  {
   "cell_type": "markdown",
   "metadata": {},
   "source": [
    "## Evaluate"
   ]
  },
  {
   "cell_type": "markdown",
   "metadata": {},
   "source": [
    "The following steps are used for evaluation:\n",
    "\n",
    "* Encode the input sentence using the Portuguese tokenizer (`tokenizer_pt`). Moreover, add the start and end token so the input is equivalent to what the model is trained with. This is the encoder input.\n",
    "* The decoder input is the `start token == tokenizer_en.vocab_size`.\n",
    "* Calculate the padding masks and the look ahead masks.\n",
    "* The `decoder` then outputs the predictions by looking at the `encoder output` and its own output (self-attention).\n",
    "* Select the last word and calculate the argmax of that.\n",
    "* Concatentate the predicted word to the decoder input as pass it to the decoder.\n",
    "* In this approach, the decoder predicts the next word based on the previous words it predicted.\n",
    "\n",
    "Note: The model used here has less capacity to keep the example relatively faster so the predictions maybe less right. To reproduce the results in the paper, use the entire dataset and base transformer model or transformer XL, by changing the hyperparameters above."
   ]
  },
  {
   "cell_type": "code",
   "execution_count": 66,
   "metadata": {},
   "outputs": [],
   "source": [
    "def evaluate(inp_sentence):\n",
    "    start_token = [tokenizer_pt.vocab_size]\n",
    "    end_token = [tokenizer_pt.vocab_size + 1]\n",
    "    \n",
    "    # inp sentence is portuguese, hence adding the start and end token\n",
    "    inp_sentence = start_token + tokenizer_pt.encode(inp_sentence) + end_token\n",
    "    encoder_input = tf.expand_dims(inp_sentence, 0)\n",
    "    \n",
    "    # as the target is english, the first word to the transformer should be \n",
    "    # english start token.\n",
    "    decoder_input = [tokenizer_en.vocab_size]\n",
    "    output = tf.expand_dims(decoder_input, 0)\n",
    "    \n",
    "    for i in range(MAX_LENGTH):\n",
    "        enc_padding_mask, combined_mask, dec_padding_mask = create_masks(\n",
    "            encoder_input, output)\n",
    "        \n",
    "        # predictions.shape == (batch_size, seq_len, vocab_size)\n",
    "        predictions, attention_weights = transformer(encoder_input,\n",
    "                                                    output,\n",
    "                                                    False,\n",
    "                                                    enc_padding_mask,\n",
    "                                                    combined_mask,\n",
    "                                                    dec_padding_mask)\n",
    "        \n",
    "        # select the last word from the seq_len dimension\n",
    "        predictions = predictions[:, -1:, :] # (batch_size, 1, vocab_size)\n",
    "        \n",
    "        predicted_id = tf.cast(tf.argmax(predictions, axis=-1), tf.int32)\n",
    "        \n",
    "        # return the result if the predicted_id is equal to the end token\n",
    "        if predicted_id == tokenizer_en.vocab_size + 1:\n",
    "            return tf.squeeze(output, axis = 0), attention_weights\n",
    "        \n",
    "        # concatenate the predicted_id to the output which is given to the \n",
    "        # decoder as its input\n",
    "        output = tf.concat([output, predicted_id], axis = -1)\n",
    "        \n",
    "    return tf.squeeze(output, axis = 0), attention_weights"
   ]
  },
  {
   "cell_type": "code",
   "execution_count": 67,
   "metadata": {},
   "outputs": [],
   "source": [
    "def plot_attention_weights(attention, sentence, result, layer):\n",
    "    fig = plt.figure(figsize = (16, 8))\n",
    "    \n",
    "    sentence = tokenizer_pt.encode(sentence)\n",
    "    \n",
    "    attention = tf.squeeze(attention[layer], axis = 0)\n",
    "    \n",
    "    for head in range(attention.shape[0]):\n",
    "        ax = fig.add_subplot(2, 4, head + 1)\n",
    "        \n",
    "        # plot the attention weights\n",
    "        ax.matshow(attention[head][:-1, :], cmap = 'viridis')\n",
    "        \n",
    "        fontdict = {'fontsize': 10}\n",
    "        \n",
    "        ax.set_xticks(range(len(sentence)+2))\n",
    "        ax.set_yticks(range(len(result)))\n",
    "        \n",
    "        ax.set_ylim(len(result)-1.5, -0.5)\n",
    "        \n",
    "        ax.set_xticklabels(\n",
    "            ['<start>'] + [tokenizer_pt.decode([i]) for i in sentence] + ['<end>'],\n",
    "            fontdict=fontdict, rotation=90)\n",
    "        \n",
    "        ax.set_yticklabels([tokenizer_en.decode([i]) for i in result\n",
    "                           if i < tokenizer_en.vocab_size],\n",
    "                          fontdict = fontdict)\n",
    "        \n",
    "        ax.set_xlabel('Head {}'.format(head+1))\n",
    "        \n",
    "    plt.tight_layout()\n",
    "    plt.show()\n",
    "        "
   ]
  },
  {
   "cell_type": "code",
   "execution_count": 68,
   "metadata": {},
   "outputs": [],
   "source": [
    "def translate(sentence, plot=''):\n",
    "    result, attention_weights = evaluate(sentence)\n",
    "    \n",
    "    predicted_sentence = tokenizer_en.decode([i for i in result\n",
    "                                             if i < tokenizer_en.vocab_size])\n",
    "    \n",
    "    print('Input: {}'.format(sentence))\n",
    "    print('Predicted translation: {}'.format(predicted_sentence))\n",
    "    \n",
    "    if plot:\n",
    "        plot_attention_weights(attention_weights, sentence, result, plot)"
   ]
  },
  {
   "cell_type": "code",
   "execution_count": 69,
   "metadata": {},
   "outputs": [
    {
     "name": "stdout",
     "output_type": "stream",
     "text": [
      "Input: este é um problema que temos que resolver.\n",
      "Predicted translation: this is a problem that we have to deal with .\n",
      "Real translation: this is a problem we have to solve .\n"
     ]
    }
   ],
   "source": [
    "translate(\"este é um problema que temos que resolver.\")\n",
    "print (\"Real translation: this is a problem we have to solve .\")"
   ]
  },
  {
   "cell_type": "code",
   "execution_count": 70,
   "metadata": {},
   "outputs": [
    {
     "name": "stdout",
     "output_type": "stream",
     "text": [
      "Input: os meus vizinhos ouviram sobre esta ideia.\n",
      "Predicted translation: my neighbors heard about this idea .\n",
      "Real translation: and my neighboring homes heard about this idea .\n"
     ]
    }
   ],
   "source": [
    "translate(\"os meus vizinhos ouviram sobre esta ideia.\")\n",
    "print (\"Real translation: and my neighboring homes heard about this idea .\")"
   ]
  },
  {
   "cell_type": "code",
   "execution_count": 71,
   "metadata": {},
   "outputs": [
    {
     "name": "stdout",
     "output_type": "stream",
     "text": [
      "Input: vou então muito rapidamente partilhar convosco algumas histórias de algumas coisas mágicas que aconteceram.\n",
      "Predicted translation: so i 'm going to quickly share with you a few stories of some magic things that have happened .\n",
      "Real translation: so i 'll just share with you some stories very quickly of some magical things that have happened .\n"
     ]
    }
   ],
   "source": [
    "translate(\"vou então muito rapidamente partilhar convosco algumas histórias de algumas coisas mágicas que aconteceram.\")\n",
    "print (\"Real translation: so i 'll just share with you some stories very quickly of some magical things that have happened .\")"
   ]
  },
  {
   "cell_type": "code",
   "execution_count": 72,
   "metadata": {},
   "outputs": [
    {
     "name": "stdout",
     "output_type": "stream",
     "text": [
      "Input: este é o primeiro livro que eu fiz.\n",
      "Predicted translation: this is the first book i did .\n"
     ]
    },
    {
     "data": {
      "image/png": "[encoded data removed]",
      "text/plain": [
       "<Figure size 1152x576 with 8 Axes>"
      ]
     },
     "metadata": {
      "needs_background": "light"
     },
     "output_type": "display_data"
    },
    {
     "name": "stdout",
     "output_type": "stream",
     "text": [
      "Real translation: this is the first book i've ever done.\n"
     ]
    }
   ],
   "source": [
    "translate(\"este é o primeiro livro que eu fiz.\", plot='decoder_layer4_block2')\n",
    "print (\"Real translation: this is the first book i've ever done.\")"
   ]
  },
  {
   "cell_type": "code",
   "execution_count": null,
   "metadata": {},
   "outputs": [],
   "source": []
  }
 ],
 "metadata": {
  "kernelspec": {
   "display_name": "Python 3",
   "language": "python",
   "name": "python3"
  },
  "language_info": {
   "codemirror_mode": {
    "name": "ipython",
    "version": 3
   },
   "file_extension": ".py",
   "mimetype": "text/x-python",
   "name": "python",
   "nbconvert_exporter": "python",
   "pygments_lexer": "ipython3",
   "version": "3.8.3"
  }
 },
 "nbformat": 4,
 "nbformat_minor": 4
}
