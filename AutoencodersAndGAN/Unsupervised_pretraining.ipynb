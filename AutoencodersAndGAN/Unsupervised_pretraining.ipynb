{
 "cells": [
  {
   "cell_type": "markdown",
   "metadata": {},
   "source": [
    "## Setup"
   ]
  },
  {
   "cell_type": "code",
   "execution_count": 1,
   "metadata": {},
   "outputs": [],
   "source": [
    "# Python ≥3.5 is required\n",
    "import sys\n",
    "assert sys.version_info >= (3, 5)\n",
    "\n",
    "# Scikit-Learn ≥0.20 is required\n",
    "import sklearn\n",
    "assert sklearn.__version__ >= \"0.20\"\n",
    "\n",
    "# TensorFlow ≥2.0 is required\n",
    "import tensorflow as tf\n",
    "from tensorflow import keras\n",
    "assert tf.__version__ >= \"2.0\"\n",
    "\n",
    "# Common imports\n",
    "import numpy as np\n",
    "import os\n",
    "\n",
    "# to make this notebook's output stable across runs\n",
    "np.random.seed(42)\n",
    "tf.random.set_seed(42)\n",
    "\n",
    "# To plot pretty figures\n",
    "%matplotlib inline\n",
    "import matplotlib as mpl\n",
    "import matplotlib.pyplot as plt\n",
    "mpl.rc('axes', labelsize=14)\n",
    "mpl.rc('xtick', labelsize=12)\n",
    "mpl.rc('ytick', labelsize=12)\n",
    "\n",
    "# Where to save the figures\n",
    "PROJECT_ROOT_DIR = \".\"\n",
    "IMAGES_PATH = os.path.join(PROJECT_ROOT_DIR, \"images\")\n",
    "os.makedirs(IMAGES_PATH, exist_ok=True)\n",
    "\n",
    "def save_fig(fig_id, tight_layout=True, fig_extension=\"png\", resolution=300):\n",
    "    path = os.path.join(IMAGES_PATH, fig_id + \".\" + fig_extension)\n",
    "    print(\"Saving figure\", fig_id)\n",
    "    if tight_layout:\n",
    "        plt.tight_layout()\n",
    "    plt.savefig(path, format=fig_extension, dpi=resolution)"
   ]
  },
  {
   "cell_type": "markdown",
   "metadata": {},
   "source": [
    "Let's load the MNIST Data"
   ]
  },
  {
   "cell_type": "code",
   "execution_count": 2,
   "metadata": {},
   "outputs": [],
   "source": [
    "(X_train_full, y_train_full), (X_test, y_test) = keras.datasets.fashion_mnist.load_data()\n",
    "X_train_full = X_train_full.astype(np.float32) / 255\n",
    "X_test = X_test.astype(np.float32) / 255\n",
    "X_train, X_valid = X_train_full[:-5000], X_train_full[-5000:]\n",
    "y_train, y_valid = y_train_full[:-5000], y_train_full[-5000:]"
   ]
  },
  {
   "cell_type": "markdown",
   "metadata": {},
   "source": [
    "Let's Train Autoencoder on this Data"
   ]
  },
  {
   "cell_type": "code",
   "execution_count": 3,
   "metadata": {},
   "outputs": [],
   "source": [
    "def rounded_accuracy(y_true, y_pred):\n",
    "    return keras.metrics.binary_accuracy(tf.round(y_true), tf.round(y_pred))"
   ]
  },
  {
   "cell_type": "code",
   "execution_count": 12,
   "metadata": {},
   "outputs": [
    {
     "name": "stdout",
     "output_type": "stream",
     "text": [
      "Epoch 1/5\n",
      "1719/1719 [==============================] - 8s 5ms/step - loss: 0.3018 - rounded_accuracy: 0.9187 - val_loss: 0.2851 - val_rounded_accuracy: 0.9283\n",
      "Epoch 2/5\n",
      "1719/1719 [==============================] - 8s 4ms/step - loss: 0.2756 - rounded_accuracy: 0.9413 - val_loss: 0.2729 - val_rounded_accuracy: 0.9458\n",
      "Epoch 3/5\n",
      "1719/1719 [==============================] - 8s 4ms/step - loss: 0.2708 - rounded_accuracy: 0.9462 - val_loss: 0.2696 - val_rounded_accuracy: 0.9496\n",
      "Epoch 4/5\n",
      "1719/1719 [==============================] - 8s 4ms/step - loss: 0.2682 - rounded_accuracy: 0.9489 - val_loss: 0.2686 - val_rounded_accuracy: 0.9491\n",
      "Epoch 5/5\n",
      "1719/1719 [==============================] - 8s 4ms/step - loss: 0.2664 - rounded_accuracy: 0.9509 - val_loss: 0.2673 - val_rounded_accuracy: 0.9505\n"
     ]
    }
   ],
   "source": [
    "tf.random.set_seed(42)\n",
    "np.random.seed(42)\n",
    "\n",
    "conv_encoder = keras.models.Sequential([\n",
    "    keras.layers.Reshape([28, 28, 1], input_shape=[28, 28]),\n",
    "    keras.layers.Conv2D(16, kernel_size=3, padding=\"SAME\", activation=\"selu\"),\n",
    "    keras.layers.MaxPool2D(pool_size=2),\n",
    "    keras.layers.Conv2D(32, kernel_size=3, padding=\"SAME\", activation=\"selu\"),\n",
    "    keras.layers.MaxPool2D(pool_size=2),\n",
    "    keras.layers.Conv2D(64, kernel_size=3, padding=\"SAME\", activation=\"selu\"),\n",
    "    keras.layers.MaxPool2D(pool_size=2)\n",
    "])\n",
    "\n",
    "conv_decoder = keras.models.Sequential([\n",
    "    keras.layers.Conv2DTranspose(32, kernel_size=3, strides=2, padding=\"VALID\",\n",
    "                                activation=\"selu\", input_shape=[3,3,64]),\n",
    "    keras.layers.Conv2DTranspose(16, kernel_size=3, strides=2, padding=\"SAME\",\n",
    "                                activation=\"selu\"),\n",
    "    keras.layers.Conv2DTranspose(1, kernel_size=3, strides=2,padding=\"SAME\",\n",
    "                                activation=\"sigmoid\"),\n",
    "    keras.layers.Reshape([28, 28])\n",
    "])\n",
    "\n",
    "conv_ae = keras.models.Sequential([conv_encoder, conv_decoder])\n",
    "\n",
    "conv_ae.compile(loss=\"binary_crossentropy\", optimizer=keras.optimizers.SGD(lr=1.0),\n",
    "               metrics=[rounded_accuracy])\n",
    "history = conv_ae.fit(X_train, X_train, epochs=5,\n",
    "                     validation_data=(X_valid, X_valid))"
   ]
  },
  {
   "cell_type": "code",
   "execution_count": 13,
   "metadata": {
    "scrolled": true
   },
   "outputs": [
    {
     "name": "stdout",
     "output_type": "stream",
     "text": [
      "Model: \"sequential_3\"\n",
      "_________________________________________________________________\n",
      "Layer (type)                 Output Shape              Param #   \n",
      "=================================================================\n",
      "reshape_2 (Reshape)          (None, 28, 28, 1)         0         \n",
      "_________________________________________________________________\n",
      "conv2d_3 (Conv2D)            (None, 28, 28, 16)        160       \n",
      "_________________________________________________________________\n",
      "max_pooling2d_3 (MaxPooling2 (None, 14, 14, 16)        0         \n",
      "_________________________________________________________________\n",
      "conv2d_4 (Conv2D)            (None, 14, 14, 32)        4640      \n",
      "_________________________________________________________________\n",
      "max_pooling2d_4 (MaxPooling2 (None, 7, 7, 32)          0         \n",
      "_________________________________________________________________\n",
      "conv2d_5 (Conv2D)            (None, 7, 7, 64)          18496     \n",
      "_________________________________________________________________\n",
      "max_pooling2d_5 (MaxPooling2 (None, 3, 3, 64)          0         \n",
      "=================================================================\n",
      "Total params: 23,296\n",
      "Trainable params: 23,296\n",
      "Non-trainable params: 0\n",
      "_________________________________________________________________\n",
      "Model: \"sequential_4\"\n",
      "_________________________________________________________________\n",
      "Layer (type)                 Output Shape              Param #   \n",
      "=================================================================\n",
      "conv2d_transpose_3 (Conv2DTr (None, 7, 7, 32)          18464     \n",
      "_________________________________________________________________\n",
      "conv2d_transpose_4 (Conv2DTr (None, 14, 14, 16)        4624      \n",
      "_________________________________________________________________\n",
      "conv2d_transpose_5 (Conv2DTr (None, 28, 28, 1)         145       \n",
      "_________________________________________________________________\n",
      "reshape_3 (Reshape)          (None, 28, 28)            0         \n",
      "=================================================================\n",
      "Total params: 23,233\n",
      "Trainable params: 23,233\n",
      "Non-trainable params: 0\n",
      "_________________________________________________________________\n"
     ]
    }
   ],
   "source": [
    "conv_encoder.summary()\n",
    "conv_decoder.summary()"
   ]
  },
  {
   "cell_type": "code",
   "execution_count": 14,
   "metadata": {},
   "outputs": [],
   "source": [
    "def plot_image(image):\n",
    "    plt.imshow(image, cmap=\"binary\")\n",
    "    plt.axis(\"off\")"
   ]
  },
  {
   "cell_type": "code",
   "execution_count": 15,
   "metadata": {},
   "outputs": [],
   "source": [
    "def show_reconstructions(model, images=X_valid, n_images=5):\n",
    "    reconstructions = model.predict(images[:n_images])\n",
    "    fig = plt.figure(figsize=(n_images * 1.5, 3))\n",
    "    for image_index in range(n_images):\n",
    "        plt.subplot(2, n_images, 1 + image_index)\n",
    "        plot_image(images[image_index])\n",
    "        plt.subplot(2, n_images, 1 + n_images + image_index)\n",
    "        plot_image(reconstructions[image_index])"
   ]
  },
  {
   "cell_type": "code",
   "execution_count": 16,
   "metadata": {
    "scrolled": true
   },
   "outputs": [
    {
     "data": {
      "image/png": "[encoded data removed]",
      "text/plain": [
       "<Figure size 540x216 with 10 Axes>"
      ]
     },
     "metadata": {
      "needs_background": "light"
     },
     "output_type": "display_data"
    }
   ],
   "source": [
    "show_reconstructions(conv_ae)\n",
    "plt.show()"
   ]
  },
  {
   "cell_type": "markdown",
   "metadata": {},
   "source": [
    "## Without Pretraining"
   ]
  },
  {
   "cell_type": "code",
   "execution_count": 17,
   "metadata": {},
   "outputs": [
    {
     "name": "stdout",
     "output_type": "stream",
     "text": [
      "Epoch 1/20\n",
      "16/16 [==============================] - 1s 41ms/step - loss: 2.1818 - accuracy: 0.2720 - val_loss: 1.9776 - val_accuracy: 0.4192\n",
      "Epoch 2/20\n",
      "16/16 [==============================] - 0s 22ms/step - loss: 1.7825 - accuracy: 0.5320 - val_loss: 1.6267 - val_accuracy: 0.5346\n",
      "Epoch 3/20\n",
      "16/16 [==============================] - 0s 22ms/step - loss: 1.4093 - accuracy: 0.6000 - val_loss: 1.2615 - val_accuracy: 0.6028\n",
      "Epoch 4/20\n",
      "16/16 [==============================] - 0s 21ms/step - loss: 1.0873 - accuracy: 0.6880 - val_loss: 1.0040 - val_accuracy: 0.6876\n",
      "Epoch 5/20\n",
      "16/16 [==============================] - 0s 22ms/step - loss: 0.9616 - accuracy: 0.6800 - val_loss: 0.9239 - val_accuracy: 0.6928\n",
      "Epoch 6/20\n",
      "16/16 [==============================] - 0s 23ms/step - loss: 0.8771 - accuracy: 0.7020 - val_loss: 0.8572 - val_accuracy: 0.7012\n",
      "Epoch 7/20\n",
      "16/16 [==============================] - 0s 22ms/step - loss: 0.7733 - accuracy: 0.7540 - val_loss: 0.8086 - val_accuracy: 0.7028\n",
      "Epoch 8/20\n",
      "16/16 [==============================] - 0s 22ms/step - loss: 0.7463 - accuracy: 0.7640 - val_loss: 0.7667 - val_accuracy: 0.7146\n",
      "Epoch 9/20\n",
      "16/16 [==============================] - 0s 23ms/step - loss: 0.6980 - accuracy: 0.7680 - val_loss: 0.6994 - val_accuracy: 0.7506\n",
      "Epoch 10/20\n",
      "16/16 [==============================] - 0s 22ms/step - loss: 0.6750 - accuracy: 0.7740 - val_loss: 0.7728 - val_accuracy: 0.6980\n",
      "Epoch 11/20\n",
      "16/16 [==============================] - 0s 21ms/step - loss: 0.6303 - accuracy: 0.7900 - val_loss: 0.7500 - val_accuracy: 0.7344\n",
      "Epoch 12/20\n",
      "16/16 [==============================] - 0s 22ms/step - loss: 0.6246 - accuracy: 0.7840 - val_loss: 1.0044 - val_accuracy: 0.6672\n",
      "Epoch 13/20\n",
      "16/16 [==============================] - 0s 22ms/step - loss: 0.6369 - accuracy: 0.7700 - val_loss: 0.7006 - val_accuracy: 0.7354\n",
      "Epoch 14/20\n",
      "16/16 [==============================] - 0s 21ms/step - loss: 0.5751 - accuracy: 0.7900 - val_loss: 0.8063 - val_accuracy: 0.7056\n",
      "Epoch 15/20\n",
      "16/16 [==============================] - 0s 21ms/step - loss: 0.5777 - accuracy: 0.8080 - val_loss: 0.6540 - val_accuracy: 0.7618\n",
      "Epoch 16/20\n",
      "16/16 [==============================] - 0s 22ms/step - loss: 0.5876 - accuracy: 0.7880 - val_loss: 0.6331 - val_accuracy: 0.7740\n",
      "Epoch 17/20\n",
      "16/16 [==============================] - 0s 22ms/step - loss: 0.5270 - accuracy: 0.8040 - val_loss: 0.6284 - val_accuracy: 0.7690\n",
      "Epoch 18/20\n",
      "16/16 [==============================] - 0s 22ms/step - loss: 0.5225 - accuracy: 0.8120 - val_loss: 0.6209 - val_accuracy: 0.7676\n",
      "Epoch 19/20\n",
      "16/16 [==============================] - 0s 22ms/step - loss: 0.5074 - accuracy: 0.8240 - val_loss: 0.6260 - val_accuracy: 0.7624\n",
      "Epoch 20/20\n",
      "16/16 [==============================] - 0s 21ms/step - loss: 0.4797 - accuracy: 0.8420 - val_loss: 0.6378 - val_accuracy: 0.7740\n"
     ]
    }
   ],
   "source": [
    "tf.random.set_seed(42)\n",
    "np.random.seed(42)\n",
    "\n",
    "X_train_small = X_train[:500]\n",
    "y_train_small = y_train[:500]\n",
    "\n",
    "classifier = keras.models.Sequential([\n",
    "    keras.layers.Reshape([28, 28, 1], input_shape=[28, 28]),\n",
    "    keras.layers.Conv2D(16, kernel_size = 3, padding=\"SAME\", activation=\"selu\"),\n",
    "    keras.layers.MaxPool2D(pool_size=2),\n",
    "    keras.layers.Conv2D(32, kernel_size = 3, padding=\"SAME\", activation=\"selu\"),\n",
    "    keras.layers.MaxPool2D(pool_size=2),\n",
    "    keras.layers.Conv2D(64, kernel_size=3, padding=\"SAME\", activation=\"selu\"),\n",
    "    keras.layers.MaxPool2D(pool_size=2),\n",
    "    keras.layers.Flatten(),\n",
    "    keras.layers.Dense(20, activation=\"selu\"),\n",
    "    keras.layers.Dense(10, activation=\"softmax\")\n",
    "])\n",
    "classifier.compile(loss=\"sparse_categorical_crossentropy\", \n",
    "                   optimizer=keras.optimizers.SGD(lr=0.02), metrics = [\"accuracy\"])\n",
    "\n",
    "history = classifier.fit(X_train_small, y_train_small, epochs=20,\n",
    "                         validation_data=(X_valid, y_valid))"
   ]
  },
  {
   "cell_type": "code",
   "execution_count": 18,
   "metadata": {
    "scrolled": true
   },
   "outputs": [
    {
     "data": {
      "image/png": "[encoded data removed]",
      "text/plain": [
       "<Figure size 432x288 with 1 Axes>"
      ]
     },
     "metadata": {
      "needs_background": "light"
     },
     "output_type": "display_data"
    }
   ],
   "source": [
    "import pandas as pd\n",
    "\n",
    "pd.DataFrame(history.history).plot()\n",
    "plt.show()"
   ]
  },
  {
   "cell_type": "markdown",
   "metadata": {},
   "source": [
    "Using lower layers of trained autoencoder"
   ]
  },
  {
   "cell_type": "code",
   "execution_count": 19,
   "metadata": {},
   "outputs": [],
   "source": [
    "tf.random.set_seed(42)\n",
    "np.random.seed(42)\n",
    "\n",
    "conv_encoder_clone = keras.models.clone_model(conv_encoder)\n",
    "\n",
    "pretrained_clf = keras.models.Sequential([\n",
    "    conv_encoder_clone,\n",
    "    keras.layers.Flatten(),\n",
    "    keras.layers.Dense(20, activation=\"selu\"),\n",
    "    keras.layers.Dense(10, activation=\"softmax\")\n",
    "])"
   ]
  },
  {
   "cell_type": "code",
   "execution_count": 20,
   "metadata": {
    "scrolled": true
   },
   "outputs": [
    {
     "name": "stdout",
     "output_type": "stream",
     "text": [
      "Epoch 1/30\n",
      "16/16 [==============================] - 0s 30ms/step - loss: 2.3133 - accuracy: 0.1680 - val_loss: 2.2306 - val_accuracy: 0.2382\n",
      "Epoch 2/30\n",
      "16/16 [==============================] - 0s 22ms/step - loss: 2.1850 - accuracy: 0.2760 - val_loss: 2.1302 - val_accuracy: 0.3560\n",
      "Epoch 3/30\n",
      "16/16 [==============================] - 0s 25ms/step - loss: 2.0876 - accuracy: 0.4000 - val_loss: 2.0362 - val_accuracy: 0.4132\n",
      "Epoch 4/30\n",
      "16/16 [==============================] - 0s 23ms/step - loss: 1.9943 - accuracy: 0.4720 - val_loss: 1.9561 - val_accuracy: 0.5152\n",
      "Epoch 5/30\n",
      "16/16 [==============================] - 0s 21ms/step - loss: 1.9140 - accuracy: 0.5520 - val_loss: 1.8746 - val_accuracy: 0.5920\n",
      "Epoch 6/30\n",
      "16/16 [==============================] - 0s 21ms/step - loss: 1.8325 - accuracy: 0.6400 - val_loss: 1.7987 - val_accuracy: 0.6340\n",
      "Epoch 7/30\n",
      "16/16 [==============================] - 0s 22ms/step - loss: 1.7564 - accuracy: 0.6660 - val_loss: 1.7221 - val_accuracy: 0.6414\n",
      "Epoch 8/30\n",
      "16/16 [==============================] - 0s 22ms/step - loss: 1.6833 - accuracy: 0.6860 - val_loss: 1.6541 - val_accuracy: 0.6502\n",
      "Epoch 9/30\n",
      "16/16 [==============================] - 0s 22ms/step - loss: 1.6145 - accuracy: 0.7120 - val_loss: 1.5943 - val_accuracy: 0.6514\n",
      "Epoch 10/30\n",
      "16/16 [==============================] - 0s 21ms/step - loss: 1.5544 - accuracy: 0.7020 - val_loss: 1.5282 - val_accuracy: 0.6734\n",
      "Epoch 11/30\n",
      "16/16 [==============================] - 0s 21ms/step - loss: 1.4909 - accuracy: 0.7140 - val_loss: 1.4739 - val_accuracy: 0.6706\n",
      "Epoch 12/30\n",
      "16/16 [==============================] - 0s 21ms/step - loss: 1.4373 - accuracy: 0.7140 - val_loss: 1.4201 - val_accuracy: 0.6764\n",
      "Epoch 13/30\n",
      "16/16 [==============================] - 0s 22ms/step - loss: 1.3876 - accuracy: 0.7380 - val_loss: 1.3725 - val_accuracy: 0.6878\n",
      "Epoch 14/30\n",
      "16/16 [==============================] - 0s 23ms/step - loss: 1.3389 - accuracy: 0.7480 - val_loss: 1.3352 - val_accuracy: 0.6758\n",
      "Epoch 15/30\n",
      "16/16 [==============================] - 0s 21ms/step - loss: 1.2998 - accuracy: 0.7140 - val_loss: 1.2872 - val_accuracy: 0.6950\n",
      "Epoch 16/30\n",
      "16/16 [==============================] - 0s 21ms/step - loss: 1.2573 - accuracy: 0.7180 - val_loss: 1.2526 - val_accuracy: 0.6908\n",
      "Epoch 17/30\n",
      "16/16 [==============================] - 0s 21ms/step - loss: 1.2206 - accuracy: 0.7460 - val_loss: 1.2158 - val_accuracy: 0.6946\n",
      "Epoch 18/30\n",
      "16/16 [==============================] - 0s 22ms/step - loss: 1.1858 - accuracy: 0.7320 - val_loss: 1.1824 - val_accuracy: 0.7024\n",
      "Epoch 19/30\n",
      "16/16 [==============================] - 0s 21ms/step - loss: 1.1544 - accuracy: 0.7380 - val_loss: 1.1519 - val_accuracy: 0.7074\n",
      "Epoch 20/30\n",
      "16/16 [==============================] - 0s 22ms/step - loss: 1.1246 - accuracy: 0.7460 - val_loss: 1.1242 - val_accuracy: 0.7092\n",
      "Epoch 21/30\n",
      "16/16 [==============================] - 0s 21ms/step - loss: 1.0976 - accuracy: 0.7380 - val_loss: 1.0991 - val_accuracy: 0.7086\n",
      "Epoch 22/30\n",
      "16/16 [==============================] - 0s 21ms/step - loss: 1.0717 - accuracy: 0.7560 - val_loss: 1.0753 - val_accuracy: 0.7126\n",
      "Epoch 23/30\n",
      "16/16 [==============================] - 0s 22ms/step - loss: 1.0471 - accuracy: 0.7440 - val_loss: 1.0566 - val_accuracy: 0.7092\n",
      "Epoch 24/30\n",
      "16/16 [==============================] - 0s 22ms/step - loss: 1.0284 - accuracy: 0.7500 - val_loss: 1.0348 - val_accuracy: 0.7160\n",
      "Epoch 25/30\n",
      "16/16 [==============================] - 0s 21ms/step - loss: 1.0054 - accuracy: 0.7580 - val_loss: 1.0176 - val_accuracy: 0.7120\n",
      "Epoch 26/30\n",
      "16/16 [==============================] - 0s 21ms/step - loss: 0.9871 - accuracy: 0.7420 - val_loss: 0.9972 - val_accuracy: 0.7146\n",
      "Epoch 27/30\n",
      "16/16 [==============================] - 0s 23ms/step - loss: 0.9681 - accuracy: 0.7500 - val_loss: 0.9803 - val_accuracy: 0.7196\n",
      "Epoch 28/30\n",
      "16/16 [==============================] - 0s 24ms/step - loss: 0.9527 - accuracy: 0.7500 - val_loss: 0.9660 - val_accuracy: 0.7212\n",
      "Epoch 29/30\n",
      "16/16 [==============================] - 0s 23ms/step - loss: 0.9381 - accuracy: 0.7560 - val_loss: 0.9533 - val_accuracy: 0.7228\n",
      "Epoch 30/30\n",
      "16/16 [==============================] - 0s 23ms/step - loss: 0.9224 - accuracy: 0.7420 - val_loss: 0.9391 - val_accuracy: 0.7250\n"
     ]
    }
   ],
   "source": [
    "conv_encoder_clone.trainable = False\n",
    "pretrained_clf.compile(loss=\"sparse_categorical_crossentropy\",\n",
    "                      optimizer=keras.optimizers.SGD(lr=0.02),\n",
    "                      metrics=[\"accuracy\"])\n",
    "\n",
    "history = pretrained_clf.fit(X_train_small, y_train_small, epochs=30,\n",
    "                            validation_data=(X_valid, y_valid))"
   ]
  },
  {
   "cell_type": "markdown",
   "metadata": {},
   "source": [
    "## With Pretraining"
   ]
  },
  {
   "cell_type": "code",
   "execution_count": 21,
   "metadata": {},
   "outputs": [
    {
     "name": "stdout",
     "output_type": "stream",
     "text": [
      "Epoch 1/20\n",
      "16/16 [==============================] - 1s 35ms/step - loss: 0.8376 - accuracy: 0.7440 - val_loss: 0.7980 - val_accuracy: 0.7214\n",
      "Epoch 2/20\n",
      "16/16 [==============================] - 0s 22ms/step - loss: 0.7373 - accuracy: 0.7660 - val_loss: 0.7892 - val_accuracy: 0.7208\n",
      "Epoch 3/20\n",
      "16/16 [==============================] - 0s 23ms/step - loss: 0.7178 - accuracy: 0.7640 - val_loss: 0.7732 - val_accuracy: 0.7088\n",
      "Epoch 4/20\n",
      "16/16 [==============================] - 0s 22ms/step - loss: 0.6713 - accuracy: 0.7780 - val_loss: 0.7193 - val_accuracy: 0.7312\n",
      "Epoch 5/20\n",
      "16/16 [==============================] - 0s 23ms/step - loss: 0.6546 - accuracy: 0.7620 - val_loss: 0.6884 - val_accuracy: 0.7430\n",
      "Epoch 6/20\n",
      "16/16 [==============================] - 0s 23ms/step - loss: 0.6419 - accuracy: 0.7740 - val_loss: 0.7108 - val_accuracy: 0.7298\n",
      "Epoch 7/20\n",
      "16/16 [==============================] - 0s 22ms/step - loss: 0.5983 - accuracy: 0.8060 - val_loss: 0.6940 - val_accuracy: 0.7322\n",
      "Epoch 8/20\n",
      "16/16 [==============================] - 0s 23ms/step - loss: 0.5904 - accuracy: 0.7860 - val_loss: 0.6622 - val_accuracy: 0.7402\n",
      "Epoch 9/20\n",
      "16/16 [==============================] - 0s 23ms/step - loss: 0.5617 - accuracy: 0.8100 - val_loss: 0.6208 - val_accuracy: 0.7688\n",
      "Epoch 10/20\n",
      "16/16 [==============================] - 0s 22ms/step - loss: 0.5459 - accuracy: 0.8140 - val_loss: 0.6758 - val_accuracy: 0.7408\n",
      "Epoch 11/20\n",
      "16/16 [==============================] - 0s 22ms/step - loss: 0.5216 - accuracy: 0.8320 - val_loss: 0.6663 - val_accuracy: 0.7562\n",
      "Epoch 12/20\n",
      "16/16 [==============================] - 0s 23ms/step - loss: 0.5194 - accuracy: 0.8220 - val_loss: 0.7712 - val_accuracy: 0.7168\n",
      "Epoch 13/20\n",
      "16/16 [==============================] - 0s 23ms/step - loss: 0.5183 - accuracy: 0.8280 - val_loss: 0.6311 - val_accuracy: 0.7576\n",
      "Epoch 14/20\n",
      "16/16 [==============================] - 0s 22ms/step - loss: 0.4735 - accuracy: 0.8300 - val_loss: 0.6847 - val_accuracy: 0.7512\n",
      "Epoch 15/20\n",
      "16/16 [==============================] - 0s 22ms/step - loss: 0.4832 - accuracy: 0.8340 - val_loss: 0.6047 - val_accuracy: 0.7794\n",
      "Epoch 16/20\n",
      "16/16 [==============================] - 0s 23ms/step - loss: 0.4771 - accuracy: 0.8300 - val_loss: 0.5882 - val_accuracy: 0.7898\n",
      "Epoch 17/20\n",
      "16/16 [==============================] - 0s 23ms/step - loss: 0.4523 - accuracy: 0.8480 - val_loss: 0.5889 - val_accuracy: 0.7814\n",
      "Epoch 18/20\n",
      "16/16 [==============================] - 0s 22ms/step - loss: 0.4394 - accuracy: 0.8500 - val_loss: 0.5788 - val_accuracy: 0.7876\n",
      "Epoch 19/20\n",
      "16/16 [==============================] - 0s 23ms/step - loss: 0.4204 - accuracy: 0.8600 - val_loss: 0.5958 - val_accuracy: 0.7724\n",
      "Epoch 20/20\n",
      "16/16 [==============================] - 0s 23ms/step - loss: 0.4032 - accuracy: 0.8640 - val_loss: 0.5951 - val_accuracy: 0.7808\n"
     ]
    }
   ],
   "source": [
    "conv_encoder_clone.trainable = True\n",
    "\n",
    "pretrained_clf.compile(loss=\"sparse_categorical_crossentropy\",\n",
    "                      optimizer=keras.optimizers.SGD(lr=0.02),\n",
    "                      metrics=[\"accuracy\"])\n",
    "history = pretrained_clf.fit(X_train_small, y_train_small, epochs=20,\n",
    "                            validation_data=(X_valid, y_valid))"
   ]
  },
  {
   "cell_type": "markdown",
   "metadata": {},
   "source": [
    "Due to unsupervised pretraining, the model peformance was increased."
   ]
  },
  {
   "cell_type": "code",
   "execution_count": null,
   "metadata": {},
   "outputs": [],
   "source": []
  }
 ],
 "metadata": {
  "kernelspec": {
   "display_name": "Python 3",
   "language": "python",
   "name": "python3"
  },
  "language_info": {
   "codemirror_mode": {
    "name": "ipython",
    "version": 3
   },
   "file_extension": ".py",
   "mimetype": "text/x-python",
   "name": "python",
   "nbconvert_exporter": "python",
   "pygments_lexer": "ipython3",
   "version": "3.8.3"
  }
 },
 "nbformat": 4,
 "nbformat_minor": 4
}
